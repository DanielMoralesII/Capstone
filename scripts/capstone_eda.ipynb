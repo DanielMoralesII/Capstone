{
 "cells": [
  {
   "cell_type": "code",
   "execution_count": null,
   "id": "55977440",
   "metadata": {},
   "outputs": [],
   "source": [
    "import pandas as pd\n",
    "import matplotlib.pyplot as plt\n",
    "import seaborn as sns\n",
    "import numpy as np\n",
    "\n",
    "%matplotlib inline"
   ]
  },
  {
   "cell_type": "markdown",
   "id": "4a499e90",
   "metadata": {},
   "source": [
    "#### Read in first dataset - Form I dataset includes baseline demographic and clinical information of persons who met eligibility criteria."
   ]
  },
  {
   "cell_type": "code",
   "execution_count": null,
   "id": "b3b45184",
   "metadata": {},
   "outputs": [],
   "source": [
    "f1 = pd.read_csv('C:/Users/dmora/Documents/NSS/Capstone/data/f1_public_2021.csv')\n",
    "f1"
   ]
  },
  {
   "cell_type": "markdown",
   "id": "82a99ba5",
   "metadata": {},
   "source": [
    "#### Create df of base variables"
   ]
  },
  {
   "cell_type": "code",
   "execution_count": null,
   "id": "65d7d192",
   "metadata": {},
   "outputs": [],
   "source": [
    "f1_base = (\n",
    "    f1\n",
    "    [[\n",
    "        'UniID', 'AAdmDt', 'ARbAdmDt', 'ADisDt',\n",
    "        'AI2ADays', 'AI2RhADa', 'AInjAge', 'ASex', \n",
    "        'APResInj', 'APResDis',\n",
    "        'AMarStIj', 'AEducLvl','ABPHQ1', \n",
    "        'ABPHQ2', 'ABPHQ9', 'ABPHQ6', 'ABPHQMDS',\n",
    "        'ABPHQSDS', 'APrLvlSt', 'AFmIncLv', 'AHDaSyRb',\n",
    "        'AFScorRb', 'AFScorDs', 'AInjDt', 'ALivBrth', 'ASFPaTe',\n",
    "        \n",
    "        \n",
    "    ]]\n",
    "   \n",
    ")\n",
    "\n",
    "f1_base"
   ]
  },
  {
   "cell_type": "markdown",
   "id": "35c5c921",
   "metadata": {},
   "source": [
    "#### Rename columns for easier understanding."
   ]
  },
  {
   "cell_type": "code",
   "execution_count": null,
   "id": "ffa93a62",
   "metadata": {},
   "outputs": [],
   "source": [
    "f1_base = f1_base.rename(columns={'UniID' : 'unique_id', 'AAdmDt' : 'sys_adm_dt', 'ARbAdmDt' : 'reh_adm_dt', 'ADisDt' : 'discharge_dt', \n",
    "                          'AI2ADays' : 'days_inj_to_sys', 'AI2RhADa' : 'days_inj_to_reh',  'AInjAge' : 'age_at_injury', 'ASex': 'sex',\n",
    "                          'APResInj' : 'res_at_inj','APResDis' : 'res_at_dis', \n",
    "                          'AMarStIj' : 'marital_stat_ai', 'AEducLvl' : 'educ_lvl_ai', 'ABPHQ1' : 'interest_or_pleasure', \n",
    "                          'ABPHQ2' : 'depressed', 'ABPHQ9' : 'self_harm', 'ABPHQ6' : 'feel_bad', 'ABPHQMDS': 'depressive_syndrome', \n",
    "                          'ABPHQSDS' : 'severity_of_depression', 'APrLvlSt' : 'occup_status', 'AFmIncLv' : 'income_level', \n",
    "                          'AHDaSyRb' : 'days_rehab1'})\n",
    "\n",
    "f1_base"
   ]
  },
  {
   "cell_type": "markdown",
   "id": "d4739ccf",
   "metadata": {},
   "source": [
    "#### Fill in n/a values in rehab_adm_dt column, so we can then change to int for year consistency across the df."
   ]
  },
  {
   "cell_type": "code",
   "execution_count": null,
   "id": "b27af72a",
   "metadata": {},
   "outputs": [],
   "source": [
    "f1_base['reh_adm_dt'] = f1_base['reh_adm_dt'].fillna(0)\n",
    "f1_base"
   ]
  },
  {
   "cell_type": "markdown",
   "id": "0f14186f",
   "metadata": {},
   "source": [
    "#### Change dtype of reh_adm_dt to integer"
   ]
  },
  {
   "cell_type": "code",
   "execution_count": null,
   "id": "9821a87c",
   "metadata": {},
   "outputs": [],
   "source": [
    "f1_base['reh_adm_dt'] = f1_base['reh_adm_dt'].astype('int')"
   ]
  },
  {
   "cell_type": "markdown",
   "id": "aad1b325",
   "metadata": {},
   "source": [
    "#### Run loop on sex column to create gender column to include gender name"
   ]
  },
  {
   "cell_type": "code",
   "execution_count": null,
   "id": "21d62c99",
   "metadata": {},
   "outputs": [],
   "source": [
    "for ind, row in f1_base.iterrows():\n",
    "    if row.sex == 1:\n",
    "        f1_base.loc[ind, 'gender'] = 'm'\n",
    "    elif row.sex == 2:\n",
    "        f1_base.loc[ind, 'gender'] = 'f'\n",
    "    elif row.sex == 3:\n",
    "        f1_base.loc[ind, 'gender'] = 't'\n",
    "    elif row.sex == 9:\n",
    "        f1_base.loc[ind, 'gender'] = 'u'"
   ]
  },
  {
   "cell_type": "markdown",
   "id": "c20e55ef",
   "metadata": {},
   "source": [
    "#### Drop sex column"
   ]
  },
  {
   "cell_type": "code",
   "execution_count": null,
   "id": "4f3db90a",
   "metadata": {},
   "outputs": [],
   "source": [
    "f1_base = f1_base.drop('sex', axis = 1)\n",
    "f1_base"
   ]
  },
  {
   "cell_type": "markdown",
   "id": "ec82bc45",
   "metadata": {},
   "source": [
    "#### Run loop on res_at_inj column to create res_at_inj column to include type of residence instead of #"
   ]
  },
  {
   "cell_type": "code",
   "execution_count": null,
   "id": "9f9df4aa",
   "metadata": {},
   "outputs": [],
   "source": [
    "for ind, row in f1_base.iterrows():\n",
    "    if row.res_at_inj == 1:\n",
    "        f1_base.loc[ind, 'res_at_injb'] = 'pri_res'\n",
    "    elif row.res_at_inj == 2:\n",
    "        f1_base.loc[ind, 'res_at_injb'] = 'hospital'\n",
    "    elif row.res_at_inj == 3:\n",
    "        f1_base.loc[ind, 'res_at_injb'] = 'nurs_home'\n",
    "    elif row.res_at_inj == 4:\n",
    "        f1_base.loc[ind, 'res_at_injb'] = 'group'\n",
    "    elif row.res_at_inj == 5:\n",
    "        f1_base.loc[ind, 'res_at_injb'] = 'correctional'\n",
    "    elif row.res_at_inj == 6:\n",
    "        f1_base.loc[ind, 'res_at_injb'] = 'motel'\n",
    "    elif row.res_at_inj == 7:\n",
    "        f1_base.loc[ind, 'res_at_injb'] = 'deceased'\n",
    "    elif row.res_at_inj == 8:\n",
    "        f1_base.loc[ind, 'res_at_injb'] = 'other'\n",
    "    elif row.res_at_inj == 9:\n",
    "        f1_base.loc[ind, 'res_at_injb'] = 'homeless'    \n",
    "    elif row.res_at_inj == 10:\n",
    "        f1_base.loc[ind, 'res_at_injb'] = 'assisted'    \n",
    "    elif row.res_at_inj == 99:\n",
    "        f1_base.loc[ind, 'res_at_injb'] = 'unknown'     "
   ]
  },
  {
   "cell_type": "markdown",
   "id": "93a01d8d",
   "metadata": {},
   "source": [
    "#### Drop original numerical res_at_inj column"
   ]
  },
  {
   "cell_type": "code",
   "execution_count": null,
   "id": "89a8bb92",
   "metadata": {},
   "outputs": [],
   "source": [
    "f1_base = f1_base.drop('res_at_inj', axis = 1)\n",
    "f1_base"
   ]
  },
  {
   "cell_type": "markdown",
   "id": "642196f8",
   "metadata": {},
   "source": [
    "#### Run loop on res_at_dis column to create res_at_dis column to include type of residence instead of #"
   ]
  },
  {
   "cell_type": "code",
   "execution_count": null,
   "id": "70fecdcc",
   "metadata": {},
   "outputs": [],
   "source": [
    "for ind, row in f1_base.iterrows():\n",
    "    if row.res_at_dis == 1:\n",
    "        f1_base.loc[ind, 'res_at_disb'] = 'pri_res'\n",
    "    elif row.res_at_dis == 2:\n",
    "        f1_base.loc[ind, 'res_at_disb'] = 'hospital'\n",
    "    elif row.res_at_dis == 3:\n",
    "        f1_base.loc[ind, 'res_at_disb'] = 'nurs_home'\n",
    "    elif row.res_at_dis == 4:\n",
    "        f1_base.loc[ind, 'res_at_disb'] = 'group'\n",
    "    elif row.res_at_dis == 5:\n",
    "        f1_base.loc[ind, 'res_at_disb'] = 'correctional'\n",
    "    elif row.res_at_dis == 6:\n",
    "        f1_base.loc[ind, 'res_at_disb'] = 'motel'\n",
    "    elif row.res_at_dis == 7:\n",
    "        f1_base.loc[ind, 'res_at_disb'] = 'deceased'\n",
    "    elif row.res_at_dis == 8:\n",
    "        f1_base.loc[ind, 'res_at_disb'] = 'other'\n",
    "    elif row.res_at_dis == 9:\n",
    "        f1_base.loc[ind, 'res_at_disb'] = 'homeless'    \n",
    "    elif row.res_at_dis == 10:\n",
    "        f1_base.loc[ind, 'res_at_disb'] = 'assisted'    \n",
    "    elif row.res_at_dis == 99:\n",
    "        f1_base.loc[ind, 'res_at_disb'] = 'unknown'"
   ]
  },
  {
   "cell_type": "markdown",
   "id": "fe513571",
   "metadata": {},
   "source": [
    "#### Drop original res_at_dis column"
   ]
  },
  {
   "cell_type": "code",
   "execution_count": null,
   "id": "0373fbba",
   "metadata": {},
   "outputs": [],
   "source": [
    "f1_base = f1_base.drop('res_at_dis', axis = 1)\n",
    "f1_base"
   ]
  },
  {
   "cell_type": "code",
   "execution_count": null,
   "id": "39190130",
   "metadata": {},
   "outputs": [],
   "source": [
    "f1_base = f1_base.rename(columns={'res_at_injb' : 'res_at_inj', 'res_at_disb' : 'res_at_dis'})\n",
    "f1_base"
   ]
  },
  {
   "cell_type": "code",
   "execution_count": null,
   "id": "ffc083c5",
   "metadata": {},
   "outputs": [],
   "source": [
    "for ind, row in f1_base.iterrows():\n",
    "    if row.marital_stat_ai == 1:\n",
    "        f1_base.loc[ind, 'marital_stat_aib'] = 'single'\n",
    "    elif row.marital_stat_ai == 2:\n",
    "        f1_base.loc[ind, 'marital_stat_aib'] = 'married'\n",
    "    elif row.marital_stat_ai == 3:\n",
    "        f1_base.loc[ind, 'marital_stat_aib'] = 'divorced'\n",
    "    elif row.marital_stat_ai == 4:\n",
    "        f1_base.loc[ind, 'marital_stat_aib'] = 'separated'\n",
    "    elif row.marital_stat_ai == 5:\n",
    "        f1_base.loc[ind, 'marital_stat_aib'] = 'widowed'\n",
    "    elif row.marital_stat_ai == 6:\n",
    "        f1_base.loc[ind, 'marital_stat_aib'] = 'other'\n",
    "    elif row.marital_stat_ai == 7:\n",
    "        f1_base.loc[ind, 'marital_stat_aib'] = 'living_with'\n",
    "    elif row.marital_stat_ai == 9:\n",
    "        f1_base.loc[ind, 'marital_stat_aib'] = 'unknown'    "
   ]
  },
  {
   "cell_type": "code",
   "execution_count": null,
   "id": "4e63c623",
   "metadata": {},
   "outputs": [],
   "source": [
    "f1_base"
   ]
  },
  {
   "cell_type": "code",
   "execution_count": null,
   "id": "8c06bcf0",
   "metadata": {},
   "outputs": [],
   "source": [
    "f1_base = f1_base.drop('marital_stat_ai', axis = 1)\n",
    "f1_base"
   ]
  },
  {
   "cell_type": "code",
   "execution_count": null,
   "id": "68ab3fde",
   "metadata": {},
   "outputs": [],
   "source": [
    "for ind, row in f1_base.iterrows():\n",
    "    if row.educ_lvl_ai == 1:\n",
    "        f1_base.loc[ind, 'educ_lvl_aib'] = '8th_Grade_Or_Lower'\n",
    "    elif row.educ_lvl_ai == 2:\n",
    "        f1_base.loc[ind, 'educ_lvl_aib'] = '9th_Grade-11th_Grade'\n",
    "    elif row.educ_lvl_ai == 3:\n",
    "        f1_base.loc[ind, 'educ_lvl_aib'] = 'High_School_Diploma'\n",
    "    elif row.educ_lvl_ai == 4:\n",
    "        f1_base.loc[ind, 'educ_lvl_aib'] = 'Associates_Degree'\n",
    "    elif row.educ_lvl_ai == 5:\n",
    "        f1_base.loc[ind, 'educ_lvl_aib'] = 'Bachelors_Degree'\n",
    "    elif row.educ_lvl_ai == 6:\n",
    "        f1_base.loc[ind, 'educ_lvl_aib'] = 'Masters_Degree'\n",
    "    elif row.educ_lvl_ai == 7:\n",
    "        f1_base.loc[ind, 'educ_lvl_aib'] = 'Doctorate_Degree'\n",
    "    elif row.educ_lvl_ai == 8:\n",
    "        f1_base.loc[ind, 'educ_lvl_aib'] = 'Other'    \n",
    "    elif row.educ_lvl_ai == 9:\n",
    "        f1_base.loc[ind, 'educ_lvl_aib'] = 'Unknown'    "
   ]
  },
  {
   "cell_type": "code",
   "execution_count": null,
   "id": "9df0a1fd",
   "metadata": {},
   "outputs": [],
   "source": [
    "f1_base = f1_base.drop('educ_lvl_ai', axis = 1)\n",
    "f1_base"
   ]
  },
  {
   "cell_type": "code",
   "execution_count": null,
   "id": "513ecf08",
   "metadata": {},
   "outputs": [],
   "source": [
    "for ind, row in f1_base.iterrows():\n",
    "    if row.interest_or_pleasure == 0:\n",
    "        f1_base.loc[ind, 'int_or_pleas'] = 'none'\n",
    "    elif row.interest_or_pleasure == 1:\n",
    "        f1_base.loc[ind, 'int_or_pleas'] = 'several_days'\n",
    "    elif row.interest_or_pleasure == 2:\n",
    "        f1_base.loc[ind, 'int_or_pleas'] = 'more_than_half'\n",
    "    elif row.interest_or_pleasure == 3:\n",
    "        f1_base.loc[ind, 'int_or_pleas'] = 'nearly_every_day'\n",
    "    elif row.interest_or_pleasure == 7:\n",
    "        f1_base.loc[ind, 'int_or_pleas'] = 'declined'\n",
    "    elif row.interest_or_pleasure == 9:\n",
    "        f1_base.loc[ind, 'int_or_pleas'] = 'unknown'"
   ]
  },
  {
   "cell_type": "code",
   "execution_count": null,
   "id": "56c0372e",
   "metadata": {},
   "outputs": [],
   "source": [
    "f1_base = f1_base.drop('interest_or_pleasure', axis = 1)\n",
    "f1_base"
   ]
  },
  {
   "cell_type": "code",
   "execution_count": null,
   "id": "f26e7558",
   "metadata": {},
   "outputs": [],
   "source": [
    "f1_base"
   ]
  },
  {
   "cell_type": "code",
   "execution_count": null,
   "id": "01e54f77",
   "metadata": {},
   "outputs": [],
   "source": [
    "for ind, row in f1_base.iterrows():\n",
    "    if row.depressed == 0:\n",
    "        f1_base.loc[ind, 'depressedb'] = 'none'\n",
    "    elif row.depressed == 1:\n",
    "        f1_base.loc[ind, 'depressedb'] = 'several_days'\n",
    "    elif row.depressed == 2:\n",
    "        f1_base.loc[ind, 'depressedb'] = 'more_than_half'\n",
    "    elif row.depressed == 3:\n",
    "        f1_base.loc[ind, 'depressedb'] = 'nearly_every_day'\n",
    "    elif row.depressed == 7:\n",
    "        f1_base.loc[ind, 'depressedb'] = 'declined'\n",
    "    elif row.depressed == 9:\n",
    "        f1_base.loc[ind, 'depressedb'] = 'unknown'"
   ]
  },
  {
   "cell_type": "code",
   "execution_count": null,
   "id": "f3bf0b22",
   "metadata": {},
   "outputs": [],
   "source": [
    "f1_base = f1_base.drop('depressed', axis = 1)\n",
    "f1_base"
   ]
  },
  {
   "cell_type": "code",
   "execution_count": null,
   "id": "857d526e",
   "metadata": {},
   "outputs": [],
   "source": [
    "for ind, row in f1_base.iterrows():\n",
    "    if row.self_harm == 0:\n",
    "        f1_base.loc[ind, 'self_harmb'] = 'none'\n",
    "    elif row.self_harm == 1:\n",
    "        f1_base.loc[ind, 'self_harmb'] = 'several_days'\n",
    "    elif row.self_harm == 2:\n",
    "        f1_base.loc[ind, 'self_harmb'] = 'more_than_half'\n",
    "    elif row.self_harm == 3:\n",
    "        f1_base.loc[ind, 'self_harmb'] = 'nearly_every_day'\n",
    "    elif row.self_harm == 7:\n",
    "        f1_base.loc[ind, 'self_harmb'] = 'declined'\n",
    "    elif row.self_harm == 9:\n",
    "        f1_base.loc[ind, 'self_harmb'] = 'unknown'"
   ]
  },
  {
   "cell_type": "code",
   "execution_count": null,
   "id": "906748e1",
   "metadata": {},
   "outputs": [],
   "source": [
    "f1_base = f1_base.drop('self_harm', axis = 1)\n",
    "f1_base"
   ]
  },
  {
   "cell_type": "code",
   "execution_count": null,
   "id": "e7f7375d",
   "metadata": {},
   "outputs": [],
   "source": [
    "for ind, row in f1_base.iterrows():\n",
    "    if row.feel_bad == 0:\n",
    "        f1_base.loc[ind, 'feel_badb'] = 'none'\n",
    "    elif row.feel_bad == 1:\n",
    "        f1_base.loc[ind, 'feel_badb'] = 'several_days'\n",
    "    elif row.feel_bad == 2:\n",
    "        f1_base.loc[ind, 'feel_badb'] = 'more_than_half'\n",
    "    elif row.feel_bad == 3:\n",
    "        f1_base.loc[ind, 'feel_badb'] = 'nearly_every_day'\n",
    "    elif row.feel_bad == 7:\n",
    "        f1_base.loc[ind, 'feel_badb'] = 'declined'\n",
    "    elif row.feel_bad == 9:\n",
    "        f1_base.loc[ind, 'feel_badb'] = 'unknown'"
   ]
  },
  {
   "cell_type": "code",
   "execution_count": null,
   "id": "bb47759a",
   "metadata": {},
   "outputs": [],
   "source": [
    "f1_base = f1_base.drop('feel_bad', axis = 1)\n",
    "f1_base"
   ]
  },
  {
   "cell_type": "code",
   "execution_count": null,
   "id": "6ae85bd2",
   "metadata": {},
   "outputs": [],
   "source": [
    "for ind, row in f1_base.iterrows():\n",
    "    if row.depressive_syndrome == 0:\n",
    "        f1_base.loc[ind, 'dep_syn'] = 'none'\n",
    "    elif row.depressive_syndrome == 1:\n",
    "        f1_base.loc[ind, 'dep_syn'] = 'major'\n",
    "    elif row.depressive_syndrome == 2:\n",
    "        f1_base.loc[ind, 'dep_syn'] = 'other'\n",
    "    elif row.depressive_syndrome == 9:\n",
    "        f1_base.loc[ind, 'dep_syn'] = 'unknown'"
   ]
  },
  {
   "cell_type": "code",
   "execution_count": null,
   "id": "d9d47581",
   "metadata": {},
   "outputs": [],
   "source": [
    "f1_base = f1_base.drop('depressive_syndrome', axis = 1)\n",
    "f1_base"
   ]
  },
  {
   "cell_type": "code",
   "execution_count": null,
   "id": "baa4cba4",
   "metadata": {},
   "outputs": [],
   "source": [
    "for ind, row in f1_base.iterrows():\n",
    "    if row.occup_status == 1:\n",
    "        f1_base.loc[ind, 'occ_stat'] = 'working'\n",
    "    elif row.occup_status == 2:\n",
    "        f1_base.loc[ind, 'occ_stat'] = 'homemaker'\n",
    "    elif row.occup_status == 3:\n",
    "        f1_base.loc[ind, 'occ_stat'] = 'otj_train'\n",
    "    elif row.occup_status == 4:\n",
    "        f1_base.loc[ind, 'occ_stat'] = 'shel_work'\n",
    "    elif row.occup_status == 5:\n",
    "        f1_base.loc[ind, 'occ_stat'] = 'retired'\n",
    "    elif row.occup_status == 6:\n",
    "        f1_base.loc[ind, 'occ_stat'] = 'student'\n",
    "    elif row.occup_status == 7:\n",
    "        f1_base.loc[ind, 'occ_stat'] = 'unemployed'\n",
    "    elif row.occup_status == 8:\n",
    "        f1_base.loc[ind, 'occ_stat'] = 'retired_dis'\n",
    "    elif row.occup_status == 9:\n",
    "        f1_base.loc[ind, 'occ_stat'] = 'retired_nondis'   \n",
    "    elif row.occup_status == 10:\n",
    "        f1_base.loc[ind, 'occ_stat'] = 'other'\n",
    "    elif row.occup_status == 99:\n",
    "        f1_base.loc[ind, 'occ_stat'] = 'unknown'       "
   ]
  },
  {
   "cell_type": "code",
   "execution_count": null,
   "id": "d25399cb",
   "metadata": {},
   "outputs": [],
   "source": [
    "f1_base = f1_base.drop('occup_status', axis = 1)\n",
    "f1_base"
   ]
  },
  {
   "cell_type": "code",
   "execution_count": null,
   "id": "658f738f",
   "metadata": {},
   "outputs": [],
   "source": [
    "for ind, row in f1_base.iterrows():\n",
    "    if row.income_level == 1:\n",
    "        f1_base.loc[ind, 'inc_lvl1'] = 'lt25k'\n",
    "    elif row.income_level == 2:\n",
    "        f1_base.loc[ind, 'inc_lvl1'] = '25k_49999'\n",
    "    elif row.income_level == 3:\n",
    "        f1_base.loc[ind, 'inc_lvl1'] = '50k_74999'\n",
    "    elif row.income_level == 4:\n",
    "        f1_base.loc[ind, 'inc_lvl1'] = '75pl'\n",
    "    elif row.income_level == 6:\n",
    "        f1_base.loc[ind, 'inc_lvl1'] = 'not_sure'\n",
    "    elif row.income_level == 7:\n",
    "        f1_base.loc[ind, 'inc_lvl1'] = 'declined'\n",
    "    elif row.income_level == 9:\n",
    "        f1_base.loc[ind, 'inc_lvl1'] = 'unknown'   "
   ]
  },
  {
   "cell_type": "code",
   "execution_count": null,
   "id": "0e9d7e14",
   "metadata": {},
   "outputs": [],
   "source": [
    "f1_base = f1_base.drop('income_level', axis = 1)\n",
    "f1_base"
   ]
  },
  {
   "cell_type": "code",
   "execution_count": null,
   "id": "96e0b3b8",
   "metadata": {},
   "outputs": [],
   "source": [
    "f1_base = f1_base.rename(columns={'age_at_injury' : 'age1', 'severity_of_depression' : 'sev_dep', 'res_at_inj' : 'res1', 'marital_stat_aib' : 'mar_stat1',\n",
    "                                  'educ_lvl_aib' : 'educ_lvl1', 'int_or_pleas' : 'int_pleas1', 'depressedb' : 'depr1', 'self_harmb' : 'self_harm1',\n",
    "                                  'feel_badb' : 'feel_bad1', 'dep_syn' : 'dep_syn1', 'occ_stat' : 'occ_stat1'})\n",
    "\n"
   ]
  },
  {
   "cell_type": "code",
   "execution_count": null,
   "id": "0e4a08ee",
   "metadata": {
    "scrolled": true
   },
   "outputs": [],
   "source": [
    "f1_base.AInjDt.value_counts().sort_values()"
   ]
  },
  {
   "cell_type": "code",
   "execution_count": null,
   "id": "a1707ead",
   "metadata": {},
   "outputs": [],
   "source": [
    "f1_base"
   ]
  },
  {
   "cell_type": "code",
   "execution_count": null,
   "id": "280d6a5b",
   "metadata": {},
   "outputs": [],
   "source": [
    "f1_base[['unique_id', 'educ_lvl1']]"
   ]
  },
  {
   "cell_type": "markdown",
   "id": "18c15160",
   "metadata": {},
   "source": [
    "#### Run all columns through the below bar chart to identify which variables have a large amount of unknowns."
   ]
  },
  {
   "cell_type": "code",
   "execution_count": null,
   "id": "19b06fba",
   "metadata": {},
   "outputs": [],
   "source": [
    "f1_base['inc_lvl1'].value_counts().plot(kind = 'bar');"
   ]
  },
  {
   "cell_type": "markdown",
   "id": "b2c73727",
   "metadata": {},
   "source": [
    "#### Read in second dataset - Form II dataset includes sociodemographic and outcome data of Form I participants obtained at follow-up."
   ]
  },
  {
   "cell_type": "code",
   "execution_count": null,
   "id": "440bb1b7",
   "metadata": {},
   "outputs": [],
   "source": [
    "f2 = pd.read_csv('C:/Users/dmora/Documents/NSS/Capstone/data/f2_public_2021.csv')"
   ]
  },
  {
   "cell_type": "code",
   "execution_count": null,
   "id": "e9f7b188",
   "metadata": {},
   "outputs": [],
   "source": [
    "f2_base = (\n",
    "    f2\n",
    "    [[\n",
    "        'UniID', 'BYear', 'BPlcRes', 'BMarStat',\n",
    "        'BMarStCh', 'BEducLvl', 'BBPHQ1', 'BBPHQ2',\n",
    "        'BBPHQ9', 'BBPHQ6', 'BBPHQMDS', 'BBPHQSDS',\n",
    "        'BPrLvlSt', 'BFmIncLv', 'BSPHthSt', 'BSPHthRC', \n",
    "        'BRhspRs1', 'BRhspRs2', 'BRhspRs3', 'BRhspRs4',\n",
    "        'BRhspRs5', 'BRhspRs6', 'BRhspRs7', 'BRhspRs8',\n",
    "        'BRhspNbr', 'BLivBrth', 'BLifSatT',\n",
    "        \n",
    "        \n",
    "    ]]\n",
    "   \n",
    ")\n"
   ]
  },
  {
   "cell_type": "code",
   "execution_count": null,
   "id": "41cefe82",
   "metadata": {},
   "outputs": [],
   "source": [
    "f2_base = f2_base.rename(columns={'UniID' : 'unique_id', 'BYear' : 'post_inj_yr', 'BPlcRes' : 'res_pi', 'BMarStat' : 'marital_stat_pi',\n",
    "        'BMarStCh' : 'marital_stat_change', 'BEducLvl' : 'educ_lvl_pi', 'BBPHQ1' : 'interest_or_pleaseure_pi', 'BBPHQ2' : 'depressed_pi',\n",
    "        'BBPHQ9' : 'self_harm_pi','BBPHQ6' : 'feel_bad_pi','BBPHQMDS': 'depressive_syndrome_pi', 'BBPHQSDS' : 'sev_dep2',\n",
    "        'BPrLvlSt' : 'occup_status_pi', 'BFmIncLv' : 'income_level'})"
   ]
  },
  {
   "cell_type": "code",
   "execution_count": null,
   "id": "1b4b92fb",
   "metadata": {},
   "outputs": [],
   "source": [
    "f2_base['res_pi'] = f2_base['res_pi'].fillna(0)\n",
    "f2_base"
   ]
  },
  {
   "cell_type": "code",
   "execution_count": null,
   "id": "5f04af03",
   "metadata": {},
   "outputs": [],
   "source": [
    "f2_base['res_pi'] = f2_base['res_pi'].astype('int')"
   ]
  },
  {
   "cell_type": "code",
   "execution_count": null,
   "id": "5eda9555",
   "metadata": {},
   "outputs": [],
   "source": [
    "for ind, row in f2_base.iterrows():\n",
    "    if row.res_pi == 1:\n",
    "        f2_base.loc[ind, 'res2'] = 'pri_res'\n",
    "    elif row.res_pi == 2:\n",
    "        f2_base.loc[ind, 'res2'] = 'hospital'\n",
    "    elif row.res_pi == 3:\n",
    "        f2_base.loc[ind, 'res2'] = 'nurs_home'\n",
    "    elif row.res_pi == 4:\n",
    "        f2_base.loc[ind, 'res2'] = 'group'\n",
    "    elif row.res_pi == 5:\n",
    "        f2_base.loc[ind, 'res2'] = 'correctional'\n",
    "    elif row.res_pi == 6:\n",
    "        f2_base.loc[ind, 'res2'] = 'motel'\n",
    "    elif row.res_pi == 8:\n",
    "        f2_base.loc[ind, 'res2'] = 'other'\n",
    "    elif row.res_pi == 9:\n",
    "        f2_base.loc[ind, 'res2'] = 'homeless'    \n",
    "    elif row.res_pi == 10:\n",
    "        f2_base.loc[ind, 'res2'] = 'assisted'    \n",
    "    elif row.res_pi == 99:\n",
    "        f2_base.loc[ind, 'res2'] = 'unknown'   "
   ]
  },
  {
   "cell_type": "code",
   "execution_count": null,
   "id": "369113c4",
   "metadata": {},
   "outputs": [],
   "source": [
    "f2_base = f2_base.drop('res_pi', axis = 1)"
   ]
  },
  {
   "cell_type": "code",
   "execution_count": null,
   "id": "530376ec",
   "metadata": {},
   "outputs": [],
   "source": [
    "for ind, row in f2_base.iterrows():\n",
    "    if row.marital_stat_pi == 1:\n",
    "        f2_base.loc[ind, 'mar_stat2'] = 'single'\n",
    "    elif row.marital_stat_pi == 2:\n",
    "        f2_base.loc[ind, 'mar_stat2'] = 'married'\n",
    "    elif row.marital_stat_pi == 3:\n",
    "        f2_base.loc[ind, 'mar_stat2'] = 'divorced'\n",
    "    elif row.marital_stat_pi == 4:\n",
    "        f2_base.loc[ind, 'mar_stat2'] = 'separated'\n",
    "    elif row.marital_stat_pi == 5:\n",
    "        f2_base.loc[ind, 'mar_stat2'] = 'widowed'\n",
    "    elif row.marital_stat_pi == 6:\n",
    "        f2_base.loc[ind, 'mar_stat2'] = 'other'\n",
    "    elif row.marital_stat_pi == 7:\n",
    "        f2_base.loc[ind, 'mar_stat2'] = 'living_with'\n",
    "    elif row.marital_stat_pi == 9:\n",
    "        f2_base.loc[ind, 'mar_stat2'] = 'unknown'    "
   ]
  },
  {
   "cell_type": "code",
   "execution_count": null,
   "id": "96419d21",
   "metadata": {},
   "outputs": [],
   "source": [
    "f2_base = f2_base.drop('marital_stat_pi', axis = 1)"
   ]
  },
  {
   "cell_type": "code",
   "execution_count": null,
   "id": "74f3748f",
   "metadata": {},
   "outputs": [],
   "source": [
    "for ind, row in f2_base.iterrows():\n",
    "    if row.marital_stat_change == 0:\n",
    "        f2_base.loc[ind, 'mar_stat_up2'] = 'no_up'\n",
    "    elif row.marital_stat_change == 1:\n",
    "        f2_base.loc[ind, 'mar_stat_up2'] = 'div'\n",
    "    elif row.marital_stat_change == 2:\n",
    "        f2_base.loc[ind, 'mar_stat_up2'] = 'mar'\n",
    "    elif row.marital_stat_change == 3:\n",
    "        f2_base.loc[ind, 'mar_stat_up2'] = 'wid'\n",
    "    elif row.marital_stat_change == 4:\n",
    "        f2_base.loc[ind, 'mar_stat_up2'] = 'div_mar'\n",
    "    elif row.marital_stat_change == 5:\n",
    "        f2_base.loc[ind, 'mar_stat_up2'] = 'wid_mar'\n",
    "    elif row.marital_stat_change == 6:\n",
    "        f2_base.loc[ind, 'mar_stat_up2'] = 'div_mar_wid'\n",
    "    elif row.marital_stat_change == 7:\n",
    "        f2_base.loc[ind, 'mar_stat_up2'] = 'other'\n",
    "    elif row.marital_stat_change == 8:\n",
    "        f2_base.loc[ind, 'mar_stat_up2'] = 'so_part'    \n",
    "    elif row.marital_stat_change == 9:\n",
    "        f2_base.loc[ind, 'mar_stat_up2']= 'unknown' "
   ]
  },
  {
   "cell_type": "code",
   "execution_count": null,
   "id": "abbaec15",
   "metadata": {},
   "outputs": [],
   "source": [
    "f2_base = f2_base.drop('marital_stat_change', axis = 1)"
   ]
  },
  {
   "cell_type": "code",
   "execution_count": null,
   "id": "6664ea8a",
   "metadata": {},
   "outputs": [],
   "source": [
    "f2_base['educ_lvl_pi'].value_counts(dropna = False)"
   ]
  },
  {
   "cell_type": "code",
   "execution_count": null,
   "id": "fc2cbd54",
   "metadata": {},
   "outputs": [],
   "source": [
    "for ind, row in f2_base.iterrows():\n",
    "    if row.educ_lvl_pi == 1:\n",
    "        f2_base.loc[ind, 'educ_lvl2'] = '8th_Grade_Or_Lower'\n",
    "    elif row.educ_lvl_pi == 2:\n",
    "        f2_base.loc[ind, 'educ_lvl2'] = '9th_Grade-11th_Grade'\n",
    "    elif row.educ_lvl_pi == 3:\n",
    "        f2_base.loc[ind, 'educ_lvl2'] = 'High_School_Diploma'\n",
    "    elif row.educ_lvl_pi == 4:\n",
    "        f2_base.loc[ind, 'educ_lvl2'] = 'Associates_Degree'\n",
    "    elif row.educ_lvl_pi == 5:\n",
    "        f2_base.loc[ind, 'educ_lvl2'] = 'Bachelors_Degree'\n",
    "    elif row.educ_lvl_pi == 6:\n",
    "        f2_base.loc[ind, 'educ_lvl2'] = 'Masters_Degree'\n",
    "    elif row.educ_lvl_pi== 7:\n",
    "        f2_base.loc[ind, 'educ_lvl2'] = 'Doctorate_Degree'\n",
    "    elif row.educ_lvl_pi == 8:\n",
    "        f2_base.loc[ind, 'educ_lvl2'] = 'other'    \n",
    "    elif row.educ_lvl_pi == 9:\n",
    "        f2_base.loc[ind, 'educ_lvl2'] = 'unknown'    "
   ]
  },
  {
   "cell_type": "code",
   "execution_count": null,
   "id": "7a3f0eb8",
   "metadata": {},
   "outputs": [],
   "source": [
    "f2_base = f2_base.drop('educ_lvl_pi', axis = 1)"
   ]
  },
  {
   "cell_type": "code",
   "execution_count": null,
   "id": "f01c73bd",
   "metadata": {},
   "outputs": [],
   "source": [
    "for ind, row in f2_base.iterrows():\n",
    "    if row.interest_or_pleaseure_pi == 0:\n",
    "        f2_base.loc[ind, 'int_pleas2'] = 'none'\n",
    "    elif row.interest_or_pleaseure_pi == 1:\n",
    "        f2_base.loc[ind, 'int_pleas2'] = 'several_days'\n",
    "    elif row.interest_or_pleaseure_pi == 2:\n",
    "        f2_base.loc[ind, 'int_pleas2'] = 'more_than_half'\n",
    "    elif row.interest_or_pleaseure_pi == 3:\n",
    "        f2_base.loc[ind, 'int_pleas2'] = 'nearly_every_day'\n",
    "    elif row.interest_or_pleaseure_pi == 7:\n",
    "        f2_base.loc[ind, 'int_pleas2'] = 'declined'\n",
    "    elif row.interest_or_pleaseure_pi == 9:\n",
    "        f2_base.loc[ind, 'int_pleas2'] = 'unknown'"
   ]
  },
  {
   "cell_type": "code",
   "execution_count": null,
   "id": "c729ee88",
   "metadata": {},
   "outputs": [],
   "source": [
    "f2_base = f2_base.drop('interest_or_pleaseure_pi', axis = 1)"
   ]
  },
  {
   "cell_type": "code",
   "execution_count": null,
   "id": "50c89610",
   "metadata": {},
   "outputs": [],
   "source": [
    "for ind, row in f2_base.iterrows():\n",
    "    if row.depressed_pi == 0:\n",
    "        f2_base.loc[ind, 'depr2'] = 'none'\n",
    "    elif row.depressed_pi == 1:\n",
    "        f2_base.loc[ind, 'depr2'] = 'several_days'\n",
    "    elif row.depressed_pi == 2:\n",
    "        f2_base.loc[ind, 'depr2'] = 'more_than_half'\n",
    "    elif row.depressed_pi == 3:\n",
    "        f2_base.loc[ind, 'depr2'] = 'nearly_every_day'\n",
    "    elif row.depressed_pi == 7:\n",
    "        f2_base.loc[ind, 'depr2'] = 'declined'\n",
    "    elif row.depressed_pi == 9:\n",
    "        f2_base.loc[ind, 'depr2'] = 'unknown'"
   ]
  },
  {
   "cell_type": "code",
   "execution_count": null,
   "id": "d0b8601c",
   "metadata": {},
   "outputs": [],
   "source": [
    "f2_base = f2_base.drop('depressed_pi', axis = 1)"
   ]
  },
  {
   "cell_type": "code",
   "execution_count": null,
   "id": "c990a1b2",
   "metadata": {},
   "outputs": [],
   "source": [
    "for ind, row in f2_base.iterrows():\n",
    "    if row.self_harm_pi == 0:\n",
    "        f2_base.loc[ind, 'self_harm2'] = 'none'\n",
    "    elif row.self_harm_pi == 1:\n",
    "        f2_base.loc[ind, 'self_harm2'] = 'several_days'\n",
    "    elif row.self_harm_pi == 2:\n",
    "        f2_base.loc[ind, 'self_harm2'] = 'more_than_half'\n",
    "    elif row.self_harm_pi == 3:\n",
    "        f2_base.loc[ind, 'self_harm2'] = 'nearly_every_day'\n",
    "    elif row.self_harm_pi == 7:\n",
    "        f2_base.loc[ind, 'self_harm2'] = 'declined'\n",
    "    elif row.self_harm_pi == 9:\n",
    "        f2_base.loc[ind, 'self_harm2'] = 'unknown'"
   ]
  },
  {
   "cell_type": "code",
   "execution_count": null,
   "id": "44ed8f0b",
   "metadata": {},
   "outputs": [],
   "source": [
    "f2_base = f2_base.drop('self_harm_pi', axis = 1)\n",
    "f2_base"
   ]
  },
  {
   "cell_type": "code",
   "execution_count": null,
   "id": "29aa2fc3",
   "metadata": {},
   "outputs": [],
   "source": [
    "for ind, row in f2_base.iterrows():\n",
    "    if row.feel_bad_pi == 0:\n",
    "        f2_base.loc[ind, 'feel_bad2'] = 'none'\n",
    "    elif row.feel_bad_pi == 1:\n",
    "        f2_base.loc[ind, 'feel_bad2'] = 'several_days'\n",
    "    elif row.feel_bad_pi == 2:\n",
    "        f2_base.loc[ind, 'feel_bad2'] = 'more_than_half'\n",
    "    elif row.feel_bad_pi == 3:\n",
    "        f2_base.loc[ind, 'feel_bad2'] = 'nearly_every_day'\n",
    "    elif row.feel_bad_pi == 7:\n",
    "        f2_base.loc[ind, 'feel_bad2'] = 'declined'\n",
    "    elif row.feel_bad_pi == 9:\n",
    "        f2_base.loc[ind, 'feel_bad2'] = 'unknown'"
   ]
  },
  {
   "cell_type": "code",
   "execution_count": null,
   "id": "c6cd9dae",
   "metadata": {},
   "outputs": [],
   "source": [
    "f2_base = f2_base.drop('feel_bad_pi', axis = 1)\n",
    "f2_base"
   ]
  },
  {
   "cell_type": "code",
   "execution_count": null,
   "id": "8e55f8ec",
   "metadata": {},
   "outputs": [],
   "source": [
    "for ind, row in f2_base.iterrows():\n",
    "    if row.depressive_syndrome_pi == 0:\n",
    "        f2_base.loc[ind, 'dep_syn2'] = 'none'\n",
    "    elif row.depressive_syndrome_pi == 1:\n",
    "        f2_base.loc[ind, 'dep_syn2'] = 'major'\n",
    "    elif row.depressive_syndrome_pi == 2:\n",
    "        f2_base.loc[ind, 'dep_syn2'] = 'other'\n",
    "    elif row.depressive_syndrome_pi == 9:\n",
    "        f2_base.loc[ind, 'dep_syn2'] = 'unknown'"
   ]
  },
  {
   "cell_type": "code",
   "execution_count": null,
   "id": "f5d0bfbe",
   "metadata": {},
   "outputs": [],
   "source": [
    "f2_base = f2_base.drop('depressive_syndrome_pi', axis = 1)\n",
    "f2_base"
   ]
  },
  {
   "cell_type": "code",
   "execution_count": null,
   "id": "cacf29e3",
   "metadata": {},
   "outputs": [],
   "source": [
    "for ind, row in f2_base.iterrows():\n",
    "    if row.occup_status_pi == 1:\n",
    "        f2_base.loc[ind, 'occ_stat2'] = 'working'\n",
    "    elif row.occup_status_pi == 2:\n",
    "        f2_base.loc[ind, 'occ_stat2'] = 'homemaker'\n",
    "    elif row.occup_status_pi == 3:\n",
    "        f2_base.loc[ind, 'occ_stat2'] = 'otj_train'\n",
    "    elif row.occup_status_pi == 4:\n",
    "        f2_base.loc[ind, 'occ_stat2'] = 'shel_work'\n",
    "    elif row.occup_status_pi == 5:\n",
    "        f2_base.loc[ind, 'occ_stat2'] = 'retired'\n",
    "    elif row.occup_status_pi == 6:\n",
    "        f2_base.loc[ind, 'occ_stat2'] = 'student'\n",
    "    elif row.occup_status_pi == 7:\n",
    "        f2_base.loc[ind, 'occ_stat2'] = 'unemployed'\n",
    "    elif row.occup_status_pi == 8:\n",
    "        f2_base.loc[ind, 'occ_stat2'] = 'retired_dis'\n",
    "    elif row.occup_status_pi == 9:\n",
    "        f2_base.loc[ind, 'occ_stat2'] = 'retired_nondis'   \n",
    "    elif row.occup_status_pi == 10:\n",
    "        f2_base.loc[ind, 'occ_stat2'] = 'other'\n",
    "    elif row.occup_status_pi == 99:\n",
    "        f2_base.loc[ind, 'occ_stat2'] = 'unknown'       "
   ]
  },
  {
   "cell_type": "code",
   "execution_count": null,
   "id": "3a418b83",
   "metadata": {},
   "outputs": [],
   "source": [
    "f2_base = f2_base.drop('occup_status_pi', axis = 1)\n",
    "f2_base"
   ]
  },
  {
   "cell_type": "code",
   "execution_count": null,
   "id": "82b40872",
   "metadata": {},
   "outputs": [],
   "source": [
    "f2_base = f2_base.rename(columns={'severity_of_depression_pi' : 'sev_dep2'})\n",
    "\n",
    "f2_base"
   ]
  },
  {
   "cell_type": "code",
   "execution_count": null,
   "id": "2b3bb69c",
   "metadata": {},
   "outputs": [],
   "source": [
    "for ind, row in f2_base.iterrows():\n",
    "    if row.income_level == 1:\n",
    "        f2_base.loc[ind, 'inc_lvl2'] = 'lt25k'\n",
    "    elif row.income_level == 2:\n",
    "        f2_base.loc[ind, 'inc_lvl2'] = '25k_49999'\n",
    "    elif row.income_level == 3:\n",
    "        f2_base.loc[ind, 'inc_lvl2'] = '50k_74999'\n",
    "    elif row.income_level == 4:\n",
    "        f2_base.loc[ind, 'inc_lvl2'] = '75kpl'\n",
    "    elif row.income_level == 6:\n",
    "        f2_base.loc[ind, 'inc_lvl2'] = 'not_sure'\n",
    "    elif row.income_level == 7:\n",
    "        f2_base.loc[ind, 'inc_lvl2'] = 'declined'\n",
    "    elif row.income_level == 9:\n",
    "        f2_base.loc[ind, 'inc_lvl2'] = 'unknown'  "
   ]
  },
  {
   "cell_type": "code",
   "execution_count": null,
   "id": "4899a54b",
   "metadata": {},
   "outputs": [],
   "source": [
    "f2_base = f2_base.drop('income_level', axis = 1)\n",
    "f2_base"
   ]
  },
  {
   "cell_type": "code",
   "execution_count": null,
   "id": "4f58b54f",
   "metadata": {},
   "outputs": [],
   "source": [
    "f2_base['post_inj_yr'].value_counts().plot(kind = 'bar');"
   ]
  },
  {
   "cell_type": "code",
   "execution_count": null,
   "id": "db809f38",
   "metadata": {},
   "outputs": [],
   "source": [
    "f1_base.dtypes"
   ]
  },
  {
   "cell_type": "code",
   "execution_count": null,
   "id": "e4b7e1a3",
   "metadata": {},
   "outputs": [],
   "source": [
    "f1_base['age1'] = f1_base['age1'].replace(to_replace = '6-12y', value = '9')\n",
    "f1_base['age1']"
   ]
  },
  {
   "cell_type": "code",
   "execution_count": null,
   "id": "2376af1d",
   "metadata": {},
   "outputs": [],
   "source": [
    "f1_base.loc[f1_base.age1 == '500']"
   ]
  },
  {
   "cell_type": "code",
   "execution_count": null,
   "id": "ca71dcbc",
   "metadata": {},
   "outputs": [],
   "source": [
    "f1_base['age1'] = f1_base['age1'].replace(to_replace = '0-5y', value = '3')\n",
    "f1_base['age1']"
   ]
  },
  {
   "cell_type": "code",
   "execution_count": null,
   "id": "0ad58a67",
   "metadata": {},
   "outputs": [],
   "source": [
    "f1_base['age1'] = f1_base['age1'].replace(to_replace = '13-14y', value = '14')"
   ]
  },
  {
   "cell_type": "code",
   "execution_count": null,
   "id": "8329062f",
   "metadata": {},
   "outputs": [],
   "source": [
    "f1_base['age1'] = f1_base['age1'].replace(to_replace = '88+y', value = '89')"
   ]
  },
  {
   "cell_type": "code",
   "execution_count": null,
   "id": "511365e8",
   "metadata": {},
   "outputs": [],
   "source": [
    "f1_base.loc[f1_base.age1 == 888].count()"
   ]
  },
  {
   "cell_type": "code",
   "execution_count": null,
   "id": "377b9c76",
   "metadata": {},
   "outputs": [],
   "source": [
    "f1_base['age1'] = f1_base['age1'].astype('int')"
   ]
  },
  {
   "cell_type": "code",
   "execution_count": null,
   "id": "73ddcfa3",
   "metadata": {},
   "outputs": [],
   "source": [
    "f1_base.shape"
   ]
  },
  {
   "cell_type": "code",
   "execution_count": null,
   "id": "dec08ce7",
   "metadata": {
    "scrolled": true
   },
   "outputs": [],
   "source": [
    "f1_base['age1'].value_counts()"
   ]
  },
  {
   "cell_type": "code",
   "execution_count": null,
   "id": "224c7b34",
   "metadata": {},
   "outputs": [],
   "source": [
    "f1_base.age1.sort_values(ascending = False)"
   ]
  },
  {
   "cell_type": "code",
   "execution_count": null,
   "id": "1a90759a",
   "metadata": {},
   "outputs": [],
   "source": [
    "plt.figure(figsize = (10,6))\n",
    "\n",
    "sns.boxplot(data = f1_base,\n",
    "           x = 'age1')\n",
    "\n",
    "plt.title('Age at Time of Injury');"
   ]
  },
  {
   "cell_type": "code",
   "execution_count": null,
   "id": "eacd63b4",
   "metadata": {},
   "outputs": [],
   "source": [
    "plt.figure(figsize = (10,6))\n",
    "\n",
    "gfg = sns.boxplot(data = f1_base,\n",
    "           x = 'age1')\n",
    "\n",
    "gfg.set_xlabel( \"Age\")\n",
    "\n",
    "plt.title('Age at Time of Injury');"
   ]
  },
  {
   "cell_type": "code",
   "execution_count": null,
   "id": "91bfa58b",
   "metadata": {},
   "outputs": [],
   "source": [
    "age_ai = f1_base.age1.value_counts().to_frame().reset_index()\n",
    "age_ai"
   ]
  },
  {
   "cell_type": "code",
   "execution_count": null,
   "id": "5aa9907b",
   "metadata": {},
   "outputs": [],
   "source": [
    "age_ai  = age_ai .rename(columns={'count' : 'total'})\n",
    "age_ai "
   ]
  },
  {
   "cell_type": "code",
   "execution_count": null,
   "id": "7d4a92ff",
   "metadata": {},
   "outputs": [],
   "source": [
    "age_ai['records'] = age_ai.total.sum()  \n",
    "age_ai['ai_age_per'] = (age_ai.total / age_ai.records) * 100    \n",
    "age_ai"
   ]
  },
  {
   "cell_type": "code",
   "execution_count": null,
   "id": "242e72d7",
   "metadata": {},
   "outputs": [],
   "source": [
    "age_ai"
   ]
  },
  {
   "cell_type": "code",
   "execution_count": null,
   "id": "88c027eb",
   "metadata": {},
   "outputs": [],
   "source": [
    "age_ai = age_ai.rename(columns={'age1' : 'Age', 'Total' : 'Injury_Total_At_Age', 'records' : 'Total_Records',\n",
    "                            'ai_age_per' : 'Age_At_Injury_Percentage'})\n",
    "age_ai"
   ]
  },
  {
   "cell_type": "code",
   "execution_count": null,
   "id": "22f828ad",
   "metadata": {},
   "outputs": [],
   "source": [
    "age_ai.describe()"
   ]
  },
  {
   "cell_type": "code",
   "execution_count": null,
   "id": "8c1eb01b",
   "metadata": {},
   "outputs": [],
   "source": [
    "age_ai.to_csv('../data/age_ai.csv', index = False)"
   ]
  },
  {
   "cell_type": "code",
   "execution_count": null,
   "id": "faf030b2",
   "metadata": {},
   "outputs": [],
   "source": [
    "f1_base[['age1', 'days_rehab1', 'AFScorRb', 'AFScorDs']].corr()"
   ]
  },
  {
   "cell_type": "markdown",
   "id": "14b77183",
   "metadata": {},
   "source": [
    "#### Very weak positive correlation, an increase in the first variable will likely lead to an increase in the second variable."
   ]
  },
  {
   "cell_type": "code",
   "execution_count": null,
   "id": "7bfa26d9",
   "metadata": {},
   "outputs": [],
   "source": [
    "f1_base"
   ]
  },
  {
   "cell_type": "code",
   "execution_count": null,
   "id": "137b8f1d",
   "metadata": {},
   "outputs": [],
   "source": [
    "f1_base.columns"
   ]
  },
  {
   "cell_type": "code",
   "execution_count": null,
   "id": "07df1f7b",
   "metadata": {},
   "outputs": [],
   "source": [
    "f1_ls = f1_base[['unique_id','age1', 'gender', 'res1', 'res_at_dis', 'mar_stat1', 'educ_lvl1', 'occ_stat1', 'inc_lvl1']]\n",
    "f1_ls"
   ]
  },
  {
   "cell_type": "code",
   "execution_count": null,
   "id": "3881efb9",
   "metadata": {},
   "outputs": [],
   "source": [
    "f2_base.columns"
   ]
  },
  {
   "cell_type": "code",
   "execution_count": null,
   "id": "054cf9aa",
   "metadata": {},
   "outputs": [],
   "source": [
    "f2_ls = f2_base[['unique_id', 'post_inj_yr', 'res2','mar_stat2', 'mar_stat_up2', 'educ_lvl2', 'occ_stat2', 'inc_lvl2']]\n",
    "f2_ls"
   ]
  },
  {
   "cell_type": "code",
   "execution_count": null,
   "id": "89491555",
   "metadata": {},
   "outputs": [],
   "source": [
    "f2_ls1 = f2_ls.loc[(f2_base.post_inj_yr == 1)]\n",
    "f2_ls1"
   ]
  },
  {
   "cell_type": "code",
   "execution_count": null,
   "id": "83fadf9b",
   "metadata": {},
   "outputs": [],
   "source": [
    "f2_ls5 = f2_ls.loc[(f2_base.post_inj_yr == 5)]\n",
    "f2_ls5"
   ]
  },
  {
   "cell_type": "code",
   "execution_count": null,
   "id": "b68793c1",
   "metadata": {},
   "outputs": [],
   "source": [
    "f2_ls10 = f2_ls.loc[(f2_base.post_inj_yr == 10)]\n",
    "f2_ls10"
   ]
  },
  {
   "cell_type": "code",
   "execution_count": null,
   "id": "2c639ae8",
   "metadata": {},
   "outputs": [],
   "source": [
    "f2_ls15 = f2_ls.loc[(f2_base.post_inj_yr == 15)]\n",
    "f2_ls15"
   ]
  },
  {
   "cell_type": "code",
   "execution_count": null,
   "id": "74abc917",
   "metadata": {},
   "outputs": [],
   "source": [
    "yr1 = pd.merge(f1_ls, f2_ls1, left_on=['unique_id'], right_on=['unique_id'],how='inner')\n",
    "yr1"
   ]
  },
  {
   "cell_type": "code",
   "execution_count": null,
   "id": "354d1387",
   "metadata": {},
   "outputs": [],
   "source": [
    "yr5 = pd.merge(f1_ls, f2_ls5, left_on=['unique_id'], right_on=['unique_id'],how='inner')\n",
    "yr5"
   ]
  },
  {
   "cell_type": "code",
   "execution_count": null,
   "id": "00ebbc81",
   "metadata": {},
   "outputs": [],
   "source": [
    "yr10 = pd.merge(f1_ls, f2_ls10, left_on=['unique_id'], right_on=['unique_id'],how='inner')\n",
    "yr10"
   ]
  },
  {
   "cell_type": "code",
   "execution_count": null,
   "id": "4fa48139",
   "metadata": {},
   "outputs": [],
   "source": [
    "yr15 = pd.merge(f1_ls, f2_ls15, left_on=['unique_id'], right_on=['unique_id'],how='inner')\n",
    "yr15"
   ]
  },
  {
   "cell_type": "code",
   "execution_count": null,
   "id": "f9029576",
   "metadata": {},
   "outputs": [],
   "source": [
    "f1_f2 = pd.merge(f1_base, f2_base, left_on=['unique_id'], right_on=['unique_id'],how='inner')\n",
    "f1_f2.head(10)"
   ]
  },
  {
   "cell_type": "code",
   "execution_count": null,
   "id": "1ebc5bf7",
   "metadata": {},
   "outputs": [],
   "source": [
    "f1_f2[['unique_id','age1', 'res1', 'res_at_dis', 'mar_stat1','post_inj_yr', 'educ_lvl1', 'occ_stat1']].head(10)"
   ]
  },
  {
   "cell_type": "code",
   "execution_count": null,
   "id": "b21970e2",
   "metadata": {},
   "outputs": [],
   "source": [
    "yr1 = f1_f2.loc[(f2_base.post_inj_yr == 1)]\n",
    "yr1"
   ]
  },
  {
   "cell_type": "code",
   "execution_count": null,
   "id": "efc5bfef",
   "metadata": {},
   "outputs": [],
   "source": [
    "yr5 = f1_f2.loc[(f2_base.post_inj_yr == 5)]\n",
    "yr5"
   ]
  },
  {
   "cell_type": "code",
   "execution_count": null,
   "id": "a6357144",
   "metadata": {},
   "outputs": [],
   "source": [
    "yr10 = f1_f2.loc[(f2_base.post_inj_yr == 10)]\n",
    "yr10"
   ]
  },
  {
   "cell_type": "code",
   "execution_count": null,
   "id": "4e27a441",
   "metadata": {},
   "outputs": [],
   "source": [
    "yr15 = f1_f2.loc[(f2_base.post_inj_yr == 15)]\n",
    "yr15"
   ]
  },
  {
   "cell_type": "code",
   "execution_count": null,
   "id": "f2147175",
   "metadata": {},
   "outputs": [],
   "source": [
    "yr1['mar_stat1'].value_counts().plot(kind = 'bar');"
   ]
  },
  {
   "cell_type": "code",
   "execution_count": null,
   "id": "e65eb880",
   "metadata": {},
   "outputs": [],
   "source": [
    "yr1['mar_stat_up2'].value_counts().plot(kind = 'bar');"
   ]
  },
  {
   "cell_type": "code",
   "execution_count": null,
   "id": "59c543df",
   "metadata": {},
   "outputs": [],
   "source": [
    "yr1.mar_stat_up2.count()"
   ]
  },
  {
   "cell_type": "code",
   "execution_count": null,
   "id": "3de439c8",
   "metadata": {},
   "outputs": [],
   "source": [
    "yr1_per = yr1.mar_stat_up2.value_counts().to_frame().reset_index()\n",
    "yr1_per = yr1_per.rename(columns={'count' : 'total'})\n",
    "yr1_per['records'] = yr1_per.total.sum()    \n",
    "yr1_per['perc_yr1'] = (yr1_per.total / yr1_per.records) * 100  \n",
    "yr1_per"
   ]
  },
  {
   "cell_type": "code",
   "execution_count": null,
   "id": "a34d2de7",
   "metadata": {},
   "outputs": [],
   "source": [
    "yr5_per = yr5.mar_stat_up2.value_counts().to_frame().reset_index()\n",
    "yr5_per = yr5_per.rename(columns={'count' : 'total'})\n",
    "yr5_per['records'] = yr5_per.total.sum() \n",
    "yr5_per['perc_yr5'] = (yr5_per.total / yr5_per.records) * 100    \n",
    "yr5_per"
   ]
  },
  {
   "cell_type": "code",
   "execution_count": null,
   "id": "d6df51ba",
   "metadata": {},
   "outputs": [],
   "source": [
    "yr10_per = yr10.mar_stat_up2.value_counts().to_frame().reset_index()      \n",
    "yr10_per = yr10_per.rename(columns={'count' : 'total'})\n",
    "yr10_per['records'] = yr10_per.total.sum()        \n",
    "yr10_per['perc_yr10'] = (yr10_per.total / yr10_per.records) * 100    \n",
    "yr10_per"
   ]
  },
  {
   "cell_type": "code",
   "execution_count": null,
   "id": "5077cb15",
   "metadata": {},
   "outputs": [],
   "source": [
    "yr15_per = yr15.mar_stat_up2.value_counts().to_frame().reset_index()\n",
    "yr15_per = yr15_per.rename(columns={'count' : 'total'})\n",
    "yr15_per['records'] = yr15_per.total.sum()  \n",
    "yr15_per['perc_yr15'] = (yr15_per.total / yr15_per.records) * 100    \n",
    "yr15_per "
   ]
  },
  {
   "cell_type": "code",
   "execution_count": null,
   "id": "72dd80d4",
   "metadata": {},
   "outputs": [],
   "source": [
    "yr1_yr5 = pd.merge(yr1_per, yr5_per, left_on=['mar_stat_up2'], right_on=['mar_stat_up2'],how='inner')\n",
    "yr1_yr5"
   ]
  },
  {
   "cell_type": "code",
   "execution_count": null,
   "id": "811e5874",
   "metadata": {},
   "outputs": [],
   "source": [
    "yr10_yr15 = pd.merge(yr10_per, yr15_per, left_on=['mar_stat_up2'], right_on=['mar_stat_up2'],how='inner')\n",
    "yr10_yr15"
   ]
  },
  {
   "cell_type": "code",
   "execution_count": null,
   "id": "45cb801f",
   "metadata": {},
   "outputs": [],
   "source": [
    "yr1_thru_yr15 = pd.merge(yr1_yr5, yr10_yr15, left_on=['mar_stat_up2'], right_on=['mar_stat_up2'],how='inner')\n",
    "yr1_thru_yr15"
   ]
  },
  {
   "cell_type": "code",
   "execution_count": null,
   "id": "94a2d74d",
   "metadata": {},
   "outputs": [],
   "source": [
    "yr1_thru_yr15 = yr1_thru_yr15[['mar_stat_up2','perc_yr1','perc_yr5','perc_yr10','perc_yr15']]\n",
    "yr1_thru_yr15 "
   ]
  },
  {
   "cell_type": "code",
   "execution_count": null,
   "id": "c82c393b",
   "metadata": {},
   "outputs": [],
   "source": [
    "yr20 = f2_ls.loc[(f2_base.post_inj_yr == 20)]\n",
    "yr25 = f2_ls.loc[(f2_base.post_inj_yr == 25)]\n",
    "yr30 = f2_ls.loc[(f2_base.post_inj_yr == 30)]"
   ]
  },
  {
   "cell_type": "code",
   "execution_count": null,
   "id": "6a0e710f",
   "metadata": {},
   "outputs": [],
   "source": [
    "yr20_per = yr20.mar_stat_up2.value_counts().to_frame().reset_index()\n",
    "yr20_per = yr20_per.rename(columns={'count' : 'total'})\n",
    "yr20_per['records'] = yr20_per.total.sum()  \n",
    "yr20_per['perc_yr20'] = (yr20_per.total / yr20_per.records) * 100    \n",
    "\n",
    "yr25_per = yr25.mar_stat_up2.value_counts().to_frame().reset_index()\n",
    "yr25_per = yr25_per.rename(columns={'count' : 'total'})\n",
    "yr25_per['records'] = yr25_per.total.sum()  \n",
    "yr25_per['perc_yr25'] = (yr25_per.total / yr25_per.records) * 100  \n",
    "\n",
    "yr30_per = yr30.mar_stat_up2.value_counts().to_frame().reset_index()\n",
    "yr30_per = yr30_per.rename(columns={'count' : 'total'})\n",
    "yr30_per['records'] = yr30_per.total.sum()  \n",
    "yr30_per['perc_yr30'] = (yr30_per.total / yr30_per.records) * 100  \n"
   ]
  },
  {
   "cell_type": "code",
   "execution_count": null,
   "id": "48d98496",
   "metadata": {},
   "outputs": [],
   "source": [
    "yr20_yr25 = pd.merge(yr20_per, yr25_per, left_on=['mar_stat_up2'], right_on=['mar_stat_up2'],how='inner')\n",
    "yr20_yr25"
   ]
  },
  {
   "cell_type": "code",
   "execution_count": null,
   "id": "6426b3c8",
   "metadata": {},
   "outputs": [],
   "source": [
    "yr20_thru_yr30 = pd.merge(yr20_yr25, yr30_per, left_on=['mar_stat_up2'], right_on=['mar_stat_up2'],how='inner')\n",
    "yr20_thru_yr30"
   ]
  },
  {
   "cell_type": "code",
   "execution_count": null,
   "id": "5b1997b9",
   "metadata": {},
   "outputs": [],
   "source": [
    "yr20_thru_yr30 = yr20_thru_yr30[['mar_stat_up2','perc_yr20','perc_yr25','perc_yr30']]\n",
    "yr20_thru_yr30"
   ]
  },
  {
   "cell_type": "code",
   "execution_count": null,
   "id": "9a35cf4e",
   "metadata": {},
   "outputs": [],
   "source": [
    "yr_all_mar_up = pd.merge(yr1_thru_yr15, yr20_thru_yr30, left_on=['mar_stat_up2'], right_on=['mar_stat_up2'],how='inner')\n",
    "yr_all_mar_up"
   ]
  },
  {
   "cell_type": "code",
   "execution_count": null,
   "id": "e70ed5b4",
   "metadata": {},
   "outputs": [],
   "source": [
    "f1_ms = f1_base[['unique_id','mar_stat1']]\n",
    "f1_ms"
   ]
  },
  {
   "cell_type": "code",
   "execution_count": null,
   "id": "c92c5ef0",
   "metadata": {},
   "outputs": [],
   "source": [
    "f1_ms.mar_stat1.value_counts()"
   ]
  },
  {
   "cell_type": "code",
   "execution_count": null,
   "id": "f5950e07",
   "metadata": {},
   "outputs": [],
   "source": [
    "ai_stat = f1_ms.mar_stat1.value_counts().to_frame().reset_index()\n",
    "ai_stat"
   ]
  },
  {
   "cell_type": "code",
   "execution_count": null,
   "id": "bad5708a",
   "metadata": {},
   "outputs": [],
   "source": [
    "ai_stat = ai_stat.rename(columns={'count' : 'total'})\n",
    "ai_stat"
   ]
  },
  {
   "cell_type": "code",
   "execution_count": null,
   "id": "9e3c2d9a",
   "metadata": {},
   "outputs": [],
   "source": [
    "ai_stat['records'] = ai_stat.total.sum()  \n",
    "ai_stat"
   ]
  },
  {
   "cell_type": "code",
   "execution_count": null,
   "id": "1dfe3a51",
   "metadata": {},
   "outputs": [],
   "source": [
    "ai_stat['ai_per'] = (ai_stat.total / ai_stat.records) * 100    \n",
    "ai_stat"
   ]
  },
  {
   "cell_type": "code",
   "execution_count": null,
   "id": "ec1b37cd",
   "metadata": {},
   "outputs": [],
   "source": [
    "yr1.mar_stat2.count()"
   ]
  },
  {
   "cell_type": "code",
   "execution_count": null,
   "id": "85b6223c",
   "metadata": {},
   "outputs": [],
   "source": [
    "yr1_stat = yr1[['unique_id','mar_stat2']]\n",
    "yr1_stat"
   ]
  },
  {
   "cell_type": "code",
   "execution_count": null,
   "id": "c549527c",
   "metadata": {},
   "outputs": [],
   "source": [
    "yr1_stat = yr1_stat.mar_stat2.value_counts().to_frame().reset_index()\n",
    "yr1_stat = yr1_stat.rename(columns={'count' : 'total'})\n",
    "yr1_stat['records'] = yr1_stat.total.sum()  \n",
    "yr1_stat['yr1_per'] = (yr1_stat.total / yr1_stat.records) * 100    \n",
    "yr1_stat"
   ]
  },
  {
   "cell_type": "code",
   "execution_count": null,
   "id": "450e71a2",
   "metadata": {},
   "outputs": [],
   "source": [
    "yr1_stat= yr1_stat.drop('total', axis=1)\n",
    "yr1_stat= yr1_stat.drop('records', axis=1)"
   ]
  },
  {
   "cell_type": "code",
   "execution_count": null,
   "id": "84d89501",
   "metadata": {},
   "outputs": [],
   "source": [
    "yr1_stat"
   ]
  },
  {
   "cell_type": "code",
   "execution_count": null,
   "id": "4e432181",
   "metadata": {},
   "outputs": [],
   "source": [
    "yr5_stat = yr5[['unique_id','mar_stat2']]\n",
    "yr5_stat = yr5_stat.mar_stat2.value_counts().to_frame().reset_index()\n",
    "yr5_stat = yr5_stat.rename(columns={'count' : 'total'})\n",
    "yr5_stat['records'] = yr5_stat.total.sum()  \n",
    "yr5_stat['yr5_per'] = (yr5_stat.total / yr5_stat.records) * 100    \n",
    "yr5_stat"
   ]
  },
  {
   "cell_type": "code",
   "execution_count": null,
   "id": "106d7f2f",
   "metadata": {},
   "outputs": [],
   "source": [
    "yr5_stat= yr5_stat.drop('total', axis=1)\n",
    "yr5_stat= yr5_stat.drop('records', axis=1)"
   ]
  },
  {
   "cell_type": "code",
   "execution_count": null,
   "id": "ff6c6144",
   "metadata": {},
   "outputs": [],
   "source": [
    "yr5_stat"
   ]
  },
  {
   "cell_type": "code",
   "execution_count": null,
   "id": "aa4c8c26",
   "metadata": {},
   "outputs": [],
   "source": [
    "yr10_stat = yr10[['unique_id','mar_stat2']]\n",
    "yr10_stat = yr10_stat.mar_stat2.value_counts().to_frame().reset_index()\n",
    "yr10_stat = yr10_stat.rename(columns={'count' : 'total'})\n",
    "yr10_stat['records'] = yr10_stat.total.sum()  \n",
    "yr10_stat['yr10_per'] = (yr10_stat.total / yr10_stat.records) * 100    \n",
    "yr10_stat"
   ]
  },
  {
   "cell_type": "code",
   "execution_count": null,
   "id": "aaf81bdf",
   "metadata": {},
   "outputs": [],
   "source": [
    "yr10_stat= yr10_stat.drop('total', axis=1)\n",
    "yr10_stat= yr10_stat.drop('records', axis=1)\n",
    "yr10_stat"
   ]
  },
  {
   "cell_type": "code",
   "execution_count": null,
   "id": "99fb4893",
   "metadata": {},
   "outputs": [],
   "source": [
    "yr15_stat = yr15[['unique_id','mar_stat2']]\n",
    "yr15_stat = yr15_stat.mar_stat2.value_counts().to_frame().reset_index()\n",
    "yr15_stat = yr15_stat.rename(columns={'count' : 'total'})\n",
    "yr15_stat['records'] = yr15_stat.total.sum()  \n",
    "yr15_stat['yr15_per'] = (yr15_stat.total / yr15_stat.records) * 100    \n",
    "yr15_stat"
   ]
  },
  {
   "cell_type": "code",
   "execution_count": null,
   "id": "eb2f574c",
   "metadata": {},
   "outputs": [],
   "source": [
    "yr15_stat= yr15_stat.drop('total', axis=1)\n",
    "yr15_stat= yr15_stat.drop('records', axis=1)\n",
    "yr15_stat"
   ]
  },
  {
   "cell_type": "code",
   "execution_count": null,
   "id": "5e077882",
   "metadata": {},
   "outputs": [],
   "source": [
    "yr20_stat = yr20[['unique_id','mar_stat2']]\n",
    "yr20_stat = yr20_stat.mar_stat2.value_counts().to_frame().reset_index()\n",
    "yr20_stat = yr20_stat.rename(columns={'count' : 'total'})\n",
    "yr20_stat['records'] = yr20_stat.total.sum()  \n",
    "yr20_stat['yr20_per'] = (yr20_stat.total / yr20_stat.records) * 100    \n",
    "yr20_stat"
   ]
  },
  {
   "cell_type": "code",
   "execution_count": null,
   "id": "f1a601a1",
   "metadata": {},
   "outputs": [],
   "source": [
    "yr20_stat= yr20_stat.drop('total', axis=1)\n",
    "yr20_stat= yr20_stat.drop('records', axis=1)\n",
    "yr20_stat"
   ]
  },
  {
   "cell_type": "code",
   "execution_count": null,
   "id": "d810b681",
   "metadata": {},
   "outputs": [],
   "source": [
    "yr25_stat = yr25[['unique_id','mar_stat2']]\n",
    "yr25_stat = yr25_stat.mar_stat2.value_counts().to_frame().reset_index()\n",
    "yr25_stat = yr25_stat.rename(columns={'count' : 'total'})\n",
    "yr25_stat['records'] = yr25_stat.total.sum()  \n",
    "yr25_stat['yr25_per'] = (yr25_stat.total / yr25_stat.records) * 100    \n",
    "yr25_stat"
   ]
  },
  {
   "cell_type": "code",
   "execution_count": null,
   "id": "b6caeeb7",
   "metadata": {},
   "outputs": [],
   "source": [
    "yr25_stat= yr25_stat.drop('total', axis=1)\n",
    "yr25_stat= yr25_stat.drop('records', axis=1)\n",
    "yr25_stat"
   ]
  },
  {
   "cell_type": "code",
   "execution_count": null,
   "id": "d22eb8b9",
   "metadata": {},
   "outputs": [],
   "source": [
    "yr30_stat = yr30[['unique_id','mar_stat2']]\n",
    "yr30_stat = yr30_stat.mar_stat2.value_counts().to_frame().reset_index()\n",
    "yr30_stat = yr30_stat.rename(columns={'count' : 'total'})\n",
    "yr30_stat['records'] = yr30_stat.total.sum()  \n",
    "yr30_stat['yr30_per'] = (yr30_stat.total / yr30_stat.records) * 100    \n",
    "yr30_stat"
   ]
  },
  {
   "cell_type": "code",
   "execution_count": null,
   "id": "7e08e2aa",
   "metadata": {},
   "outputs": [],
   "source": [
    "yr30_stat= yr30_stat.drop('total', axis=1)\n",
    "yr30_stat= yr30_stat.drop('records', axis=1)\n",
    "yr30_stat"
   ]
  },
  {
   "cell_type": "code",
   "execution_count": null,
   "id": "5f09b064",
   "metadata": {},
   "outputs": [],
   "source": [
    "ai_yr1 = pd.merge(ai_stat, yr1_stat, left_on=['mar_stat1'], right_on=['mar_stat2'],how='inner')\n",
    "ai_yr1"
   ]
  },
  {
   "cell_type": "code",
   "execution_count": null,
   "id": "73d3ea55",
   "metadata": {},
   "outputs": [],
   "source": [
    "ai_yr5 = pd.merge(ai_yr1, yr5_stat, left_on=['mar_stat1'], right_on=['mar_stat2'],how='inner')\n",
    "ai_yr5"
   ]
  },
  {
   "cell_type": "code",
   "execution_count": null,
   "id": "80f52211",
   "metadata": {},
   "outputs": [],
   "source": [
    "ai_yr10 = pd.merge(ai_yr5, yr10_stat, left_on=['mar_stat1'], right_on=['mar_stat2'],how='inner')\n",
    "ai_yr10"
   ]
  },
  {
   "cell_type": "code",
   "execution_count": null,
   "id": "d7a12dea",
   "metadata": {},
   "outputs": [],
   "source": [
    "ai_yr10 = ai_yr10[['mar_stat1', 'ai_per', 'yr1_per', 'yr5_per', 'yr10_per']]\n",
    "ai_yr10"
   ]
  },
  {
   "cell_type": "code",
   "execution_count": null,
   "id": "d4371449",
   "metadata": {},
   "outputs": [],
   "source": [
    "ai_yr15 = pd.merge(ai_yr10, yr15_stat, left_on=['mar_stat1'], right_on=['mar_stat2'],how='inner')\n",
    "ai_yr15"
   ]
  },
  {
   "cell_type": "code",
   "execution_count": null,
   "id": "c7a12cc9",
   "metadata": {},
   "outputs": [],
   "source": [
    "ai_yr20 = pd.merge(ai_yr15, yr20_stat, left_on=['mar_stat1'], right_on=['mar_stat2'],how='inner')\n",
    "ai_yr20"
   ]
  },
  {
   "cell_type": "code",
   "execution_count": null,
   "id": "ea43c7ec",
   "metadata": {},
   "outputs": [],
   "source": [
    "ai_yr25 = pd.merge(ai_yr20, yr25_stat, left_on=['mar_stat1'], right_on=['mar_stat2'],how='inner')\n",
    "ai_yr25"
   ]
  },
  {
   "cell_type": "code",
   "execution_count": null,
   "id": "573e8064",
   "metadata": {},
   "outputs": [],
   "source": [
    "ai_yr25 = ai_yr25[['mar_stat1', 'ai_per', 'yr1_per', 'yr5_per', 'yr10_per', 'yr15_per', 'yr20_per', 'yr25_per']]\n",
    "ai_yr25"
   ]
  },
  {
   "cell_type": "code",
   "execution_count": null,
   "id": "e31d1c1c",
   "metadata": {},
   "outputs": [],
   "source": [
    "ai_yr30 = pd.merge(ai_yr25, yr30_stat, left_on=['mar_stat1'], right_on=['mar_stat2'],how='inner')\n",
    "ai_yr30"
   ]
  },
  {
   "cell_type": "code",
   "execution_count": null,
   "id": "edb2c104",
   "metadata": {},
   "outputs": [],
   "source": [
    "ai_yr30 = ai_yr30.drop('mar_stat2', axis=1)\n",
    "ai_yr30"
   ]
  },
  {
   "cell_type": "code",
   "execution_count": null,
   "id": "0a5a5894",
   "metadata": {},
   "outputs": [],
   "source": [
    "ai_yr30.to_csv('../data/mar_stat1.csv', index = False)"
   ]
  },
  {
   "cell_type": "code",
   "execution_count": null,
   "id": "b9de36c6",
   "metadata": {},
   "outputs": [],
   "source": [
    "mar_stat = {'year': [0, 1, 5, 10, 15, 20, 25, 30,],\n",
    "    'single': ['50.25', '48.61', '44.72', '40.20', '36.77', '35.05', '33.97', '30.81'],\n",
    "    'married': ['33.09', '32.48', '32.24', '33.29', '33.89', '35.22', '35.60', '37.69'],\n",
    "    'divorced': ['9.29', '10.94', '15.44', '18.77', '21.67', '22.46', '23.11', '23.59']}\n",
    "mar_stat = pd.DataFrame(mar_stat)\n",
    "print(mar_stat)"
   ]
  },
  {
   "cell_type": "code",
   "execution_count": null,
   "id": "c9a399c2",
   "metadata": {},
   "outputs": [],
   "source": [
    "mar_stat.dtypes"
   ]
  },
  {
   "cell_type": "code",
   "execution_count": null,
   "id": "201d5911",
   "metadata": {},
   "outputs": [],
   "source": [
    "mar_stat['single'] = mar_stat['single'].astype('float')"
   ]
  },
  {
   "cell_type": "code",
   "execution_count": null,
   "id": "c4fd1918",
   "metadata": {},
   "outputs": [],
   "source": [
    "mar_stat['married'] = mar_stat['married'].astype('float')"
   ]
  },
  {
   "cell_type": "code",
   "execution_count": null,
   "id": "1526cda1",
   "metadata": {},
   "outputs": [],
   "source": [
    "mar_stat['divorced'] = mar_stat['divorced'].astype('float')"
   ]
  },
  {
   "cell_type": "code",
   "execution_count": null,
   "id": "53b3e38e",
   "metadata": {},
   "outputs": [],
   "source": [
    "mar_stat.plot(x='year', y=['single', 'married', 'divorced'], figsize=(10,5), grid=False)"
   ]
  },
  {
   "cell_type": "code",
   "execution_count": null,
   "id": "b39e9632",
   "metadata": {},
   "outputs": [],
   "source": [
    "data_div = {'post_yr': [1, 5, 10, 15, 20, 25, 30,],\n",
    "    'div_per': ['0.87', '2.75', '2.89', '3.23', '3.79', '4.00', '4.30' ]}\n",
    "data_div = pd.DataFrame(data_div)\n",
    "print(data_div)"
   ]
  },
  {
   "cell_type": "code",
   "execution_count": null,
   "id": "90c294c5",
   "metadata": {},
   "outputs": [],
   "source": [
    "rs = pd.read_csv('C:/Users/dmora/Documents/NSS/Capstone/data/rec_public_2021.csv')\n",
    "rs"
   ]
  },
  {
   "cell_type": "code",
   "execution_count": null,
   "id": "62753e3e",
   "metadata": {},
   "outputs": [],
   "source": [
    "rs_base = (\n",
    "    rs\n",
    "    [[\n",
    "        'UniID', 'SVitDate', 'SDthDtMd', 'SDthDt', 'SCsDth1',\n",
    "        'SCsDth2', 'SCsDth3', 'SCsDth4', 'SCsDth5',\t\n",
    "        \n",
    "        \n",
    "    ]]\n",
    "   \n",
    ")\n",
    "\n",
    "rs_base"
   ]
  },
  {
   "cell_type": "code",
   "execution_count": null,
   "id": "5b65824d",
   "metadata": {},
   "outputs": [],
   "source": [
    "rs_base = rs_base.rename(columns={\n",
    "    'SVitDate' : 'VStatDt', 'SDthDtMd' : 'DtDateMod', 'SDthDt':'DtDth', \n",
    "    'SCsDth1' :'PriCauDth','SCsDth2' :'SecCauDth', 'SCsDth3' :'ThiCauDth', \n",
    "    'SCsDth4' :'FouCauDth', 'SCsDth5' : 'FifCauDth',\t\n",
    "\n",
    "})\n",
    "\n",
    "rs_base"
   ]
  },
  {
   "cell_type": "code",
   "execution_count": null,
   "id": "3110f0ea",
   "metadata": {},
   "outputs": [],
   "source": [
    "rs_base.VStatDt.value_counts(dropna = False)"
   ]
  },
  {
   "cell_type": "code",
   "execution_count": null,
   "id": "8349d77b",
   "metadata": {},
   "outputs": [],
   "source": [
    "rs_base['VStatDt'] = rs_base['VStatDt'].fillna(0)\n",
    "rs_base"
   ]
  },
  {
   "cell_type": "code",
   "execution_count": null,
   "id": "a215317f",
   "metadata": {},
   "outputs": [],
   "source": [
    "rs_base['VStatDt']  = rs_base['VStatDt'].astype('int')\n",
    "rs_base"
   ]
  },
  {
   "cell_type": "code",
   "execution_count": null,
   "id": "d38532aa",
   "metadata": {},
   "outputs": [],
   "source": [
    "rs_base.DtDth.value_counts(dropna = False)"
   ]
  },
  {
   "cell_type": "code",
   "execution_count": null,
   "id": "200c7fde",
   "metadata": {},
   "outputs": [],
   "source": [
    "rs_base['DtDth'] = rs_base['DtDth'].fillna(0)\n",
    "rs_base"
   ]
  },
  {
   "cell_type": "code",
   "execution_count": null,
   "id": "52e5a02c",
   "metadata": {},
   "outputs": [],
   "source": [
    "rs_base['DtDth']  = rs_base['DtDth'].astype('int')\n",
    "rs_base['DtDth']"
   ]
  },
  {
   "cell_type": "code",
   "execution_count": null,
   "id": "4433a402",
   "metadata": {},
   "outputs": [],
   "source": [
    "f1_f2"
   ]
  },
  {
   "cell_type": "code",
   "execution_count": null,
   "id": "6ea93195",
   "metadata": {},
   "outputs": [],
   "source": [
    "avg_lisp = f1_base[['unique_id', 'age1', 'AInjDt',]]\n",
    "avg_lisp"
   ]
  },
  {
   "cell_type": "code",
   "execution_count": null,
   "id": "12941917",
   "metadata": {},
   "outputs": [],
   "source": [
    "avg_lisp = pd.merge(avg_lisp, rs_base, left_on=['unique_id'], right_on=['UniID'],how='inner')\n",
    "avg_lisp"
   ]
  },
  {
   "cell_type": "code",
   "execution_count": null,
   "id": "01e33de0",
   "metadata": {},
   "outputs": [],
   "source": [
    "avg_lisp = avg_lisp[['unique_id', 'age1', 'AInjDt', 'DtDth']]\n",
    "avg_lisp"
   ]
  },
  {
   "cell_type": "code",
   "execution_count": null,
   "id": "9c541796",
   "metadata": {
    "scrolled": true
   },
   "outputs": [],
   "source": [
    "avg_lisp.DtDth.value_counts()"
   ]
  },
  {
   "cell_type": "code",
   "execution_count": null,
   "id": "e5aec993",
   "metadata": {},
   "outputs": [],
   "source": [
    "avg_lisp = avg_lisp.loc[(avg_lisp.DtDth != 0)]\n",
    "avg_lisp"
   ]
  },
  {
   "cell_type": "code",
   "execution_count": null,
   "id": "f13da6f8",
   "metadata": {},
   "outputs": [],
   "source": [
    "avg_lisp['yrs_aft'] = avg_lisp['DtDth'] -  avg_lisp['AInjDt']\n",
    "avg_lisp"
   ]
  },
  {
   "cell_type": "code",
   "execution_count": null,
   "id": "2563fc7b",
   "metadata": {},
   "outputs": [],
   "source": [
    "avg_lisp.yrs_aft.describe()"
   ]
  },
  {
   "cell_type": "code",
   "execution_count": null,
   "id": "d06a76e7",
   "metadata": {},
   "outputs": [],
   "source": [
    "avg_lisp['age_at_dth'] = avg_lisp['age1'] + avg_lisp['yrs_aft']\n",
    "avg_lisp"
   ]
  },
  {
   "cell_type": "code",
   "execution_count": null,
   "id": "b043cd09",
   "metadata": {},
   "outputs": [],
   "source": [
    "avg_lisp = avg_lisp.rename(columns={'yrs_aft' : 'Years_Lived_After_Injury'})\n",
    "\n",
    "avg_lisp"
   ]
  },
  {
   "cell_type": "code",
   "execution_count": null,
   "id": "c4b473b1",
   "metadata": {},
   "outputs": [],
   "source": [
    "avg_lisp.to_csv('../data/avg_lisp.csv', index = False)"
   ]
  },
  {
   "cell_type": "code",
   "execution_count": null,
   "id": "adb326f3",
   "metadata": {},
   "outputs": [],
   "source": [
    "avg_lisp.loc[(avg_lisp.age_at_dth == 111)]"
   ]
  },
  {
   "cell_type": "code",
   "execution_count": null,
   "id": "db2e6c77",
   "metadata": {},
   "outputs": [],
   "source": [
    "avg_lisp.age_at_dth.value_counts()"
   ]
  },
  {
   "cell_type": "code",
   "execution_count": null,
   "id": "6d0a5043",
   "metadata": {},
   "outputs": [],
   "source": [
    "avg_lisp.Years_Lived_After_Injury.describe()"
   ]
  },
  {
   "cell_type": "code",
   "execution_count": null,
   "id": "37baa264",
   "metadata": {},
   "outputs": [],
   "source": [
    "plt.figure(figsize = (10,6))\n",
    "\n",
    "sns.boxplot(data = avg_lisp,\n",
    "           x = 'Years_Lived_After_Injury')\n",
    "\n",
    "plt.title('SCI Average Lifespan');"
   ]
  },
  {
   "cell_type": "code",
   "execution_count": null,
   "id": "079dbbfb",
   "metadata": {},
   "outputs": [],
   "source": [
    "f1_f2"
   ]
  },
  {
   "cell_type": "code",
   "execution_count": null,
   "id": "65f225af",
   "metadata": {},
   "outputs": [],
   "source": [
    "f1_f2.ALivBrth"
   ]
  },
  {
   "cell_type": "code",
   "execution_count": null,
   "id": "88e022b7",
   "metadata": {},
   "outputs": [],
   "source": [
    "edcafa = (\n",
    "    f1_f2\n",
    "    [[\n",
    "        'unique_id', 'age1', 'post_inj_yr', 'educ_lvl1', 'educ_lvl2', \n",
    "        'occ_stat1', 'occ_stat2', 'res1', 'res_at_dis', 'res2', 'mar_stat1', 'mar_stat2',\n",
    "        'ALivBrth', 'BLivBrth', 'inc_lvl1', 'inc_lvl2', 'BLifSatT', 'BSPHthSt'\n",
    "        \n",
    "    ]]\n",
    "   \n",
    ")\n",
    "\n",
    "edcafa"
   ]
  },
  {
   "cell_type": "code",
   "execution_count": null,
   "id": "297d7c3a",
   "metadata": {},
   "outputs": [],
   "source": [
    "edcafa.loc[(edcafa.ALivBrth != 77) & (edcafa.ALivBrth != 88) & (edcafa.ALivBrth != 99) & (edcafa.BLivBrth != 77) & (edcafa.BLivBrth != 88) & (edcafa.BLivBrth != 99) & (edcafa.BLivBrth != 'null')]"
   ]
  },
  {
   "cell_type": "code",
   "execution_count": null,
   "id": "e724da78",
   "metadata": {},
   "outputs": [],
   "source": [
    "edcafa['BLivBrth'] = edcafa['BLivBrth'].fillna('null')\n",
    "edcafa"
   ]
  },
  {
   "cell_type": "code",
   "execution_count": null,
   "id": "84c81790",
   "metadata": {},
   "outputs": [],
   "source": [
    "births = edcafa.loc[(edcafa.ALivBrth != 77) & (edcafa.ALivBrth != 88) & (edcafa.ALivBrth != 99) & (edcafa.ALivBrth != 'null') & (edcafa.BLivBrth != 77) & (edcafa.BLivBrth != 88) & (edcafa.BLivBrth != 99) & (edcafa.BLivBrth != 'null')]\n",
    "births"
   ]
  },
  {
   "cell_type": "code",
   "execution_count": null,
   "id": "836856a7",
   "metadata": {},
   "outputs": [],
   "source": [
    "births.ALivBrth.value_counts(dropna=False)"
   ]
  },
  {
   "cell_type": "code",
   "execution_count": null,
   "id": "e56c0ded",
   "metadata": {},
   "outputs": [],
   "source": [
    "births.dtypes"
   ]
  },
  {
   "cell_type": "code",
   "execution_count": null,
   "id": "b615482d",
   "metadata": {},
   "outputs": [],
   "source": [
    "births['BLivBrth'] = births['BLivBrth'].astype('int')"
   ]
  },
  {
   "cell_type": "code",
   "execution_count": null,
   "id": "1bb95c25",
   "metadata": {},
   "outputs": [],
   "source": [
    "births.dtypes"
   ]
  },
  {
   "cell_type": "code",
   "execution_count": null,
   "id": "4ad87e46",
   "metadata": {},
   "outputs": [],
   "source": [
    "births"
   ]
  },
  {
   "cell_type": "code",
   "execution_count": null,
   "id": "90fb92f1",
   "metadata": {},
   "outputs": [],
   "source": [
    "births['birth_aft'] = births['BLivBrth'] - births['ALivBrth']\n",
    "births"
   ]
  },
  {
   "cell_type": "code",
   "execution_count": null,
   "id": "3a498634",
   "metadata": {},
   "outputs": [],
   "source": [
    "births1 = births[['unique_id', 'ALivBrth', 'BLivBrth', 'birth_aft']]\n",
    "births1"
   ]
  },
  {
   "cell_type": "code",
   "execution_count": null,
   "id": "af9218c7",
   "metadata": {},
   "outputs": [],
   "source": [
    "births2 = births1.loc[births1.birth_aft != 0]\n",
    "births2"
   ]
  },
  {
   "cell_type": "code",
   "execution_count": null,
   "id": "63d213a4",
   "metadata": {},
   "outputs": [],
   "source": [
    "births2 = births2.reset_index()\n",
    "births2"
   ]
  },
  {
   "cell_type": "code",
   "execution_count": null,
   "id": "406cb51a",
   "metadata": {},
   "outputs": [],
   "source": [
    "births2 = births2.drop('index', axis = 1)\n",
    "births2"
   ]
  },
  {
   "cell_type": "code",
   "execution_count": null,
   "id": "ea4fd15a",
   "metadata": {},
   "outputs": [],
   "source": [
    "births2.unique_id.value_counts().head(6)"
   ]
  },
  {
   "cell_type": "code",
   "execution_count": null,
   "id": "a2ba1b53",
   "metadata": {},
   "outputs": [],
   "source": [
    "births2.loc[(births2.unique_id == 13565)]"
   ]
  },
  {
   "cell_type": "code",
   "execution_count": null,
   "id": "090b7367",
   "metadata": {},
   "outputs": [],
   "source": [
    "births2 = births2.loc[(births2.index != 111) & (births2.index != 248) & (births2.index != 255) & (births2.index != 32) & (births2.index != 270) & (births2.index != 121)].reset_index()\n",
    "births2"
   ]
  },
  {
   "cell_type": "code",
   "execution_count": null,
   "id": "9e419349",
   "metadata": {},
   "outputs": [],
   "source": [
    "births2.birth_aft.value_counts()"
   ]
  },
  {
   "cell_type": "code",
   "execution_count": null,
   "id": "ee849385",
   "metadata": {},
   "outputs": [],
   "source": [
    "births2.loc[(births2.birth_aft != -3)]"
   ]
  },
  {
   "cell_type": "code",
   "execution_count": null,
   "id": "ab89521d",
   "metadata": {},
   "outputs": [],
   "source": [
    "births.ALivBrth.value_counts()"
   ]
  },
  {
   "cell_type": "code",
   "execution_count": null,
   "id": "05c03a79",
   "metadata": {
    "scrolled": true
   },
   "outputs": [],
   "source": [
    "births_ai = births.groupby('ALivBrth').ALivBrth.value_counts().to_frame().reset_index()\n",
    "births_ai"
   ]
  },
  {
   "cell_type": "code",
   "execution_count": null,
   "id": "8242ada5",
   "metadata": {},
   "outputs": [],
   "source": [
    "births_ai = births_ai.rename(columns={'ALivBrth' : '#_births_ai', 'count' : '#_birth_tot_ai'})\n",
    "births_ai"
   ]
  },
  {
   "cell_type": "code",
   "execution_count": null,
   "id": "5dfca3ec",
   "metadata": {},
   "outputs": [],
   "source": [
    "births_ai['total_sum'] = births_ai['#_birth_tot_ai'].sum()\n",
    "births_ai"
   ]
  },
  {
   "cell_type": "code",
   "execution_count": null,
   "id": "e9b11f9e",
   "metadata": {},
   "outputs": [],
   "source": [
    "births_ai['births_ai_per'] = (births_ai['#_birth_tot_ai'] / births_ai['total_sum']) * 100\n",
    "births_ai"
   ]
  },
  {
   "cell_type": "code",
   "execution_count": null,
   "id": "ce6f7871",
   "metadata": {},
   "outputs": [],
   "source": [
    "births.BLivBrth.value_counts()"
   ]
  },
  {
   "cell_type": "code",
   "execution_count": null,
   "id": "616352d4",
   "metadata": {},
   "outputs": [],
   "source": [
    "births_pi = births.groupby('BLivBrth').BLivBrth.value_counts().to_frame().reset_index()\n",
    "births_pi"
   ]
  },
  {
   "cell_type": "code",
   "execution_count": null,
   "id": "24d56cd6",
   "metadata": {},
   "outputs": [],
   "source": [
    "births_pi = births_pi.rename(columns={'BLivBrth' : '#_births_pi', 'count' : '#_tot_pi'})\n",
    "births_pi"
   ]
  },
  {
   "cell_type": "code",
   "execution_count": null,
   "id": "fcd5bfc6",
   "metadata": {},
   "outputs": [],
   "source": [
    "births_pi['total_sum'] = births_pi['#_tot_pi'].sum()\n",
    "births_pi"
   ]
  },
  {
   "cell_type": "code",
   "execution_count": null,
   "id": "69b0e826",
   "metadata": {},
   "outputs": [],
   "source": [
    "births_pi['births_pi_per'] = (births_pi['#_tot_pi'] / births_pi['total_sum']) * 100\n",
    "births_pi"
   ]
  },
  {
   "cell_type": "code",
   "execution_count": null,
   "id": "8ee6c230",
   "metadata": {},
   "outputs": [],
   "source": [
    "births_pi_per = births_pi[['#_births_pi', 'births_pi_per']]\n",
    "births_pi_per"
   ]
  },
  {
   "cell_type": "code",
   "execution_count": null,
   "id": "f90f8434",
   "metadata": {},
   "outputs": [],
   "source": [
    "births_ai_per = births_ai[['#_births_ai', 'births_ai_per']]\n",
    "births_ai_per"
   ]
  },
  {
   "cell_type": "code",
   "execution_count": null,
   "id": "4c535da8",
   "metadata": {},
   "outputs": [],
   "source": [
    "birth_rates = pd.merge(births_ai_per, births_pi_per, left_on=['#_births_ai'], right_on=['#_births_pi'],how='inner')\n",
    "birth_rates"
   ]
  },
  {
   "cell_type": "code",
   "execution_count": null,
   "id": "55cc0e18",
   "metadata": {},
   "outputs": [],
   "source": [
    "birth_rates = birth_rates.drop('#_births_pi', axis=1)\n",
    "birth_rates"
   ]
  },
  {
   "cell_type": "code",
   "execution_count": null,
   "id": "7964b066",
   "metadata": {},
   "outputs": [],
   "source": [
    "birth_rates = birth_rates.rename(columns={'#_births_ai' : '#_live_births'})\n",
    "birth_rates"
   ]
  },
  {
   "cell_type": "code",
   "execution_count": null,
   "id": "3173a12c",
   "metadata": {},
   "outputs": [],
   "source": [
    "no_births = birth_rates.head(1)\n",
    "no_births"
   ]
  },
  {
   "cell_type": "code",
   "execution_count": null,
   "id": "8421868e",
   "metadata": {},
   "outputs": [],
   "source": [
    "births_child = birth_rates.tail(10)\n",
    "births_child"
   ]
  },
  {
   "cell_type": "code",
   "execution_count": null,
   "id": "a75fa2b0",
   "metadata": {},
   "outputs": [],
   "source": [
    "births_child.loc['total'] = births_child.sum()\n",
    "births_child"
   ]
  },
  {
   "cell_type": "code",
   "execution_count": null,
   "id": "2ad4f8a3",
   "metadata": {},
   "outputs": [],
   "source": [
    "no_births"
   ]
  },
  {
   "cell_type": "code",
   "execution_count": null,
   "id": "30322f5c",
   "metadata": {},
   "outputs": [],
   "source": [
    "births_child1 = births_child.tail(1).reset_index()\n",
    "births_child1"
   ]
  },
  {
   "cell_type": "code",
   "execution_count": null,
   "id": "2acf147f",
   "metadata": {},
   "outputs": [],
   "source": [
    "births_child1 = births_child1.drop('index', axis=1)\n",
    "births_child1"
   ]
  },
  {
   "cell_type": "code",
   "execution_count": null,
   "id": "7e0d7dc4",
   "metadata": {},
   "outputs": [],
   "source": [
    "no_births"
   ]
  },
  {
   "cell_type": "code",
   "execution_count": null,
   "id": "9ded80fb",
   "metadata": {},
   "outputs": [],
   "source": [
    "no_births = no_births.rename(columns={'births_ai_per' : 'childless_ai', 'births_pi_per' :'childless_pi' })\n",
    "no_births"
   ]
  },
  {
   "cell_type": "code",
   "execution_count": null,
   "id": "3cd7385a",
   "metadata": {},
   "outputs": [],
   "source": [
    "no_births['with_child_ai'] = 100 - no_births.childless_ai\n",
    "no_births"
   ]
  },
  {
   "cell_type": "code",
   "execution_count": null,
   "id": "937731ba",
   "metadata": {},
   "outputs": [],
   "source": [
    "no_births['with_child_pi'] = 100 - no_births.childless_pi\n",
    "no_births"
   ]
  },
  {
   "cell_type": "code",
   "execution_count": null,
   "id": "867ef8c9",
   "metadata": {},
   "outputs": [],
   "source": [
    "child_atinj = no_births[['childless_ai', 'with_child_ai']]\n",
    "child_atinj"
   ]
  },
  {
   "cell_type": "code",
   "execution_count": null,
   "id": "d0e1d36e",
   "metadata": {},
   "outputs": [],
   "source": [
    "child_atinj.to_csv('../data/child_atinj.csv', index = False)"
   ]
  },
  {
   "cell_type": "code",
   "execution_count": null,
   "id": "db610e0d",
   "metadata": {},
   "outputs": [],
   "source": [
    "# Data\n",
    "labels = [\"Childless\", \"With Child\"]\n",
    "value = [47.38, 52.62]\n",
    "\n",
    "# Pie chart\n",
    "fig, ax = plt.subplots()\n",
    "ax.pie(value, labels = labels, autopct = '%1.1f%%')\n",
    "\n",
    "# plt.show()"
   ]
  },
  {
   "cell_type": "code",
   "execution_count": null,
   "id": "8d1c0c22",
   "metadata": {},
   "outputs": [],
   "source": [
    "child_postinj = no_births[['childless_pi', 'with_child_pi']]\n",
    "child_postinj"
   ]
  },
  {
   "cell_type": "code",
   "execution_count": null,
   "id": "2c3ea929",
   "metadata": {},
   "outputs": [],
   "source": [
    "child_postinj.to_csv('../data/child_postinj.csv', index = False)"
   ]
  },
  {
   "cell_type": "code",
   "execution_count": null,
   "id": "a410b319",
   "metadata": {},
   "outputs": [],
   "source": [
    "# Data\n",
    "labels = [\"Childless\", \"With Child\"]\n",
    "value = [37.80, 62.20]\n",
    "\n",
    "# Pie chart\n",
    "fig, ax = plt.subplots()\n",
    "ax.pie(value, labels = labels, autopct = '%1.1f%%')\n",
    "\n",
    "# plt.show()"
   ]
  },
  {
   "cell_type": "code",
   "execution_count": null,
   "id": "c433015c",
   "metadata": {},
   "outputs": [],
   "source": [
    "kpi = pd.merge(edcafa, rs_base, left_on=['unique_id'], right_on=['UniID'],how='inner')\n",
    "kpi.head(20)"
   ]
  },
  {
   "cell_type": "code",
   "execution_count": null,
   "id": "276025d4",
   "metadata": {},
   "outputs": [],
   "source": [
    "f1_ed = f1[['UniID', 'AEducLvl']]"
   ]
  },
  {
   "cell_type": "code",
   "execution_count": null,
   "id": "98c24deb",
   "metadata": {},
   "outputs": [],
   "source": [
    "f2_ed = f2[['UniID', 'BYear', 'BEducLvl']]\n",
    "f2_ed"
   ]
  },
  {
   "cell_type": "code",
   "execution_count": null,
   "id": "9b4bbef4",
   "metadata": {},
   "outputs": [],
   "source": [
    "ed = pd.merge(f1_ed, f2_ed, left_on=['UniID'], right_on=['UniID'],how='inner')\n",
    "ed"
   ]
  },
  {
   "cell_type": "code",
   "execution_count": null,
   "id": "e3092e9e",
   "metadata": {},
   "outputs": [],
   "source": [
    "ed['BEducLvl'] = ed['BEducLvl'].fillna('null')\n",
    "ed"
   ]
  },
  {
   "cell_type": "code",
   "execution_count": null,
   "id": "e684e22a",
   "metadata": {},
   "outputs": [],
   "source": [
    "ed_1 = ed.loc[(ed.BEducLvl != 'null')]\n",
    "ed_1"
   ]
  },
  {
   "cell_type": "code",
   "execution_count": null,
   "id": "7ca34400",
   "metadata": {},
   "outputs": [],
   "source": [
    "ed_1['BEducLvl'] = ed_1['BEducLvl'].astype('int')\n",
    "ed_1.head(15)"
   ]
  },
  {
   "cell_type": "code",
   "execution_count": null,
   "id": "34297ff0",
   "metadata": {},
   "outputs": [],
   "source": [
    "ed_1 = ed_1.loc[(ed_1.BEducLvl != 9)]\n",
    "ed_1"
   ]
  },
  {
   "cell_type": "code",
   "execution_count": null,
   "id": "27bce12a",
   "metadata": {},
   "outputs": [],
   "source": [
    "ed_1['ed_up'] = ed_1['BEducLvl'] - ed_1['AEducLvl']\n",
    "ed_1"
   ]
  },
  {
   "cell_type": "code",
   "execution_count": null,
   "id": "c351ad06",
   "metadata": {},
   "outputs": [],
   "source": [
    "ed_up1 = ed_1.loc[(ed_1.ed_up != 0)]\n",
    "ed_up1"
   ]
  },
  {
   "cell_type": "code",
   "execution_count": null,
   "id": "139d8fb1",
   "metadata": {},
   "outputs": [],
   "source": [
    "ed_up1.groupby(['UniID'])['BEducLvl'].max()"
   ]
  },
  {
   "cell_type": "code",
   "execution_count": null,
   "id": "4829f5ee",
   "metadata": {},
   "outputs": [],
   "source": [
    "ed_up1.UniID.nunique()"
   ]
  },
  {
   "cell_type": "code",
   "execution_count": null,
   "id": "b45cdd3c",
   "metadata": {},
   "outputs": [],
   "source": [
    "ed_upmax = ed_up1.groupby(['UniID'])['BEducLvl'].max().to_frame().reset_index()\n",
    "ed_upmax"
   ]
  },
  {
   "cell_type": "code",
   "execution_count": null,
   "id": "db5cc000",
   "metadata": {},
   "outputs": [],
   "source": [
    "for ind, row in ed_upmax.iterrows():\n",
    "    if row.BEducLvl == 1:\n",
    "        ed_upmax.loc[ind, 'BEducMax'] = '8th_Grade_Or_Lower'\n",
    "    elif row.BEducLvl == 2:\n",
    "        ed_upmax.loc[ind, 'BEducMax'] = '9th_Grade-11th_Grade'\n",
    "    elif row.BEducLvl == 3:\n",
    "        ed_upmax.loc[ind, 'BEducMax'] = 'High_School_Diploma'\n",
    "    elif row.BEducLvl == 4:\n",
    "        ed_upmax.loc[ind, 'BEducMax'] = 'Associates_Degree'\n",
    "    elif row.BEducLvl == 5:\n",
    "        ed_upmax.loc[ind, 'BEducMax'] = 'Bachelors_Degree'\n",
    "    elif row.BEducLvl == 6:\n",
    "        ed_upmax.loc[ind, 'BEducMax'] = 'Masters_Degree'\n",
    "    elif row.BEducLvl == 7:\n",
    "        ed_upmax.loc[ind, 'BEducMax'] = 'Doctorate_Degree'\n",
    "    elif row.BEducLvl == 8:\n",
    "        ed_upmax.loc[ind, 'BEducMax'] = 'Other'    \n",
    "    elif row.BEducLvl == 9:\n",
    "        ed_upmax.loc[ind, 'BEducMax'] = 'Unknown'  "
   ]
  },
  {
   "cell_type": "code",
   "execution_count": null,
   "id": "1728d95f",
   "metadata": {},
   "outputs": [],
   "source": [
    "ed_upmax"
   ]
  },
  {
   "cell_type": "code",
   "execution_count": null,
   "id": "5f41f2ae",
   "metadata": {},
   "outputs": [],
   "source": [
    "ed_upmax['BEducMax'].value_counts().plot(kind = 'bar');"
   ]
  },
  {
   "cell_type": "code",
   "execution_count": null,
   "id": "35b1acaf",
   "metadata": {},
   "outputs": [],
   "source": [
    "ed_ai = f1_base[['unique_id', 'educ_lvl1']]"
   ]
  },
  {
   "cell_type": "code",
   "execution_count": null,
   "id": "ca7b9648",
   "metadata": {},
   "outputs": [],
   "source": [
    "ed_upmax_com = pd.merge(ed_upmax, ed_ai, left_on=['UniID'], right_on=['unique_id'],how='inner')\n",
    "ed_upmax_com"
   ]
  },
  {
   "cell_type": "code",
   "execution_count": null,
   "id": "bf1ac8e4",
   "metadata": {},
   "outputs": [],
   "source": [
    "ed_upmax_com['total_ai'] = ed_upmax_com.educ_lvl1.value_counts().sum()\n",
    "ed_upmax_com"
   ]
  },
  {
   "cell_type": "code",
   "execution_count": null,
   "id": "88be0531",
   "metadata": {},
   "outputs": [],
   "source": [
    "educ_lvl1_per = ed_upmax_com.educ_lvl1.value_counts().to_frame().reset_index()\n",
    "educ_lvl1_per"
   ]
  },
  {
   "cell_type": "code",
   "execution_count": null,
   "id": "e2e9c511",
   "metadata": {},
   "outputs": [],
   "source": [
    "educ_lvl1_per = educ_lvl1_per.rename(columns={'count' : 'educ_totals'})\n",
    "educ_lvl1_per"
   ]
  },
  {
   "cell_type": "code",
   "execution_count": null,
   "id": "de73b61b",
   "metadata": {},
   "outputs": [],
   "source": [
    "educ_lvl1_per['total_ai'] = educ_lvl1_per.educ_totals.sum()\n",
    "educ_lvl1_per"
   ]
  },
  {
   "cell_type": "code",
   "execution_count": null,
   "id": "57d340ff",
   "metadata": {},
   "outputs": [],
   "source": [
    "educ_lvl1_per['educ_ai_per'] = (educ_lvl1_per.educ_totals / educ_lvl1_per.total_ai) * 100\n",
    "educ_lvl1_per"
   ]
  },
  {
   "cell_type": "code",
   "execution_count": null,
   "id": "bb23d70e",
   "metadata": {},
   "outputs": [],
   "source": [
    "ed_upmax"
   ]
  },
  {
   "cell_type": "code",
   "execution_count": null,
   "id": "74db74d1",
   "metadata": {},
   "outputs": [],
   "source": [
    "ed_upmax['total_max'] = ed_upmax.BEducMax.value_counts().sum()\n",
    "ed_upmax"
   ]
  },
  {
   "cell_type": "code",
   "execution_count": null,
   "id": "fa94b3a6",
   "metadata": {},
   "outputs": [],
   "source": [
    "ed_upmax_per = ed_upmax.BEducMax.value_counts().to_frame().reset_index()\n",
    "ed_upmax_per"
   ]
  },
  {
   "cell_type": "code",
   "execution_count": null,
   "id": "16aa58cd",
   "metadata": {},
   "outputs": [],
   "source": [
    "ed_upmax_per = ed_upmax_per.rename(columns={'count' : 'educ_max_totals'})\n",
    "ed_upmax_per"
   ]
  },
  {
   "cell_type": "code",
   "execution_count": null,
   "id": "81543cf6",
   "metadata": {},
   "outputs": [],
   "source": [
    "ed_upmax_per['total_max'] = ed_upmax_per.educ_max_totals.sum()\n",
    "ed_upmax_per"
   ]
  },
  {
   "cell_type": "code",
   "execution_count": null,
   "id": "3bf7f1d4",
   "metadata": {},
   "outputs": [],
   "source": [
    "ed_upmax_per['educ_max_per'] = (ed_upmax_per.educ_max_totals / ed_upmax_per.total_max) * 100\n",
    "ed_upmax_per"
   ]
  },
  {
   "cell_type": "code",
   "execution_count": null,
   "id": "332383cc",
   "metadata": {},
   "outputs": [],
   "source": [
    "educ_lvl1_per"
   ]
  },
  {
   "cell_type": "code",
   "execution_count": null,
   "id": "0454d861",
   "metadata": {},
   "outputs": [],
   "source": [
    "edai = educ_lvl1_per[['educ_lvl1', 'educ_ai_per']]\n",
    "edai"
   ]
  },
  {
   "cell_type": "code",
   "execution_count": null,
   "id": "cdc4f769",
   "metadata": {},
   "outputs": [],
   "source": [
    "edmax = ed_upmax_per[['BEducMax', 'educ_max_per']]\n",
    "edmax"
   ]
  },
  {
   "cell_type": "code",
   "execution_count": null,
   "id": "d76b1288",
   "metadata": {},
   "outputs": [],
   "source": [
    "edcom = pd.merge(edai, edmax, left_on=['educ_lvl1'], right_on=['BEducMax'],how='inner')\n",
    "edcom"
   ]
  },
  {
   "cell_type": "code",
   "execution_count": null,
   "id": "ce1a60b3",
   "metadata": {
    "scrolled": true
   },
   "outputs": [],
   "source": [
    "edcom = edcom.drop('BEducMax', axis = 1)\n",
    "edcom"
   ]
  },
  {
   "cell_type": "code",
   "execution_count": null,
   "id": "f3de05c7",
   "metadata": {},
   "outputs": [],
   "source": [
    "edcom = edcom.rename(columns={'educ_lvl1' : 'Education_Level', 'educ_ai_per' : 'At_Injury', 'educ_max_per' :'Post_Injury'  })\n",
    "edcom"
   ]
  },
  {
   "cell_type": "code",
   "execution_count": null,
   "id": "d5160ca1",
   "metadata": {},
   "outputs": [],
   "source": [
    "f1_base"
   ]
  },
  {
   "cell_type": "code",
   "execution_count": null,
   "id": "336ce37d",
   "metadata": {},
   "outputs": [],
   "source": [
    "f1_occ = f1[['UniID','APrLvlSt']]\n",
    "f1_occ"
   ]
  },
  {
   "cell_type": "code",
   "execution_count": null,
   "id": "c41c07f3",
   "metadata": {},
   "outputs": [],
   "source": [
    "f2_occ = f2[['UniID','BYear','BPrLvlSt']]\n",
    "f2_occ"
   ]
  },
  {
   "cell_type": "code",
   "execution_count": null,
   "id": "7af20784",
   "metadata": {},
   "outputs": [],
   "source": [
    "f2_occ = f2_occ.rename(columns={'UniID' : \"UniID2\"})\n",
    "f2_occ"
   ]
  },
  {
   "cell_type": "code",
   "execution_count": null,
   "id": "aa81ea04",
   "metadata": {},
   "outputs": [],
   "source": [
    "occ_ov = pd.merge(f1_occ, f2_occ, left_on=['UniID'], right_on=['UniID2'],how='inner')\n",
    "occ_ov"
   ]
  },
  {
   "cell_type": "code",
   "execution_count": null,
   "id": "829097bc",
   "metadata": {},
   "outputs": [],
   "source": [
    "null_mask = occ_ov.isnull().any(axis=1)\n",
    "null_rows = occ_ov[null_mask]\n",
    "\n",
    "print(null_rows)"
   ]
  },
  {
   "cell_type": "code",
   "execution_count": null,
   "id": "7e944e50",
   "metadata": {},
   "outputs": [],
   "source": [
    "occ_ov = occ_ov.fillna(0) \n",
    "occ_ov"
   ]
  },
  {
   "cell_type": "code",
   "execution_count": null,
   "id": "79fe42e1",
   "metadata": {},
   "outputs": [],
   "source": [
    "for ind, row in occ_ov.iterrows():\n",
    "    if row.APrLvlSt == 0:\n",
    "        occ_ov.loc[ind, 'Occupation_At_Injury'] = 'Null'\n",
    "    elif row.APrLvlSt == 1:\n",
    "        occ_ov.loc[ind, 'Occupation_At_Injury'] = 'Working'\n",
    "    elif row.APrLvlSt == 2:\n",
    "        occ_ov.loc[ind, 'Occupation_At_Injury'] = 'Homemaker'\n",
    "    elif row.APrLvlSt == 3:\n",
    "        occ_ov.loc[ind, 'Occupation_At_Injury'] = 'On_The_Job_Training'\n",
    "    elif row.APrLvlSt == 4:\n",
    "        occ_ov.loc[ind, 'Occupation_At_Injury'] = 'Sheltered Workshop'\n",
    "    elif row.APrLvlSt == 5:\n",
    "        occ_ov.loc[ind, 'Occupation_At_Injury'] = 'Retired'\n",
    "    elif row.APrLvlSt == 6:\n",
    "        occ_ov.loc[ind, 'Occupation_At_Injury'] = 'Student'\n",
    "    elif row.APrLvlSt == 7:\n",
    "        occ_ov.loc[ind, 'Occupation_At_Injury'] = 'Unemployed'\n",
    "    elif row.APrLvlSt == 8:\n",
    "        occ_ov.loc[ind, 'Occupation_At_Injury'] = 'Retired_Disability_Pension'    \n",
    "    elif row.APrLvlSt == 9:\n",
    "        occ_ov.loc[ind, 'Occupation_At_Injury'] = 'Retired_Non_Disability'    \n",
    "    elif row.APrLvlSt == 10:\n",
    "        occ_ov.loc[ind, 'Occupation_At_Injury'] = 'Other_Unclassified' \n",
    "    elif row.APrLvlSt == 99:\n",
    "        occ_ov.loc[ind, 'Occupation_At_Injury'] = 'Unknown'     "
   ]
  },
  {
   "cell_type": "code",
   "execution_count": null,
   "id": "3076d8af",
   "metadata": {},
   "outputs": [],
   "source": [
    "occ_ov.head(20)"
   ]
  },
  {
   "cell_type": "code",
   "execution_count": null,
   "id": "2d15cdad",
   "metadata": {},
   "outputs": [],
   "source": [
    "for ind, row in occ_ov.iterrows():\n",
    "    if row.BPrLvlSt == 0:\n",
    "        occ_ov.loc[ind, 'Occupation_Post_Injury'] = 'Null'\n",
    "    elif row.BPrLvlSt  == 1:\n",
    "        occ_ov.loc[ind, 'Occupation_Post_Injury'] = 'Working'\n",
    "    elif row.BPrLvlSt  == 2:\n",
    "        occ_ov.loc[ind, 'Occupation_Post_Injury'] = 'Homemaker'\n",
    "    elif row.BPrLvlSt  == 3:\n",
    "        occ_ov.loc[ind, 'Occupation_Post_Injury'] = 'On_The_Job_Training'\n",
    "    elif row.BPrLvlSt  == 4:\n",
    "        occ_ov.loc[ind, 'Occupation_Post_Injury'] = 'Sheltered Workshop'\n",
    "    elif row.BPrLvlSt  == 5:\n",
    "        occ_ov.loc[ind, 'Occupation_Post_Injury'] = 'Retired'\n",
    "    elif row.BPrLvlSt  == 6:\n",
    "        occ_ov.loc[ind, 'Occupation_Post_Injury'] = 'Student'\n",
    "    elif row.BPrLvlSt  == 7:\n",
    "        occ_ov.loc[ind, 'Occupation_Post_Injury'] = 'Unemployed'\n",
    "    elif row.BPrLvlSt  == 8:\n",
    "        occ_ov.loc[ind, 'Occupation_Post_Injury'] = 'Retired_Disability_Pension'    \n",
    "    elif row.BPrLvlSt  == 9:\n",
    "        occ_ov.loc[ind, 'Occupation_Post_Injury'] = 'Retired_Non_Disability_Age-Related'    \n",
    "    elif row.BPrLvlSt  == 10:\n",
    "        occ_ov.loc[ind, 'Occupation_Post_Injury'] = 'Other_Unclassified' \n",
    "    elif row.BPrLvlSt  == 99:\n",
    "        occ_ov.loc[ind, 'Occupation_Post_Injury'] = 'Unknown'     "
   ]
  },
  {
   "cell_type": "code",
   "execution_count": null,
   "id": "c56fd227",
   "metadata": {},
   "outputs": [],
   "source": [
    "f1_occ"
   ]
  },
  {
   "cell_type": "code",
   "execution_count": null,
   "id": "8f4b0248",
   "metadata": {},
   "outputs": [],
   "source": [
    "for ind, row in f1_occ.iterrows():\n",
    "    if row.APrLvlSt == 0:\n",
    "        f1_occ.loc[ind, 'Occupation_At_Injury'] = 'Null'\n",
    "    elif row.APrLvlSt == 1:\n",
    "        f1_occ.loc[ind, 'Occupation_At_Injury'] = 'Working'\n",
    "    elif row.APrLvlSt == 2:\n",
    "        f1_occ.loc[ind, 'Occupation_At_Injury'] = 'Homemaker'\n",
    "    elif row.APrLvlSt == 3:\n",
    "        f1_occ.loc[ind, 'Occupation_At_Injury'] = 'On_The_Job_Training'\n",
    "    elif row.APrLvlSt == 4:\n",
    "        f1_occ.loc[ind, 'Occupation_At_Injury'] = 'Sheltered Workshop'\n",
    "    elif row.APrLvlSt == 5:\n",
    "        f1_occ.loc[ind, 'Occupation_At_Injury'] = 'Retired'\n",
    "    elif row.APrLvlSt == 6:\n",
    "        f1_occ.loc[ind, 'Occupation_At_Injury'] = 'Student'\n",
    "    elif row.APrLvlSt == 7:\n",
    "        f1_occ.loc[ind, 'Occupation_At_Injury'] = 'Unemployed'\n",
    "    elif row.APrLvlSt == 8:\n",
    "        f1_occ.loc[ind, 'Occupation_At_Injury'] = 'Retired_Disability_Pension'    \n",
    "    elif row.APrLvlSt == 9:\n",
    "        f1_occ.loc[ind, 'Occupation_At_Injury'] = 'Retired_Non_Disability'    \n",
    "    elif row.APrLvlSt == 10:\n",
    "        f1_occ.loc[ind, 'Occupation_At_Injury'] = 'Other_Unclassified' \n",
    "    elif row.APrLvlSt == 99:\n",
    "        f1_occ.loc[ind, 'Occupation_At_Injury'] = 'Unknown'    "
   ]
  },
  {
   "cell_type": "code",
   "execution_count": null,
   "id": "dcdd6903",
   "metadata": {},
   "outputs": [],
   "source": [
    "f1_occ"
   ]
  },
  {
   "cell_type": "code",
   "execution_count": null,
   "id": "adde249b",
   "metadata": {},
   "outputs": [],
   "source": [
    "f1_occ.Occupation_At_Injury.value_counts()"
   ]
  },
  {
   "cell_type": "code",
   "execution_count": null,
   "id": "4b0d421e",
   "metadata": {},
   "outputs": [],
   "source": [
    "f1_occ = f1_occ.groupby('Occupation_At_Injury').Occupation_At_Injury.value_counts().to_frame().reset_index()\n",
    "f1_occ"
   ]
  },
  {
   "cell_type": "code",
   "execution_count": null,
   "id": "8bb68d81",
   "metadata": {},
   "outputs": [],
   "source": [
    "f1_occ = f1_occ.rename(columns={'count' : 'total'})\n",
    "f1_occ"
   ]
  },
  {
   "cell_type": "code",
   "execution_count": null,
   "id": "51827763",
   "metadata": {},
   "outputs": [],
   "source": [
    "f1_occ['total_sum'] = f1_occ['total'].sum()\n",
    "f1_occ"
   ]
  },
  {
   "cell_type": "code",
   "execution_count": null,
   "id": "2e1c209f",
   "metadata": {},
   "outputs": [],
   "source": [
    "f1_occ['percent_of_total'] = (f1_occ.total / f1_occ.total_sum) * 100\n",
    "f1_occ"
   ]
  },
  {
   "cell_type": "code",
   "execution_count": null,
   "id": "cb530abd",
   "metadata": {},
   "outputs": [],
   "source": [
    "f1_occ.to_csv('../data/f1_occ.csv', index = False)"
   ]
  },
  {
   "cell_type": "code",
   "execution_count": null,
   "id": "583ad7f3",
   "metadata": {},
   "outputs": [],
   "source": [
    "occ_ov"
   ]
  },
  {
   "cell_type": "code",
   "execution_count": null,
   "id": "ee74eb23",
   "metadata": {},
   "outputs": [],
   "source": [
    "occ_ov_ex = occ_ov[['UniID', 'BYear', 'Occupation_Post_Injury']]\n",
    "occ_ov_ex"
   ]
  },
  {
   "cell_type": "code",
   "execution_count": null,
   "id": "2ed8c0d8",
   "metadata": {},
   "outputs": [],
   "source": [
    "occ_ov1 = occ_ov_ex.loc[(occ_ov_ex.BYear == 1)]\n",
    "occ_ov1"
   ]
  },
  {
   "cell_type": "code",
   "execution_count": null,
   "id": "3676c20b",
   "metadata": {},
   "outputs": [],
   "source": [
    "occ_ov1_per = occ_ov1.Occupation_Post_Injury.value_counts().to_frame().reset_index()\n",
    "occ_ov1_per"
   ]
  },
  {
   "cell_type": "code",
   "execution_count": null,
   "id": "cee1f6ce",
   "metadata": {},
   "outputs": [],
   "source": [
    "occ_ov1_per = occ_ov1_per.rename(columns={'count' : 'total'})\n",
    "occ_ov1_per"
   ]
  },
  {
   "cell_type": "code",
   "execution_count": null,
   "id": "86b52416",
   "metadata": {},
   "outputs": [],
   "source": [
    "occ_ov1_per['total_sum'] = occ_ov1_per['total'].sum()\n",
    "occ_ov1_per"
   ]
  },
  {
   "cell_type": "code",
   "execution_count": null,
   "id": "8b1c1b09",
   "metadata": {},
   "outputs": [],
   "source": [
    "occ_ov1_per['percent_of_total_yr1'] = (occ_ov1_per.total / occ_ov1_per.total_sum) * 100\n",
    "occ_ov1_per"
   ]
  },
  {
   "cell_type": "code",
   "execution_count": null,
   "id": "e6287b39",
   "metadata": {},
   "outputs": [],
   "source": [
    "occ_ov1_per = occ_ov1_per[['Occupation_Post_Injury', 'percent_of_total_yr1']]\n",
    "occ_ov1_per"
   ]
  },
  {
   "cell_type": "code",
   "execution_count": null,
   "id": "62212800",
   "metadata": {},
   "outputs": [],
   "source": [
    "occ_ov5 = occ_ov_ex.loc[(occ_ov_ex.BYear == 5)]\n",
    "occ_ov5_per = occ_ov5.Occupation_Post_Injury.value_counts().to_frame().reset_index()\n",
    "occ_ov5_per = occ_ov5_per.rename(columns={'count' : 'total'})\n",
    "occ_ov5_per['total_sum'] = occ_ov5_per['total'].sum()\n",
    "occ_ov5_per['percent_of_total5'] = (occ_ov5_per.total / occ_ov5_per.total_sum) * 100\n",
    "occ_ov5_per = occ_ov5_per[['Occupation_Post_Injury', 'percent_of_total5']]\n",
    "occ_ov5_per"
   ]
  },
  {
   "cell_type": "code",
   "execution_count": null,
   "id": "3c930a85",
   "metadata": {},
   "outputs": [],
   "source": [
    "occ_ov10 = occ_ov_ex.loc[(occ_ov_ex.BYear == 10)]\n",
    "occ_ov10_per = occ_ov10.Occupation_Post_Injury.value_counts().to_frame().reset_index()\n",
    "occ_ov10_per = occ_ov10_per.rename(columns={'count' : 'total'})\n",
    "occ_ov10_per['total_sum'] = occ_ov10_per['total'].sum()\n",
    "occ_ov10_per['percent_of_total10'] = (occ_ov10_per.total / occ_ov10_per.total_sum) * 100\n",
    "occ_ov10_per = occ_ov10_per[['Occupation_Post_Injury', 'percent_of_total10']]\n",
    "occ_ov10_per"
   ]
  },
  {
   "cell_type": "code",
   "execution_count": null,
   "id": "b2c3840f",
   "metadata": {},
   "outputs": [],
   "source": [
    "occ_ov15 = occ_ov_ex.loc[(occ_ov_ex.BYear == 15)]\n",
    "occ_ov15_per = occ_ov15.Occupation_Post_Injury.value_counts().to_frame().reset_index()\n",
    "occ_ov15_per = occ_ov15_per.rename(columns={'count' : 'total'})\n",
    "occ_ov15_per['total_sum'] = occ_ov15_per['total'].sum()\n",
    "occ_ov15_per['percent_of_total15'] = (occ_ov15_per.total / occ_ov15_per.total_sum) * 100\n",
    "occ_ov15_per = occ_ov15_per[['Occupation_Post_Injury', 'percent_of_total15']]\n",
    "occ_ov15_per"
   ]
  },
  {
   "cell_type": "code",
   "execution_count": null,
   "id": "43464b56",
   "metadata": {},
   "outputs": [],
   "source": [
    "occ_ov20 = occ_ov_ex.loc[(occ_ov_ex.BYear == 20)]\n",
    "occ_ov20_per = occ_ov20.Occupation_Post_Injury.value_counts().to_frame().reset_index()\n",
    "occ_ov20_per = occ_ov20_per.rename(columns={'count' : 'total'})\n",
    "occ_ov20_per['total_sum'] = occ_ov20_per['total'].sum()\n",
    "occ_ov20_per['percent_of_total20'] = (occ_ov20_per.total / occ_ov20_per.total_sum) * 100\n",
    "occ_ov20_per = occ_ov20_per[['Occupation_Post_Injury', 'percent_of_total20']]\n",
    "occ_ov20_per"
   ]
  },
  {
   "cell_type": "code",
   "execution_count": null,
   "id": "41328e22",
   "metadata": {},
   "outputs": [],
   "source": [
    "occ_ov25 = occ_ov_ex.loc[(occ_ov_ex.BYear == 25)]\n",
    "occ_ov25_per = occ_ov25.Occupation_Post_Injury.value_counts().to_frame().reset_index()\n",
    "occ_ov25_per = occ_ov25_per.rename(columns={'count' : 'total'})\n",
    "occ_ov25_per['total_sum'] = occ_ov25_per['total'].sum()\n",
    "occ_ov25_per['percent_of_total25'] = (occ_ov25_per.total / occ_ov25_per.total_sum) * 100\n",
    "occ_ov25_per = occ_ov25_per[['Occupation_Post_Injury', 'percent_of_total25']]\n",
    "occ_ov25_per"
   ]
  },
  {
   "cell_type": "code",
   "execution_count": null,
   "id": "aae3863a",
   "metadata": {},
   "outputs": [],
   "source": [
    "occ_ov30 = occ_ov_ex.loc[(occ_ov_ex.BYear == 30)]\n",
    "occ_ov30_per = occ_ov30.Occupation_Post_Injury.value_counts().to_frame().reset_index()\n",
    "occ_ov30_per = occ_ov30_per.rename(columns={'count' : 'total'})\n",
    "occ_ov30_per['total_sum'] = occ_ov30_per['total'].sum()\n",
    "occ_ov30_per['percent_of_total30'] = (occ_ov30_per.total / occ_ov30_per.total_sum) * 100\n",
    "occ_ov30_per = occ_ov30_per[['Occupation_Post_Injury', 'percent_of_total30']]\n",
    "occ_ov30_per"
   ]
  },
  {
   "cell_type": "code",
   "execution_count": null,
   "id": "519e6943",
   "metadata": {},
   "outputs": [],
   "source": [
    "occ_ov1_5_per = pd.merge(occ_ov1_per, occ_ov5_per, left_on=['Occupation_Post_Injury'], right_on=['Occupation_Post_Injury'],how='inner')\n",
    "occ_ov1_5_per"
   ]
  },
  {
   "cell_type": "code",
   "execution_count": null,
   "id": "4ea4fd5f",
   "metadata": {},
   "outputs": [],
   "source": [
    "occ_ov1_10_per = pd.merge(occ_ov1_5_per, occ_ov10_per, left_on=['Occupation_Post_Injury'], right_on=['Occupation_Post_Injury'],how='inner')\n",
    "occ_ov1_10_per"
   ]
  },
  {
   "cell_type": "code",
   "execution_count": null,
   "id": "dcf8dd4f",
   "metadata": {},
   "outputs": [],
   "source": [
    "occ_ov1_15_per = pd.merge(occ_ov1_10_per, occ_ov15_per, left_on=['Occupation_Post_Injury'], right_on=['Occupation_Post_Injury'],how='inner')\n",
    "occ_ov1_15_per"
   ]
  },
  {
   "cell_type": "code",
   "execution_count": null,
   "id": "78e4b834",
   "metadata": {},
   "outputs": [],
   "source": [
    "occ_ov1_20_per = pd.merge(occ_ov1_15_per, occ_ov20_per, left_on=['Occupation_Post_Injury'], right_on=['Occupation_Post_Injury'],how='inner')\n",
    "occ_ov1_20_per"
   ]
  },
  {
   "cell_type": "code",
   "execution_count": null,
   "id": "01dd87af",
   "metadata": {},
   "outputs": [],
   "source": [
    "occ_ov1_25_per = pd.merge(occ_ov1_20_per, occ_ov25_per, left_on=['Occupation_Post_Injury'], right_on=['Occupation_Post_Injury'],how='inner')\n",
    "occ_ov1_25_per"
   ]
  },
  {
   "cell_type": "code",
   "execution_count": null,
   "id": "be0860bf",
   "metadata": {},
   "outputs": [],
   "source": [
    "occ_ov1_30_per = pd.merge(occ_ov1_25_per, occ_ov30_per, left_on=['Occupation_Post_Injury'], right_on=['Occupation_Post_Injury'],how='inner')\n",
    "occ_ov1_30_per"
   ]
  },
  {
   "cell_type": "code",
   "execution_count": null,
   "id": "6d244bf0",
   "metadata": {},
   "outputs": [],
   "source": [
    "occ_ov1_30_per = occ_ov1_30_per.rename(columns={'percent_of_total1' : 'year_1', 'percent_of_total5' : 'year_5', 'percent_of_total10' : 'year_10',\n",
    "    'percent_of_total15' : 'year_15', 'percent_of_total20' : 'year_20', 'percent_of_total25' : 'year_25', 'percent_of_total30' : 'year_30',})\n",
    "occ_ov1_30_per "
   ]
  },
  {
   "cell_type": "code",
   "execution_count": null,
   "id": "addf947a",
   "metadata": {},
   "outputs": [],
   "source": [
    "occ_ov1_30_per .to_csv('../data/occ_ov1_30_per.csv', index = False)"
   ]
  },
  {
   "cell_type": "code",
   "execution_count": null,
   "id": "99019eb5",
   "metadata": {},
   "outputs": [],
   "source": [
    "avg_lisp"
   ]
  },
  {
   "cell_type": "code",
   "execution_count": null,
   "id": "4abf9fea",
   "metadata": {},
   "outputs": [],
   "source": [
    "f2_base"
   ]
  },
  {
   "cell_type": "code",
   "execution_count": null,
   "id": "a0c69f99",
   "metadata": {},
   "outputs": [],
   "source": [
    "avg_lisp"
   ]
  },
  {
   "cell_type": "code",
   "execution_count": null,
   "id": "d25f090f",
   "metadata": {},
   "outputs": [],
   "source": [
    "avg_lisp"
   ]
  },
  {
   "cell_type": "code",
   "execution_count": null,
   "id": "7a51fcec",
   "metadata": {},
   "outputs": [],
   "source": [
    "avg_lisp_mar = avg_lisp.loc[(avg_lisp.Years_Lived_After_Injury != 0)]\n",
    "avg_lisp_mar"
   ]
  },
  {
   "cell_type": "code",
   "execution_count": null,
   "id": "4e09bedb",
   "metadata": {},
   "outputs": [],
   "source": [
    "mar_stat_post = f2_base[['unique_id', 'post_inj_yr', 'mar_stat2']]\n",
    "mar_stat_post"
   ]
  },
  {
   "cell_type": "code",
   "execution_count": null,
   "id": "f8a8bd2f",
   "metadata": {},
   "outputs": [],
   "source": [
    "type(mar_stat_post)"
   ]
  },
  {
   "cell_type": "code",
   "execution_count": null,
   "id": "96f1b471",
   "metadata": {},
   "outputs": [],
   "source": [
    "type(avg_lisp_mar)"
   ]
  },
  {
   "cell_type": "code",
   "execution_count": null,
   "id": "2f586c17",
   "metadata": {},
   "outputs": [],
   "source": [
    "avg_lisp_mar2 = pd.merge(avg_lisp_mar, mar_stat_post, left_on=['unique_id'], right_on=['unique_id'],how='inner')\n",
    "avg_lisp_mar2"
   ]
  },
  {
   "cell_type": "code",
   "execution_count": null,
   "id": "30f0399a",
   "metadata": {},
   "outputs": [],
   "source": [
    "mar_max = avg_lisp_mar2[['unique_id', 'Years_Lived_After_Injury', 'post_inj_yr', 'mar_stat2']]\n",
    "mar_max.head(20)"
   ]
  },
  {
   "cell_type": "code",
   "execution_count": null,
   "id": "6fe00f1f",
   "metadata": {},
   "outputs": [],
   "source": [
    "id_list = list(set(mar_max.unique_id))"
   ]
  },
  {
   "cell_type": "code",
   "execution_count": null,
   "id": "5447bde7",
   "metadata": {},
   "outputs": [],
   "source": [
    "mar_end = pd.DataFrame()\n",
    "for id in id_list: \n",
    "        df = mar_max.loc[mar_max.unique_id == id]\n",
    "        mar_end = pd.concat([mar_end,df.loc[df.post_inj_yr == df.post_inj_yr.max()]])\n",
    "        \n",
    "mar_end"
   ]
  },
  {
   "cell_type": "code",
   "execution_count": null,
   "id": "9d79fa36",
   "metadata": {},
   "outputs": [],
   "source": [
    "mar_end = mar_end.reset_index()\n",
    "mar_end"
   ]
  },
  {
   "cell_type": "code",
   "execution_count": null,
   "id": "2fdb59f4",
   "metadata": {},
   "outputs": [],
   "source": [
    "mar_max.tail(10)"
   ]
  },
  {
   "cell_type": "code",
   "execution_count": null,
   "id": "0a025323",
   "metadata": {},
   "outputs": [],
   "source": [
    "mar_end = mar_end.drop('index', axis=1)"
   ]
  },
  {
   "cell_type": "code",
   "execution_count": null,
   "id": "99df8768",
   "metadata": {},
   "outputs": [],
   "source": [
    "mar_end.tail(10)"
   ]
  },
  {
   "cell_type": "code",
   "execution_count": null,
   "id": "c1fcd0d5",
   "metadata": {},
   "outputs": [],
   "source": [
    "avg_lisp.loc[(avg_lisp.unique_id == 35674)]"
   ]
  },
  {
   "cell_type": "code",
   "execution_count": null,
   "id": "3455cb3d",
   "metadata": {},
   "outputs": [],
   "source": [
    "mar_end.loc[(mar_end.unique_id == 35670)]"
   ]
  },
  {
   "cell_type": "code",
   "execution_count": null,
   "id": "0ba889ff",
   "metadata": {},
   "outputs": [],
   "source": [
    "f1_base.age1.describe()"
   ]
  },
  {
   "cell_type": "code",
   "execution_count": null,
   "id": "edb9059a",
   "metadata": {},
   "outputs": [],
   "source": [
    "avg_lisp"
   ]
  },
  {
   "cell_type": "code",
   "execution_count": null,
   "id": "36800b28",
   "metadata": {},
   "outputs": [],
   "source": [
    "avg_lisp_3 = avg_lisp.loc[(avg_lisp.age1 == 3)]\n",
    "avg_lisp_3"
   ]
  },
  {
   "cell_type": "code",
   "execution_count": null,
   "id": "142b42e5",
   "metadata": {},
   "outputs": [],
   "source": [
    "avg_lisp_3.Years_Lived_After_Injury.mean()"
   ]
  },
  {
   "cell_type": "code",
   "execution_count": null,
   "id": "c01d8dd0",
   "metadata": {},
   "outputs": [],
   "source": [
    "occ_ov"
   ]
  },
  {
   "cell_type": "code",
   "execution_count": null,
   "id": "1125e2f5",
   "metadata": {},
   "outputs": [],
   "source": [
    "occ_ai = occ_ov[['UniID', 'Occupation_At_Injury']]\n",
    "occ_ai"
   ]
  },
  {
   "cell_type": "code",
   "execution_count": null,
   "id": "30e53240",
   "metadata": {},
   "outputs": [],
   "source": [
    "occ_ai_per = occ_ai.Occupation_At_Injury.value_counts().to_frame().reset_index()\n",
    "occ_ai_per "
   ]
  },
  {
   "cell_type": "code",
   "execution_count": null,
   "id": "4c0e5111",
   "metadata": {},
   "outputs": [],
   "source": [
    "occ_ai_per = occ_ai_per.rename(columns={'count' : 'total'})\n",
    "occ_ai_per['total_sum'] = occ_ai_per['total'].sum()\n",
    "occ_ai_per['percent_of_totalai'] = (occ_ai_per.total / occ_ai_per.total_sum) * 100\n",
    "occ_ai_per = occ_ai_per[['Occupation_At_Injury', 'percent_of_totalai']]\n",
    "occ_ai_per"
   ]
  },
  {
   "cell_type": "code",
   "execution_count": null,
   "id": "0130bc3e",
   "metadata": {},
   "outputs": [],
   "source": [
    "occ_ai_per.to_csv('../data/occ_ai_per.csv', index = False)"
   ]
  },
  {
   "cell_type": "code",
   "execution_count": null,
   "id": "571c8d07",
   "metadata": {},
   "outputs": [],
   "source": [
    "avg_lisp"
   ]
  },
  {
   "cell_type": "code",
   "execution_count": null,
   "id": "929ced07",
   "metadata": {},
   "outputs": [],
   "source": [
    "avg_lisp.age_at_dth.describe()"
   ]
  },
  {
   "cell_type": "code",
   "execution_count": null,
   "id": "7399cece",
   "metadata": {},
   "outputs": [],
   "source": [
    "us1 = pd.read_csv('C:/Users/dmora/Documents/NSS/Capstone/data/le_us1.csv')\n",
    "us1"
   ]
  },
  {
   "cell_type": "code",
   "execution_count": null,
   "id": "7828271e",
   "metadata": {},
   "outputs": [],
   "source": [
    "us2 = pd.read_csv('C:/Users/dmora/Documents/NSS/Capstone/data/le_us2.csv')\n",
    "us2"
   ]
  },
  {
   "cell_type": "code",
   "execution_count": null,
   "id": "e8d2ed21",
   "metadata": {},
   "outputs": [],
   "source": [
    "api = pd.read_csv('C:/Users/dmora/Documents/NSS/Capstone/data/API.csv', skiprows = 4)\n",
    "api"
   ]
  },
  {
   "cell_type": "code",
   "execution_count": null,
   "id": "0fcfab23",
   "metadata": {},
   "outputs": [],
   "source": [
    "us_ls = api.loc[(api['Country Name'] == 'United States')]\n",
    "us_ls"
   ]
  },
  {
   "cell_type": "code",
   "execution_count": null,
   "id": "3863c344",
   "metadata": {},
   "outputs": [],
   "source": [
    "avg_lisp"
   ]
  },
  {
   "cell_type": "code",
   "execution_count": null,
   "id": "51cb81a3",
   "metadata": {},
   "outputs": [],
   "source": [
    "avg_lisp_yr = avg_lisp.groupby('DtDth').age_at_dth.mean().to_frame().reset_index()\n",
    "avg_lisp_yr"
   ]
  },
  {
   "cell_type": "code",
   "execution_count": null,
   "id": "8babcb1a",
   "metadata": {},
   "outputs": [],
   "source": [
    "us_ls"
   ]
  },
  {
   "cell_type": "code",
   "execution_count": null,
   "id": "3cdc8d85",
   "metadata": {},
   "outputs": [],
   "source": [
    "us_ls = us_ls.drop('Country Name', axis = 1)"
   ]
  },
  {
   "cell_type": "code",
   "execution_count": null,
   "id": "2d93024d",
   "metadata": {},
   "outputs": [],
   "source": [
    "us_ls = us_ls.drop('Country Code', axis = 1)\n",
    "us_ls = us_ls.drop('Indicator Name', axis = 1)\n",
    "us_ls = us_ls.drop('Indicator Code', axis = 1)"
   ]
  },
  {
   "cell_type": "code",
   "execution_count": null,
   "id": "449ba4e4",
   "metadata": {},
   "outputs": [],
   "source": [
    "us_ls = us_ls.drop('2022', axis = 1)\n",
    "us_ls = us_ls.drop('2023', axis = 1)"
   ]
  },
  {
   "cell_type": "code",
   "execution_count": null,
   "id": "67abfd8f",
   "metadata": {},
   "outputs": [],
   "source": [
    "us_ls = us_ls.drop('Unnamed: 68', axis = 1)"
   ]
  },
  {
   "cell_type": "code",
   "execution_count": null,
   "id": "63c5da1e",
   "metadata": {},
   "outputs": [],
   "source": [
    "us_ls"
   ]
  },
  {
   "cell_type": "code",
   "execution_count": null,
   "id": "da04edab",
   "metadata": {},
   "outputs": [],
   "source": [
    "us_ls"
   ]
  },
  {
   "cell_type": "code",
   "execution_count": null,
   "id": "c280da33",
   "metadata": {},
   "outputs": [],
   "source": [
    "us_ls.to_csv('../data/us_ls.csv', index = False)"
   ]
  },
  {
   "cell_type": "code",
   "execution_count": null,
   "id": "b6bc5c3d",
   "metadata": {},
   "outputs": [],
   "source": [
    "avg_lisp_yr.to_csv('../data/avg_lisp_yr.csv', index = False)"
   ]
  },
  {
   "cell_type": "code",
   "execution_count": null,
   "id": "cca4f3bf",
   "metadata": {},
   "outputs": [],
   "source": []
  }
 ],
 "metadata": {
  "kernelspec": {
   "display_name": "Python 3 (ipykernel)",
   "language": "python",
   "name": "python3"
  },
  "language_info": {
   "codemirror_mode": {
    "name": "ipython",
    "version": 3
   },
   "file_extension": ".py",
   "mimetype": "text/x-python",
   "name": "python",
   "nbconvert_exporter": "python",
   "pygments_lexer": "ipython3",
   "version": "3.11.5"
  }
 },
 "nbformat": 4,
 "nbformat_minor": 5
}
