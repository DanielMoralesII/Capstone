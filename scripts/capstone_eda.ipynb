{
 "cells": [
  {
   "cell_type": "code",
   "execution_count": null,
   "id": "55977440",
   "metadata": {},
   "outputs": [],
   "source": [
    "import pandas as pd\n",
    "import matplotlib.pyplot as plt\n",
    "import seaborn as sns\n",
    "\n",
    "%matplotlib inline"
   ]
  },
  {
   "cell_type": "code",
   "execution_count": null,
   "id": "36e7bad7",
   "metadata": {},
   "outputs": [],
   "source": [
    "from IPython.core.display import display, HTML\n",
    "display(HTML(\"<style>.container { width:100% !important; }</style>\"))"
   ]
  },
  {
   "cell_type": "markdown",
   "id": "4a499e90",
   "metadata": {},
   "source": [
    "#### Read in first dataset - Form I dataset includes baseline demographic and clinical information of persons who met eligibility criteria."
   ]
  },
  {
   "cell_type": "code",
   "execution_count": null,
   "id": "b3b45184",
   "metadata": {},
   "outputs": [],
   "source": [
    "f1 = pd.read_csv('C:/Users/dmora/Documents/NSS/Capstone/data/f1_public_2021.csv')\n",
    "f1"
   ]
  },
  {
   "cell_type": "markdown",
   "id": "82a99ba5",
   "metadata": {},
   "source": [
    "#### Create df of base variables"
   ]
  },
  {
   "cell_type": "code",
   "execution_count": null,
   "id": "65d7d192",
   "metadata": {},
   "outputs": [],
   "source": [
    "f1_base = (\n",
    "    f1\n",
    "    [[\n",
    "        'UniID', 'AAdmDt', 'ARbAdmDt', 'ADisDt',\n",
    "        'AI2ADays', 'AI2RhADa', 'AInjAge', 'ASex', \n",
    "        'APResInj', 'APResDis',\n",
    "        'AMarStIj', 'AEducLvl','ABPHQ1', \n",
    "        'ABPHQ2', 'ABPHQ9', 'ABPHQ6', 'ABPHQMDS',\n",
    "        'ABPHQSDS', 'APrLvlSt', 'AFmIncLv', 'AHDaSyRb',\n",
    "        'AFScorRb', 'AFScorDs',\n",
    "        \n",
    "        \n",
    "    ]]\n",
    "   \n",
    ")\n",
    "\n",
    "f1_base"
   ]
  },
  {
   "cell_type": "markdown",
   "id": "35c5c921",
   "metadata": {},
   "source": [
    "#### Rename columns for easier understanding."
   ]
  },
  {
   "cell_type": "code",
   "execution_count": null,
   "id": "ffa93a62",
   "metadata": {},
   "outputs": [],
   "source": [
    "f1_base = f1_base.rename(columns={'UniID' : 'unique_id', 'AAdmDt' : 'sys_adm_dt', 'ARbAdmDt' : 'reh_adm_dt', 'ADisDt' : 'discharge_dt', \n",
    "                          'AI2ADays' : 'days_inj_to_sys', 'AI2RhADa' : 'days_inj_to_reh',  'AInjAge' : 'age_at_injury', 'ASex': 'sex',\n",
    "                          'APResInj' : 'res_at_inj','APResDis' : 'res_at_dis', \n",
    "                          'AMarStIj' : 'marital_stat_ai', 'AEducLvl' : 'educ_lvl_ai', 'ABPHQ1' : 'interest_or_pleasure', \n",
    "                          'ABPHQ2' : 'depressed', 'ABPHQ9' : 'self_harm', 'ABPHQ6' : 'feel_bad', 'ABPHQMDS': 'depressive_syndrome', \n",
    "                          'ABPHQSDS' : 'severity_of_depression', 'APrLvlSt' : 'occup_status', 'AFmIncLv' : 'income_level', \n",
    "                          'AHDaSyRb' : 'days_rehab1'})\n",
    "\n",
    "f1_base"
   ]
  },
  {
   "cell_type": "markdown",
   "id": "d4739ccf",
   "metadata": {},
   "source": [
    "#### Fill in n/a values in rehab_adm_dt column, so we can then change to int for year consistency across the df."
   ]
  },
  {
   "cell_type": "code",
   "execution_count": null,
   "id": "b27af72a",
   "metadata": {},
   "outputs": [],
   "source": [
    "f1_base['reh_adm_dt'] = f1_base['reh_adm_dt'].fillna(0)\n",
    "f1_base"
   ]
  },
  {
   "cell_type": "markdown",
   "id": "0f14186f",
   "metadata": {},
   "source": [
    "#### Change dtype of reh_adm_dt to integer"
   ]
  },
  {
   "cell_type": "code",
   "execution_count": null,
   "id": "9821a87c",
   "metadata": {},
   "outputs": [],
   "source": [
    "f1_base['reh_adm_dt'] = f1_base['reh_adm_dt'].astype('int')"
   ]
  },
  {
   "cell_type": "markdown",
   "id": "aad1b325",
   "metadata": {},
   "source": [
    "#### Run loop on sex column to create gender column to include gender name"
   ]
  },
  {
   "cell_type": "code",
   "execution_count": null,
   "id": "21d62c99",
   "metadata": {},
   "outputs": [],
   "source": [
    "for ind, row in f1_base.iterrows():\n",
    "    if row.sex == 1:\n",
    "        f1_base.loc[ind, 'gender'] = 'm'\n",
    "    elif row.sex == 2:\n",
    "        f1_base.loc[ind, 'gender'] = 'f'\n",
    "    elif row.sex == 3:\n",
    "        f1_base.loc[ind, 'gender'] = 't'\n",
    "    elif row.sex == 9:\n",
    "        f1_base.loc[ind, 'gender'] = 'u'"
   ]
  },
  {
   "cell_type": "markdown",
   "id": "c20e55ef",
   "metadata": {},
   "source": [
    "#### Drop sex column"
   ]
  },
  {
   "cell_type": "code",
   "execution_count": null,
   "id": "4f3db90a",
   "metadata": {},
   "outputs": [],
   "source": [
    "f1_base = f1_base.drop('sex', axis = 1)\n",
    "f1_base"
   ]
  },
  {
   "cell_type": "markdown",
   "id": "ec82bc45",
   "metadata": {},
   "source": [
    "#### Run loop on res_at_inj column to create res_at_inj column to include type of residence instead of #"
   ]
  },
  {
   "cell_type": "code",
   "execution_count": null,
   "id": "9f9df4aa",
   "metadata": {},
   "outputs": [],
   "source": [
    "for ind, row in f1_base.iterrows():\n",
    "    if row.res_at_inj == 1:\n",
    "        f1_base.loc[ind, 'res_at_injb'] = 'pri_res'\n",
    "    elif row.res_at_inj == 2:\n",
    "        f1_base.loc[ind, 'res_at_injb'] = 'hospital'\n",
    "    elif row.res_at_inj == 3:\n",
    "        f1_base.loc[ind, 'res_at_injb'] = 'nurs_home'\n",
    "    elif row.res_at_inj == 4:\n",
    "        f1_base.loc[ind, 'res_at_injb'] = 'group'\n",
    "    elif row.res_at_inj == 5:\n",
    "        f1_base.loc[ind, 'res_at_injb'] = 'correctional'\n",
    "    elif row.res_at_inj == 6:\n",
    "        f1_base.loc[ind, 'res_at_injb'] = 'motel'\n",
    "    elif row.res_at_inj == 7:\n",
    "        f1_base.loc[ind, 'res_at_injb'] = 'deceased'\n",
    "    elif row.res_at_inj == 8:\n",
    "        f1_base.loc[ind, 'res_at_injb'] = 'other'\n",
    "    elif row.res_at_inj == 9:\n",
    "        f1_base.loc[ind, 'res_at_injb'] = 'homeless'    \n",
    "    elif row.res_at_inj == 10:\n",
    "        f1_base.loc[ind, 'res_at_injb'] = 'assisted'    \n",
    "    elif row.res_at_inj == 99:\n",
    "        f1_base.loc[ind, 'res_at_injb'] = 'unknown'     "
   ]
  },
  {
   "cell_type": "markdown",
   "id": "93a01d8d",
   "metadata": {},
   "source": [
    "#### Drop original numerical res_at_inj column"
   ]
  },
  {
   "cell_type": "code",
   "execution_count": null,
   "id": "89a8bb92",
   "metadata": {},
   "outputs": [],
   "source": [
    "f1_base = f1_base.drop('res_at_inj', axis = 1)\n",
    "f1_base"
   ]
  },
  {
   "cell_type": "markdown",
   "id": "642196f8",
   "metadata": {},
   "source": [
    "#### Run loop on res_at_dis column to create res_at_dis column to include type of residence instead of #"
   ]
  },
  {
   "cell_type": "code",
   "execution_count": null,
   "id": "70fecdcc",
   "metadata": {},
   "outputs": [],
   "source": [
    "for ind, row in f1_base.iterrows():\n",
    "    if row.res_at_dis == 1:\n",
    "        f1_base.loc[ind, 'res_at_disb'] = 'pri_res'\n",
    "    elif row.res_at_dis == 2:\n",
    "        f1_base.loc[ind, 'res_at_disb'] = 'hospital'\n",
    "    elif row.res_at_dis == 3:\n",
    "        f1_base.loc[ind, 'res_at_disb'] = 'nurs_home'\n",
    "    elif row.res_at_dis == 4:\n",
    "        f1_base.loc[ind, 'res_at_disb'] = 'group'\n",
    "    elif row.res_at_dis == 5:\n",
    "        f1_base.loc[ind, 'res_at_disb'] = 'correctional'\n",
    "    elif row.res_at_dis == 6:\n",
    "        f1_base.loc[ind, 'res_at_disb'] = 'motel'\n",
    "    elif row.res_at_dis == 7:\n",
    "        f1_base.loc[ind, 'res_at_disb'] = 'deceased'\n",
    "    elif row.res_at_dis == 8:\n",
    "        f1_base.loc[ind, 'res_at_disb'] = 'other'\n",
    "    elif row.res_at_dis == 9:\n",
    "        f1_base.loc[ind, 'res_at_disb'] = 'homeless'    \n",
    "    elif row.res_at_dis == 10:\n",
    "        f1_base.loc[ind, 'res_at_disb'] = 'assisted'    \n",
    "    elif row.res_at_dis == 99:\n",
    "        f1_base.loc[ind, 'res_at_disb'] = 'unknown'"
   ]
  },
  {
   "cell_type": "markdown",
   "id": "fe513571",
   "metadata": {},
   "source": [
    "#### Drop original res_at_dis column"
   ]
  },
  {
   "cell_type": "code",
   "execution_count": null,
   "id": "0373fbba",
   "metadata": {},
   "outputs": [],
   "source": [
    "f1_base = f1_base.drop('res_at_dis', axis = 1)\n",
    "f1_base"
   ]
  },
  {
   "cell_type": "code",
   "execution_count": null,
   "id": "39190130",
   "metadata": {},
   "outputs": [],
   "source": [
    "f1_base = f1_base.rename(columns={'res_at_injb' : 'res_at_inj', 'res_at_disb' : 'res_at_dis'})\n",
    "f1_base"
   ]
  },
  {
   "cell_type": "code",
   "execution_count": null,
   "id": "ffc083c5",
   "metadata": {},
   "outputs": [],
   "source": [
    "for ind, row in f1_base.iterrows():\n",
    "    if row.marital_stat_ai == 1:\n",
    "        f1_base.loc[ind, 'marital_stat_aib'] = 'single'\n",
    "    elif row.marital_stat_ai == 2:\n",
    "        f1_base.loc[ind, 'marital_stat_aib'] = 'married'\n",
    "    elif row.marital_stat_ai == 3:\n",
    "        f1_base.loc[ind, 'marital_stat_aib'] = 'divorced'\n",
    "    elif row.marital_stat_ai == 4:\n",
    "        f1_base.loc[ind, 'marital_stat_aib'] = 'separated'\n",
    "    elif row.marital_stat_ai == 5:\n",
    "        f1_base.loc[ind, 'marital_stat_aib'] = 'widowed'\n",
    "    elif row.marital_stat_ai == 6:\n",
    "        f1_base.loc[ind, 'marital_stat_aib'] = 'other'\n",
    "    elif row.marital_stat_ai == 7:\n",
    "        f1_base.loc[ind, 'marital_stat_aib'] = 'living_with'\n",
    "    elif row.marital_stat_ai == 9:\n",
    "        f1_base.loc[ind, 'marital_stat_aib'] = 'unknown'    "
   ]
  },
  {
   "cell_type": "code",
   "execution_count": null,
   "id": "4e63c623",
   "metadata": {},
   "outputs": [],
   "source": [
    "f1_base"
   ]
  },
  {
   "cell_type": "code",
   "execution_count": null,
   "id": "8c06bcf0",
   "metadata": {},
   "outputs": [],
   "source": [
    "f1_base = f1_base.drop('marital_stat_ai', axis = 1)\n",
    "f1_base"
   ]
  },
  {
   "cell_type": "code",
   "execution_count": null,
   "id": "68ab3fde",
   "metadata": {},
   "outputs": [],
   "source": [
    "for ind, row in f1_base.iterrows():\n",
    "    if row.educ_lvl_ai == 1:\n",
    "        f1_base.loc[ind, 'educ_lvl_aib'] = '8th_or_less'\n",
    "    elif row.educ_lvl_ai == 2:\n",
    "        f1_base.loc[ind, 'educ_lvl_aib'] = '9th_11th'\n",
    "    elif row.educ_lvl_ai == 3:\n",
    "        f1_base.loc[ind, 'educ_lvl_aib'] = 'hsd'\n",
    "    elif row.educ_lvl_ai == 4:\n",
    "        f1_base.loc[ind, 'educ_lvl_aib'] = 'ad'\n",
    "    elif row.educ_lvl_ai == 5:\n",
    "        f1_base.loc[ind, 'educ_lvl_aib'] = 'bd'\n",
    "    elif row.educ_lvl_ai == 6:\n",
    "        f1_base.loc[ind, 'educ_lvl_aib'] = 'md'\n",
    "    elif row.educ_lvl_ai == 7:\n",
    "        f1_base.loc[ind, 'educ_lvl_aib'] = 'doc'\n",
    "    elif row.educ_lvl_ai == 8:\n",
    "        f1_base.loc[ind, 'educ_lvl_aib'] = 'other'    \n",
    "    elif row.educ_lvl_ai == 9:\n",
    "        f1_base.loc[ind, 'educ_lvl_aib'] = 'unknown'    "
   ]
  },
  {
   "cell_type": "code",
   "execution_count": null,
   "id": "9df0a1fd",
   "metadata": {},
   "outputs": [],
   "source": [
    "f1_base = f1_base.drop('educ_lvl_ai', axis = 1)\n",
    "f1_base"
   ]
  },
  {
   "cell_type": "code",
   "execution_count": null,
   "id": "513ecf08",
   "metadata": {},
   "outputs": [],
   "source": [
    "for ind, row in f1_base.iterrows():\n",
    "    if row.interest_or_pleasure == 0:\n",
    "        f1_base.loc[ind, 'int_or_pleas'] = 'none'\n",
    "    elif row.interest_or_pleasure == 1:\n",
    "        f1_base.loc[ind, 'int_or_pleas'] = 'several_days'\n",
    "    elif row.interest_or_pleasure == 2:\n",
    "        f1_base.loc[ind, 'int_or_pleas'] = 'more_than_half'\n",
    "    elif row.interest_or_pleasure == 3:\n",
    "        f1_base.loc[ind, 'int_or_pleas'] = 'nearly_every_day'\n",
    "    elif row.interest_or_pleasure == 7:\n",
    "        f1_base.loc[ind, 'int_or_pleas'] = 'declined'\n",
    "    elif row.interest_or_pleasure == 9:\n",
    "        f1_base.loc[ind, 'int_or_pleas'] = 'unknown'"
   ]
  },
  {
   "cell_type": "code",
   "execution_count": null,
   "id": "56c0372e",
   "metadata": {},
   "outputs": [],
   "source": [
    "f1_base = f1_base.drop('interest_or_pleasure', axis = 1)\n",
    "f1_base"
   ]
  },
  {
   "cell_type": "code",
   "execution_count": null,
   "id": "f26e7558",
   "metadata": {},
   "outputs": [],
   "source": [
    "f1_base"
   ]
  },
  {
   "cell_type": "code",
   "execution_count": null,
   "id": "01e54f77",
   "metadata": {},
   "outputs": [],
   "source": [
    "for ind, row in f1_base.iterrows():\n",
    "    if row.depressed == 0:\n",
    "        f1_base.loc[ind, 'depressedb'] = 'none'\n",
    "    elif row.depressed == 1:\n",
    "        f1_base.loc[ind, 'depressedb'] = 'several_days'\n",
    "    elif row.depressed == 2:\n",
    "        f1_base.loc[ind, 'depressedb'] = 'more_than_half'\n",
    "    elif row.depressed == 3:\n",
    "        f1_base.loc[ind, 'depressedb'] = 'nearly_every_day'\n",
    "    elif row.depressed == 7:\n",
    "        f1_base.loc[ind, 'depressedb'] = 'declined'\n",
    "    elif row.depressed == 9:\n",
    "        f1_base.loc[ind, 'depressedb'] = 'unknown'"
   ]
  },
  {
   "cell_type": "code",
   "execution_count": null,
   "id": "f3bf0b22",
   "metadata": {},
   "outputs": [],
   "source": [
    "f1_base = f1_base.drop('depressed', axis = 1)\n",
    "f1_base"
   ]
  },
  {
   "cell_type": "code",
   "execution_count": null,
   "id": "857d526e",
   "metadata": {},
   "outputs": [],
   "source": [
    "for ind, row in f1_base.iterrows():\n",
    "    if row.self_harm == 0:\n",
    "        f1_base.loc[ind, 'self_harmb'] = 'none'\n",
    "    elif row.self_harm == 1:\n",
    "        f1_base.loc[ind, 'self_harmb'] = 'several_days'\n",
    "    elif row.self_harm == 2:\n",
    "        f1_base.loc[ind, 'self_harmb'] = 'more_than_half'\n",
    "    elif row.self_harm == 3:\n",
    "        f1_base.loc[ind, 'self_harmb'] = 'nearly_every_day'\n",
    "    elif row.self_harm == 7:\n",
    "        f1_base.loc[ind, 'self_harmb'] = 'declined'\n",
    "    elif row.self_harm == 9:\n",
    "        f1_base.loc[ind, 'self_harmb'] = 'unknown'"
   ]
  },
  {
   "cell_type": "code",
   "execution_count": null,
   "id": "906748e1",
   "metadata": {},
   "outputs": [],
   "source": [
    "f1_base = f1_base.drop('self_harm', axis = 1)\n",
    "f1_base"
   ]
  },
  {
   "cell_type": "code",
   "execution_count": null,
   "id": "e7f7375d",
   "metadata": {},
   "outputs": [],
   "source": [
    "for ind, row in f1_base.iterrows():\n",
    "    if row.feel_bad == 0:\n",
    "        f1_base.loc[ind, 'feel_badb'] = 'none'\n",
    "    elif row.feel_bad == 1:\n",
    "        f1_base.loc[ind, 'feel_badb'] = 'several_days'\n",
    "    elif row.feel_bad == 2:\n",
    "        f1_base.loc[ind, 'feel_badb'] = 'more_than_half'\n",
    "    elif row.feel_bad == 3:\n",
    "        f1_base.loc[ind, 'feel_badb'] = 'nearly_every_day'\n",
    "    elif row.feel_bad == 7:\n",
    "        f1_base.loc[ind, 'feel_badb'] = 'declined'\n",
    "    elif row.feel_bad == 9:\n",
    "        f1_base.loc[ind, 'feel_badb'] = 'unknown'"
   ]
  },
  {
   "cell_type": "code",
   "execution_count": null,
   "id": "bb47759a",
   "metadata": {},
   "outputs": [],
   "source": [
    "f1_base = f1_base.drop('feel_bad', axis = 1)\n",
    "f1_base"
   ]
  },
  {
   "cell_type": "code",
   "execution_count": null,
   "id": "6ae85bd2",
   "metadata": {},
   "outputs": [],
   "source": [
    "for ind, row in f1_base.iterrows():\n",
    "    if row.depressive_syndrome == 0:\n",
    "        f1_base.loc[ind, 'dep_syn'] = 'none'\n",
    "    elif row.depressive_syndrome == 1:\n",
    "        f1_base.loc[ind, 'dep_syn'] = 'major'\n",
    "    elif row.depressive_syndrome == 2:\n",
    "        f1_base.loc[ind, 'dep_syn'] = 'other'\n",
    "    elif row.depressive_syndrome == 9:\n",
    "        f1_base.loc[ind, 'dep_syn'] = 'unknown'"
   ]
  },
  {
   "cell_type": "code",
   "execution_count": null,
   "id": "d9d47581",
   "metadata": {},
   "outputs": [],
   "source": [
    "f1_base = f1_base.drop('depressive_syndrome', axis = 1)\n",
    "f1_base"
   ]
  },
  {
   "cell_type": "code",
   "execution_count": null,
   "id": "baa4cba4",
   "metadata": {},
   "outputs": [],
   "source": [
    "for ind, row in f1_base.iterrows():\n",
    "    if row.occup_status == 1:\n",
    "        f1_base.loc[ind, 'occ_stat'] = 'working'\n",
    "    elif row.occup_status == 2:\n",
    "        f1_base.loc[ind, 'occ_stat'] = 'homemaker'\n",
    "    elif row.occup_status == 3:\n",
    "        f1_base.loc[ind, 'occ_stat'] = 'otj_train'\n",
    "    elif row.occup_status == 4:\n",
    "        f1_base.loc[ind, 'occ_stat'] = 'shel_work'\n",
    "    elif row.occup_status == 5:\n",
    "        f1_base.loc[ind, 'occ_stat'] = 'retired'\n",
    "    elif row.occup_status == 6:\n",
    "        f1_base.loc[ind, 'occ_stat'] = 'student'\n",
    "    elif row.occup_status == 7:\n",
    "        f1_base.loc[ind, 'occ_stat'] = 'unemployed'\n",
    "    elif row.occup_status == 8:\n",
    "        f1_base.loc[ind, 'occ_stat'] = 'retired_dis'\n",
    "    elif row.occup_status == 9:\n",
    "        f1_base.loc[ind, 'occ_stat'] = 'retired_nondis'   \n",
    "    elif row.occup_status == 10:\n",
    "        f1_base.loc[ind, 'occ_stat'] = 'other'\n",
    "    elif row.occup_status == 99:\n",
    "        f1_base.loc[ind, 'occ_stat'] = 'unknown'       "
   ]
  },
  {
   "cell_type": "code",
   "execution_count": null,
   "id": "d25399cb",
   "metadata": {},
   "outputs": [],
   "source": [
    "f1_base = f1_base.drop('occup_status', axis = 1)\n",
    "f1_base"
   ]
  },
  {
   "cell_type": "code",
   "execution_count": null,
   "id": "658f738f",
   "metadata": {},
   "outputs": [],
   "source": [
    "for ind, row in f1_base.iterrows():\n",
    "    if row.income_level == 1:\n",
    "        f1_base.loc[ind, 'inc_lvl1'] = 'lt25k'\n",
    "    elif row.income_level == 2:\n",
    "        f1_base.loc[ind, 'inc_lvl1'] = '25k_49999'\n",
    "    elif row.income_level == 3:\n",
    "        f1_base.loc[ind, 'inc_lvl1'] = '50k_74999'\n",
    "    elif row.income_level == 4:\n",
    "        f1_base.loc[ind, 'inc_lvl1'] = '75pl'\n",
    "    elif row.income_level == 6:\n",
    "        f1_base.loc[ind, 'inc_lvl1'] = 'not_sure'\n",
    "    elif row.income_level == 7:\n",
    "        f1_base.loc[ind, 'inc_lvl1'] = 'declined'\n",
    "    elif row.income_level == 9:\n",
    "        f1_base.loc[ind, 'inc_lvl1'] = 'unknown'   "
   ]
  },
  {
   "cell_type": "code",
   "execution_count": null,
   "id": "0e9d7e14",
   "metadata": {},
   "outputs": [],
   "source": [
    "f1_base = f1_base.drop('income_level', axis = 1)\n",
    "f1_base"
   ]
  },
  {
   "cell_type": "code",
   "execution_count": null,
   "id": "96e0b3b8",
   "metadata": {},
   "outputs": [],
   "source": [
    "f1_base = f1_base.rename(columns={'age_at_injury' : 'age1', 'severity_of_depression' : 'sev_dep', 'res_at_inj' : 'res1', 'marital_stat_aib' : 'mar_stat1',\n",
    "                                  'educ_lvl_aib' : 'educ_lvl1', 'int_or_pleas' : 'int_pleas1', 'depressedb' : 'depr1', 'self_harmb' : 'self_harm1',\n",
    "                                  'feel_badb' : 'feel_bad1', 'dep_syn' : 'dep_syn1', 'occ_stat' : 'occ_stat1'})\n",
    "\n"
   ]
  },
  {
   "cell_type": "markdown",
   "id": "18c15160",
   "metadata": {},
   "source": [
    "#### Run all columns through the below bar chart to identify which variables have a large amount of unknowns."
   ]
  },
  {
   "cell_type": "code",
   "execution_count": null,
   "id": "19b06fba",
   "metadata": {},
   "outputs": [],
   "source": [
    "f1_base['inc_lvl1'].value_counts().plot(kind = 'bar');"
   ]
  },
  {
   "cell_type": "markdown",
   "id": "b2c73727",
   "metadata": {},
   "source": [
    "#### Read in second dataset - Form II dataset includes sociodemographic and outcome data of Form I participants obtained at follow-up."
   ]
  },
  {
   "cell_type": "code",
   "execution_count": null,
   "id": "440bb1b7",
   "metadata": {},
   "outputs": [],
   "source": [
    "f2 = pd.read_csv('C:/Users/dmora/Documents/NSS/Capstone/data/f2_public_2021.csv')"
   ]
  },
  {
   "cell_type": "code",
   "execution_count": null,
   "id": "e9f7b188",
   "metadata": {},
   "outputs": [],
   "source": [
    "f2_base = (\n",
    "    f2\n",
    "    [[\n",
    "        'UniID', 'BYear', 'BPlcRes', 'BMarStat',\n",
    "        'BMarStCh', 'BEducLvl', 'BBPHQ1', 'BBPHQ2',\n",
    "        'BBPHQ9', 'BBPHQ6', 'BBPHQMDS', 'BBPHQSDS',\n",
    "        'BPrLvlSt', 'BFmIncLv', 'BSPHthSt', 'BSPHthRC', \n",
    "        'BRhspRs1', 'BRhspRs2', 'BRhspRs3', 'BRhspRs4',\n",
    "        'BRhspRs5', 'BRhspRs6', 'BRhspRs7', 'BRhspRs8',\n",
    "        'BRhspNbr'\n",
    "        \n",
    "        \n",
    "    ]]\n",
    "   \n",
    ")\n"
   ]
  },
  {
   "cell_type": "code",
   "execution_count": null,
   "id": "41cefe82",
   "metadata": {},
   "outputs": [],
   "source": [
    "f2_base = f2_base.rename(columns={'UniID' : 'unique_id', 'BYear' : 'post_inj_yr', 'BPlcRes' : 'res_pi', 'BMarStat' : 'marital_stat_pi',\n",
    "        'BMarStCh' : 'marital_stat_change', 'BEducLvl' : 'educ_lvl_pi', 'BBPHQ1' : 'interest_or_pleaseure_pi', 'BBPHQ2' : 'depressed_pi',\n",
    "        'BBPHQ9' : 'self_harm_pi','BBPHQ6' : 'feel_bad_pi','BBPHQMDS': 'depressive_syndrome_pi', 'BBPHQSDS' : 'sev_dep2',\n",
    "        'BPrLvlSt' : 'occup_status_pi', 'BFmIncLv' : 'income_level'})"
   ]
  },
  {
   "cell_type": "code",
   "execution_count": null,
   "id": "1b4b92fb",
   "metadata": {},
   "outputs": [],
   "source": [
    "f2_base['res_pi'] = f2_base['res_pi'].fillna(0)\n",
    "f2_base"
   ]
  },
  {
   "cell_type": "code",
   "execution_count": null,
   "id": "5f04af03",
   "metadata": {},
   "outputs": [],
   "source": [
    "f2_base['res_pi'] = f2_base['res_pi'].astype('int')"
   ]
  },
  {
   "cell_type": "code",
   "execution_count": null,
   "id": "5eda9555",
   "metadata": {},
   "outputs": [],
   "source": [
    "for ind, row in f2_base.iterrows():\n",
    "    if row.res_pi == 1:\n",
    "        f2_base.loc[ind, 'res2'] = 'pri_res'\n",
    "    elif row.res_pi == 2:\n",
    "        f2_base.loc[ind, 'res2'] = 'hospital'\n",
    "    elif row.res_pi == 3:\n",
    "        f2_base.loc[ind, 'res2'] = 'nurs_home'\n",
    "    elif row.res_pi == 4:\n",
    "        f2_base.loc[ind, 'res2'] = 'group'\n",
    "    elif row.res_pi == 5:\n",
    "        f2_base.loc[ind, 'res2'] = 'correctional'\n",
    "    elif row.res_pi == 6:\n",
    "        f2_base.loc[ind, 'res2'] = 'motel'\n",
    "    elif row.res_pi == 8:\n",
    "        f2_base.loc[ind, 'res2'] = 'other'\n",
    "    elif row.res_pi == 9:\n",
    "        f2_base.loc[ind, 'res2'] = 'homeless'    \n",
    "    elif row.res_pi == 10:\n",
    "        f2_base.loc[ind, 'res2'] = 'assisted'    \n",
    "    elif row.res_pi == 99:\n",
    "        f2_base.loc[ind, 'res2'] = 'unknown'   "
   ]
  },
  {
   "cell_type": "code",
   "execution_count": null,
   "id": "369113c4",
   "metadata": {},
   "outputs": [],
   "source": [
    "f2_base = f2_base.drop('res_pi', axis = 1)"
   ]
  },
  {
   "cell_type": "code",
   "execution_count": null,
   "id": "530376ec",
   "metadata": {},
   "outputs": [],
   "source": [
    "for ind, row in f2_base.iterrows():\n",
    "    if row.marital_stat_pi == 1:\n",
    "        f2_base.loc[ind, 'mar_stat2'] = 'single'\n",
    "    elif row.marital_stat_pi == 2:\n",
    "        f2_base.loc[ind, 'mar_stat2'] = 'married'\n",
    "    elif row.marital_stat_pi == 3:\n",
    "        f2_base.loc[ind, 'mar_stat2'] = 'divorced'\n",
    "    elif row.marital_stat_pi == 4:\n",
    "        f2_base.loc[ind, 'mar_stat2'] = 'separated'\n",
    "    elif row.marital_stat_pi == 5:\n",
    "        f2_base.loc[ind, 'mar_stat2'] = 'widowed'\n",
    "    elif row.marital_stat_pi == 6:\n",
    "        f2_base.loc[ind, 'mar_stat2'] = 'other'\n",
    "    elif row.marital_stat_pi == 7:\n",
    "        f2_base.loc[ind, 'mar_stat2'] = 'living_with'\n",
    "    elif row.marital_stat_pi == 9:\n",
    "        f2_base.loc[ind, 'mar_stat2'] = 'unknown'    "
   ]
  },
  {
   "cell_type": "code",
   "execution_count": null,
   "id": "96419d21",
   "metadata": {},
   "outputs": [],
   "source": [
    "f2_base = f2_base.drop('marital_stat_pi', axis = 1)"
   ]
  },
  {
   "cell_type": "code",
   "execution_count": null,
   "id": "74f3748f",
   "metadata": {},
   "outputs": [],
   "source": [
    "for ind, row in f2_base.iterrows():\n",
    "    if row.marital_stat_change == 0:\n",
    "        f2_base.loc[ind, 'mar_stat_up2'] = 'no_up'\n",
    "    elif row.marital_stat_change == 1:\n",
    "        f2_base.loc[ind, 'mar_stat_up2'] = 'div'\n",
    "    elif row.marital_stat_change == 2:\n",
    "        f2_base.loc[ind, 'mar_stat_up2'] = 'mar'\n",
    "    elif row.marital_stat_change == 3:\n",
    "        f2_base.loc[ind, 'mar_stat_up2'] = 'wid'\n",
    "    elif row.marital_stat_change == 4:\n",
    "        f2_base.loc[ind, 'mar_stat_up2'] = 'div_mar'\n",
    "    elif row.marital_stat_change == 5:\n",
    "        f2_base.loc[ind, 'mar_stat_up2'] = 'wid_mar'\n",
    "    elif row.marital_stat_change == 6:\n",
    "        f2_base.loc[ind, 'mar_stat_up2'] = 'div_mar_wid'\n",
    "    elif row.marital_stat_change == 7:\n",
    "        f2_base.loc[ind, 'mar_stat_up2'] = 'other'\n",
    "    elif row.marital_stat_change == 8:\n",
    "        f2_base.loc[ind, 'mar_stat_up2'] = 'so_part'    \n",
    "    elif row.marital_stat_change == 9:\n",
    "        f2_base.loc[ind, 'mar_stat_up2']= 'unknown' "
   ]
  },
  {
   "cell_type": "code",
   "execution_count": null,
   "id": "abbaec15",
   "metadata": {},
   "outputs": [],
   "source": [
    "f2_base = f2_base.drop('marital_stat_change', axis = 1)"
   ]
  },
  {
   "cell_type": "code",
   "execution_count": null,
   "id": "6664ea8a",
   "metadata": {},
   "outputs": [],
   "source": [
    "f2_base['educ_lvl_pi'].value_counts(dropna = False)"
   ]
  },
  {
   "cell_type": "code",
   "execution_count": null,
   "id": "fc2cbd54",
   "metadata": {},
   "outputs": [],
   "source": [
    "for ind, row in f2_base.iterrows():\n",
    "    if row.educ_lvl_pi == 1:\n",
    "        f2_base.loc[ind, 'educ_lvl2'] = '8th_or_less'\n",
    "    elif row.educ_lvl_pi == 2:\n",
    "        f2_base.loc[ind, 'educ_lvl2'] = '9th_11th'\n",
    "    elif row.educ_lvl_pi == 3:\n",
    "        f2_base.loc[ind, 'educ_lvl2'] = 'hsd'\n",
    "    elif row.educ_lvl_pi == 4:\n",
    "        f2_base.loc[ind, 'educ_lvl2'] = 'ad'\n",
    "    elif row.educ_lvl_pi == 5:\n",
    "        f2_base.loc[ind, 'educ_lvl2'] = 'bd'\n",
    "    elif row.educ_lvl_pi == 6:\n",
    "        f2_base.loc[ind, 'educ_lvl2'] = 'md'\n",
    "    elif row.educ_lvl_pi== 7:\n",
    "        f2_base.loc[ind, 'educ_lvl2'] = 'doc'\n",
    "    elif row.educ_lvl_pi == 8:\n",
    "        f2_base.loc[ind, 'educ_lvl2'] = 'other'    \n",
    "    elif row.educ_lvl_pi == 9:\n",
    "        f2_base.loc[ind, 'educ_lvl2'] = 'unknown'    "
   ]
  },
  {
   "cell_type": "code",
   "execution_count": null,
   "id": "7a3f0eb8",
   "metadata": {},
   "outputs": [],
   "source": [
    "f2_base = f2_base.drop('educ_lvl_pi', axis = 1)"
   ]
  },
  {
   "cell_type": "code",
   "execution_count": null,
   "id": "f01c73bd",
   "metadata": {},
   "outputs": [],
   "source": [
    "for ind, row in f2_base.iterrows():\n",
    "    if row.interest_or_pleaseure_pi == 0:\n",
    "        f2_base.loc[ind, 'int_pleas2'] = 'none'\n",
    "    elif row.interest_or_pleaseure_pi == 1:\n",
    "        f2_base.loc[ind, 'int_pleas2'] = 'several_days'\n",
    "    elif row.interest_or_pleaseure_pi == 2:\n",
    "        f2_base.loc[ind, 'int_pleas2'] = 'more_than_half'\n",
    "    elif row.interest_or_pleaseure_pi == 3:\n",
    "        f2_base.loc[ind, 'int_pleas2'] = 'nearly_every_day'\n",
    "    elif row.interest_or_pleaseure_pi == 7:\n",
    "        f2_base.loc[ind, 'int_pleas2'] = 'declined'\n",
    "    elif row.interest_or_pleaseure_pi == 9:\n",
    "        f2_base.loc[ind, 'int_pleas2'] = 'unknown'"
   ]
  },
  {
   "cell_type": "code",
   "execution_count": null,
   "id": "c729ee88",
   "metadata": {},
   "outputs": [],
   "source": [
    "f2_base = f2_base.drop('interest_or_pleaseure_pi', axis = 1)"
   ]
  },
  {
   "cell_type": "code",
   "execution_count": null,
   "id": "50c89610",
   "metadata": {},
   "outputs": [],
   "source": [
    "for ind, row in f2_base.iterrows():\n",
    "    if row.depressed_pi == 0:\n",
    "        f2_base.loc[ind, 'depr2'] = 'none'\n",
    "    elif row.depressed_pi == 1:\n",
    "        f2_base.loc[ind, 'depr2'] = 'several_days'\n",
    "    elif row.depressed_pi == 2:\n",
    "        f2_base.loc[ind, 'depr2'] = 'more_than_half'\n",
    "    elif row.depressed_pi == 3:\n",
    "        f2_base.loc[ind, 'depr2'] = 'nearly_every_day'\n",
    "    elif row.depressed_pi == 7:\n",
    "        f2_base.loc[ind, 'depr2'] = 'declined'\n",
    "    elif row.depressed_pi == 9:\n",
    "        f2_base.loc[ind, 'depr2'] = 'unknown'"
   ]
  },
  {
   "cell_type": "code",
   "execution_count": null,
   "id": "d0b8601c",
   "metadata": {},
   "outputs": [],
   "source": [
    "f2_base = f2_base.drop('depressed_pi', axis = 1)"
   ]
  },
  {
   "cell_type": "code",
   "execution_count": null,
   "id": "c990a1b2",
   "metadata": {},
   "outputs": [],
   "source": [
    "for ind, row in f2_base.iterrows():\n",
    "    if row.self_harm_pi == 0:\n",
    "        f2_base.loc[ind, 'self_harm2'] = 'none'\n",
    "    elif row.self_harm_pi == 1:\n",
    "        f2_base.loc[ind, 'self_harm2'] = 'several_days'\n",
    "    elif row.self_harm_pi == 2:\n",
    "        f2_base.loc[ind, 'self_harm2'] = 'more_than_half'\n",
    "    elif row.self_harm_pi == 3:\n",
    "        f2_base.loc[ind, 'self_harm2'] = 'nearly_every_day'\n",
    "    elif row.self_harm_pi == 7:\n",
    "        f2_base.loc[ind, 'self_harm2'] = 'declined'\n",
    "    elif row.self_harm_pi == 9:\n",
    "        f2_base.loc[ind, 'self_harm2'] = 'unknown'"
   ]
  },
  {
   "cell_type": "code",
   "execution_count": null,
   "id": "44ed8f0b",
   "metadata": {},
   "outputs": [],
   "source": [
    "f2_base = f2_base.drop('self_harm_pi', axis = 1)\n",
    "f2_base"
   ]
  },
  {
   "cell_type": "code",
   "execution_count": null,
   "id": "29aa2fc3",
   "metadata": {},
   "outputs": [],
   "source": [
    "for ind, row in f2_base.iterrows():\n",
    "    if row.feel_bad_pi == 0:\n",
    "        f2_base.loc[ind, 'feel_bad2'] = 'none'\n",
    "    elif row.feel_bad_pi == 1:\n",
    "        f2_base.loc[ind, 'feel_bad2'] = 'several_days'\n",
    "    elif row.feel_bad_pi == 2:\n",
    "        f2_base.loc[ind, 'feel_bad2'] = 'more_than_half'\n",
    "    elif row.feel_bad_pi == 3:\n",
    "        f2_base.loc[ind, 'feel_bad2'] = 'nearly_every_day'\n",
    "    elif row.feel_bad_pi == 7:\n",
    "        f2_base.loc[ind, 'feel_bad2'] = 'declined'\n",
    "    elif row.feel_bad_pi == 9:\n",
    "        f2_base.loc[ind, 'feel_bad2'] = 'unknown'"
   ]
  },
  {
   "cell_type": "code",
   "execution_count": null,
   "id": "c6cd9dae",
   "metadata": {},
   "outputs": [],
   "source": [
    "f2_base = f2_base.drop('feel_bad_pi', axis = 1)\n",
    "f2_base"
   ]
  },
  {
   "cell_type": "code",
   "execution_count": null,
   "id": "8e55f8ec",
   "metadata": {},
   "outputs": [],
   "source": [
    "for ind, row in f2_base.iterrows():\n",
    "    if row.depressive_syndrome_pi == 0:\n",
    "        f2_base.loc[ind, 'dep_syn2'] = 'none'\n",
    "    elif row.depressive_syndrome_pi == 1:\n",
    "        f2_base.loc[ind, 'dep_syn2'] = 'major'\n",
    "    elif row.depressive_syndrome_pi == 2:\n",
    "        f2_base.loc[ind, 'dep_syn2'] = 'other'\n",
    "    elif row.depressive_syndrome_pi == 9:\n",
    "        f2_base.loc[ind, 'dep_syn2'] = 'unknown'"
   ]
  },
  {
   "cell_type": "code",
   "execution_count": null,
   "id": "f5d0bfbe",
   "metadata": {},
   "outputs": [],
   "source": [
    "f2_base = f2_base.drop('depressive_syndrome_pi', axis = 1)\n",
    "f2_base"
   ]
  },
  {
   "cell_type": "code",
   "execution_count": null,
   "id": "cacf29e3",
   "metadata": {},
   "outputs": [],
   "source": [
    "for ind, row in f2_base.iterrows():\n",
    "    if row.occup_status_pi == 1:\n",
    "        f2_base.loc[ind, 'occ_stat2'] = 'working'\n",
    "    elif row.occup_status_pi == 2:\n",
    "        f2_base.loc[ind, 'occ_stat2'] = 'homemaker'\n",
    "    elif row.occup_status_pi == 3:\n",
    "        f2_base.loc[ind, 'occ_stat2'] = 'otj_train'\n",
    "    elif row.occup_status_pi == 4:\n",
    "        f2_base.loc[ind, 'occ_stat2'] = 'shel_work'\n",
    "    elif row.occup_status_pi == 5:\n",
    "        f2_base.loc[ind, 'occ_stat2'] = 'retired'\n",
    "    elif row.occup_status_pi == 6:\n",
    "        f2_base.loc[ind, 'occ_stat2'] = 'student'\n",
    "    elif row.occup_status_pi == 7:\n",
    "        f2_base.loc[ind, 'occ_stat2'] = 'unemployed'\n",
    "    elif row.occup_status_pi == 8:\n",
    "        f2_base.loc[ind, 'occ_stat2'] = 'retired_dis'\n",
    "    elif row.occup_status_pi == 9:\n",
    "        f2_base.loc[ind, 'occ_stat2'] = 'retired_nondis'   \n",
    "    elif row.occup_status_pi == 10:\n",
    "        f2_base.loc[ind, 'occ_stat2'] = 'other'\n",
    "    elif row.occup_status_pi == 99:\n",
    "        f2_base.loc[ind, 'occ_stat2'] = 'unknown'       "
   ]
  },
  {
   "cell_type": "code",
   "execution_count": null,
   "id": "3a418b83",
   "metadata": {},
   "outputs": [],
   "source": [
    "f2_base = f2_base.drop('occup_status_pi', axis = 1)\n",
    "f2_base"
   ]
  },
  {
   "cell_type": "code",
   "execution_count": null,
   "id": "82b40872",
   "metadata": {},
   "outputs": [],
   "source": [
    "f2_base = f2_base.rename(columns={'severity_of_depression_pi' : 'sev_dep2'})\n",
    "\n",
    "f2_base"
   ]
  },
  {
   "cell_type": "code",
   "execution_count": null,
   "id": "2b3bb69c",
   "metadata": {},
   "outputs": [],
   "source": [
    "for ind, row in f2_base.iterrows():\n",
    "    if row.income_level == 1:\n",
    "        f2_base.loc[ind, 'inc_lvl2'] = 'lt25k'\n",
    "    elif row.income_level == 2:\n",
    "        f2_base.loc[ind, 'inc_lvl2'] = '25k_49999'\n",
    "    elif row.income_level == 3:\n",
    "        f2_base.loc[ind, 'inc_lvl2'] = '50k_74999'\n",
    "    elif row.income_level == 4:\n",
    "        f2_base.loc[ind, 'inc_lvl2'] = '75kpl'\n",
    "    elif row.income_level == 6:\n",
    "        f2_base.loc[ind, 'inc_lvl2'] = 'not_sure'\n",
    "    elif row.income_level == 7:\n",
    "        f2_base.loc[ind, 'inc_lvl2'] = 'declined'\n",
    "    elif row.income_level == 9:\n",
    "        f2_base.loc[ind, 'inc_lvl2'] = 'unknown'  "
   ]
  },
  {
   "cell_type": "code",
   "execution_count": null,
   "id": "4899a54b",
   "metadata": {},
   "outputs": [],
   "source": [
    "f2_base = f2_base.drop('income_level', axis = 1)\n",
    "f2_base"
   ]
  },
  {
   "cell_type": "code",
   "execution_count": null,
   "id": "4f58b54f",
   "metadata": {},
   "outputs": [],
   "source": [
    "f2_base['post_inj_yr'].value_counts().plot(kind = 'bar');"
   ]
  },
  {
   "cell_type": "code",
   "execution_count": null,
   "id": "db809f38",
   "metadata": {},
   "outputs": [],
   "source": [
    "f1_base.dtypes"
   ]
  },
  {
   "cell_type": "code",
   "execution_count": null,
   "id": "e4b7e1a3",
   "metadata": {},
   "outputs": [],
   "source": [
    "f1_base['age1'] = f1_base['age1'].replace(to_replace = '6-12y', value = '9')\n",
    "f1_base['age1']"
   ]
  },
  {
   "cell_type": "code",
   "execution_count": null,
   "id": "2376af1d",
   "metadata": {},
   "outputs": [],
   "source": [
    "f1_base.loc[f1_base.age1 == '500']"
   ]
  },
  {
   "cell_type": "code",
   "execution_count": null,
   "id": "ca71dcbc",
   "metadata": {},
   "outputs": [],
   "source": [
    "f1_base['age1'] = f1_base['age1'].replace(to_replace = '0-5y', value = '3')\n",
    "f1_base['age1']"
   ]
  },
  {
   "cell_type": "code",
   "execution_count": null,
   "id": "0ad58a67",
   "metadata": {},
   "outputs": [],
   "source": [
    "f1_base['age1'] = f1_base['age1'].replace(to_replace = '13-14y', value = '14')"
   ]
  },
  {
   "cell_type": "code",
   "execution_count": null,
   "id": "8329062f",
   "metadata": {},
   "outputs": [],
   "source": [
    "f1_base['age1'] = f1_base['age1'].replace(to_replace = '88+y', value = '89')"
   ]
  },
  {
   "cell_type": "code",
   "execution_count": null,
   "id": "511365e8",
   "metadata": {},
   "outputs": [],
   "source": [
    "f1_base.loc[f1_base.age1 == 888].count()"
   ]
  },
  {
   "cell_type": "code",
   "execution_count": null,
   "id": "377b9c76",
   "metadata": {},
   "outputs": [],
   "source": [
    "f1_base['age1'] = f1_base['age1'].astype('int')"
   ]
  },
  {
   "cell_type": "code",
   "execution_count": null,
   "id": "73ddcfa3",
   "metadata": {},
   "outputs": [],
   "source": [
    "f1_base.shape"
   ]
  },
  {
   "cell_type": "code",
   "execution_count": null,
   "id": "dec08ce7",
   "metadata": {
    "scrolled": true
   },
   "outputs": [],
   "source": [
    "f1_base['age1'].value_counts()"
   ]
  },
  {
   "cell_type": "code",
   "execution_count": null,
   "id": "224c7b34",
   "metadata": {},
   "outputs": [],
   "source": [
    "f1_base.age1.sort_values(ascending = False)"
   ]
  },
  {
   "cell_type": "code",
   "execution_count": null,
   "id": "1a90759a",
   "metadata": {},
   "outputs": [],
   "source": [
    "plt.figure(figsize = (10,6))\n",
    "\n",
    "sns.boxplot(data = f1_base,\n",
    "           x = 'age1')\n",
    "\n",
    "plt.title('SCI Age at Injury');"
   ]
  },
  {
   "cell_type": "code",
   "execution_count": null,
   "id": "91bfa58b",
   "metadata": {},
   "outputs": [],
   "source": [
    "age_ai = f1_base.age1.value_counts().to_frame().reset_index()\n",
    "age_ai"
   ]
  },
  {
   "cell_type": "code",
   "execution_count": null,
   "id": "5aa9907b",
   "metadata": {},
   "outputs": [],
   "source": [
    "age_ai  = age_ai .rename(columns={'count' : 'total'})\n",
    "age_ai "
   ]
  },
  {
   "cell_type": "code",
   "execution_count": null,
   "id": "7d4a92ff",
   "metadata": {},
   "outputs": [],
   "source": [
    "age_ai['records'] = age_ai.total.sum()  \n",
    "age_ai['ai_age_per'] = (age_ai.total / age_ai.records) * 100    \n",
    "age_ai"
   ]
  },
  {
   "cell_type": "code",
   "execution_count": null,
   "id": "242e72d7",
   "metadata": {},
   "outputs": [],
   "source": [
    "age_ai"
   ]
  },
  {
   "cell_type": "code",
   "execution_count": null,
   "id": "faf030b2",
   "metadata": {},
   "outputs": [],
   "source": [
    "f1_base[['age1', 'days_rehab1', 'AFScorRb', 'AFScorDs']].corr()"
   ]
  },
  {
   "cell_type": "markdown",
   "id": "14b77183",
   "metadata": {},
   "source": [
    "#### Very weak positive correlation, an increase in the first variable will likely lead to an increase in the second variable."
   ]
  },
  {
   "cell_type": "code",
   "execution_count": null,
   "id": "7bfa26d9",
   "metadata": {},
   "outputs": [],
   "source": [
    "f1_base"
   ]
  },
  {
   "cell_type": "code",
   "execution_count": null,
   "id": "137b8f1d",
   "metadata": {},
   "outputs": [],
   "source": [
    "f1_base.columns"
   ]
  },
  {
   "cell_type": "code",
   "execution_count": null,
   "id": "07df1f7b",
   "metadata": {},
   "outputs": [],
   "source": [
    "f1_ls = f1_base[['unique_id','age1', 'gender', 'res1', 'res_at_dis', 'mar_stat1', 'educ_lvl1', 'occ_stat1', 'inc_lvl1']]\n",
    "f1_ls"
   ]
  },
  {
   "cell_type": "code",
   "execution_count": null,
   "id": "3881efb9",
   "metadata": {},
   "outputs": [],
   "source": [
    "f2_base.columns"
   ]
  },
  {
   "cell_type": "code",
   "execution_count": null,
   "id": "054cf9aa",
   "metadata": {},
   "outputs": [],
   "source": [
    "f2_ls = f2_base[['unique_id', 'post_inj_yr', 'res2','mar_stat2', 'mar_stat_up2', 'educ_lvl2', 'occ_stat2', 'inc_lvl2']]\n",
    "f2_ls"
   ]
  },
  {
   "cell_type": "code",
   "execution_count": null,
   "id": "89491555",
   "metadata": {},
   "outputs": [],
   "source": [
    "f2_ls1 = f2_ls.loc[(f2_base.post_inj_yr == 1)]\n",
    "f2_ls1"
   ]
  },
  {
   "cell_type": "code",
   "execution_count": null,
   "id": "83fadf9b",
   "metadata": {},
   "outputs": [],
   "source": [
    "f2_ls5 = f2_ls.loc[(f2_base.post_inj_yr == 5)]\n",
    "f2_ls5"
   ]
  },
  {
   "cell_type": "code",
   "execution_count": null,
   "id": "b68793c1",
   "metadata": {},
   "outputs": [],
   "source": [
    "f2_ls10 = f2_ls.loc[(f2_base.post_inj_yr == 10)]\n",
    "f2_ls10"
   ]
  },
  {
   "cell_type": "code",
   "execution_count": null,
   "id": "2c639ae8",
   "metadata": {},
   "outputs": [],
   "source": [
    "f2_ls15 = f2_ls.loc[(f2_base.post_inj_yr == 15)]\n",
    "f2_ls15"
   ]
  },
  {
   "cell_type": "code",
   "execution_count": null,
   "id": "74abc917",
   "metadata": {},
   "outputs": [],
   "source": [
    "yr1 = pd.merge(f1_ls, f2_ls1, left_on=['unique_id'], right_on=['unique_id'],how='inner')\n",
    "yr1"
   ]
  },
  {
   "cell_type": "code",
   "execution_count": null,
   "id": "354d1387",
   "metadata": {},
   "outputs": [],
   "source": [
    "yr5 = pd.merge(f1_ls, f2_ls5, left_on=['unique_id'], right_on=['unique_id'],how='inner')\n",
    "yr5"
   ]
  },
  {
   "cell_type": "code",
   "execution_count": null,
   "id": "00ebbc81",
   "metadata": {},
   "outputs": [],
   "source": [
    "yr10 = pd.merge(f1_ls, f2_ls10, left_on=['unique_id'], right_on=['unique_id'],how='inner')\n",
    "yr10"
   ]
  },
  {
   "cell_type": "code",
   "execution_count": null,
   "id": "4fa48139",
   "metadata": {},
   "outputs": [],
   "source": [
    "yr15 = pd.merge(f1_ls, f2_ls15, left_on=['unique_id'], right_on=['unique_id'],how='inner')\n",
    "yr15"
   ]
  },
  {
   "cell_type": "code",
   "execution_count": null,
   "id": "f9029576",
   "metadata": {},
   "outputs": [],
   "source": [
    "f1_f2 = pd.merge(f1_base, f2_base, left_on=['unique_id'], right_on=['unique_id'],how='inner')\n",
    "f1_f2.head(10)"
   ]
  },
  {
   "cell_type": "code",
   "execution_count": null,
   "id": "1ebc5bf7",
   "metadata": {},
   "outputs": [],
   "source": [
    "f1_f2[['unique_id','age1', 'res1', 'res_at_dis', 'mar_stat1','post_inj_yr', 'educ_lvl1', 'occ_stat1']].head(10)"
   ]
  },
  {
   "cell_type": "code",
   "execution_count": null,
   "id": "b21970e2",
   "metadata": {},
   "outputs": [],
   "source": [
    "yr1 = f1_f2.loc[(f2_base.post_inj_yr == 1)]\n",
    "yr1"
   ]
  },
  {
   "cell_type": "code",
   "execution_count": null,
   "id": "efc5bfef",
   "metadata": {},
   "outputs": [],
   "source": [
    "yr5 = f1_f2.loc[(f2_base.post_inj_yr == 5)]\n",
    "yr5"
   ]
  },
  {
   "cell_type": "code",
   "execution_count": null,
   "id": "a6357144",
   "metadata": {},
   "outputs": [],
   "source": [
    "yr10 = f1_f2.loc[(f2_base.post_inj_yr == 10)]\n",
    "yr10"
   ]
  },
  {
   "cell_type": "code",
   "execution_count": null,
   "id": "4e27a441",
   "metadata": {},
   "outputs": [],
   "source": [
    "yr15 = f1_f2.loc[(f2_base.post_inj_yr == 15)]\n",
    "yr15"
   ]
  },
  {
   "cell_type": "code",
   "execution_count": null,
   "id": "f2147175",
   "metadata": {},
   "outputs": [],
   "source": [
    "yr1['mar_stat1'].value_counts().plot(kind = 'bar');"
   ]
  },
  {
   "cell_type": "code",
   "execution_count": null,
   "id": "e65eb880",
   "metadata": {},
   "outputs": [],
   "source": [
    "yr1['mar_stat_up2'].value_counts().plot(kind = 'bar');"
   ]
  },
  {
   "cell_type": "code",
   "execution_count": null,
   "id": "59c543df",
   "metadata": {},
   "outputs": [],
   "source": [
    "yr1.mar_stat_up2.count()"
   ]
  },
  {
   "cell_type": "code",
   "execution_count": null,
   "id": "3de439c8",
   "metadata": {},
   "outputs": [],
   "source": [
    "yr1_per = yr1.mar_stat_up2.value_counts().to_frame().reset_index()\n",
    "yr1_per = yr1_per.rename(columns={'count' : 'total'})\n",
    "yr1_per['records'] = yr1_per.total.sum()    \n",
    "yr1_per['perc_yr1'] = (yr1_per.total / yr1_per.records) * 100  \n",
    "yr1_per"
   ]
  },
  {
   "cell_type": "code",
   "execution_count": null,
   "id": "a34d2de7",
   "metadata": {},
   "outputs": [],
   "source": [
    "yr5_per = yr5.mar_stat_up2.value_counts().to_frame().reset_index()\n",
    "yr5_per = yr5_per.rename(columns={'count' : 'total'})\n",
    "yr5_per['records'] = yr5_per.total.sum() \n",
    "yr5_per['perc_yr5'] = (yr5_per.total / yr5_per.records) * 100    \n",
    "yr5_per"
   ]
  },
  {
   "cell_type": "code",
   "execution_count": null,
   "id": "d6df51ba",
   "metadata": {},
   "outputs": [],
   "source": [
    "yr10_per = yr10.mar_stat_up2.value_counts().to_frame().reset_index()      \n",
    "yr10_per = yr10_per.rename(columns={'count' : 'total'})\n",
    "yr10_per['records'] = yr10_per.total.sum()        \n",
    "yr10_per['perc_yr10'] = (yr10_per.total / yr10_per.records) * 100    \n",
    "yr10_per"
   ]
  },
  {
   "cell_type": "code",
   "execution_count": null,
   "id": "5077cb15",
   "metadata": {},
   "outputs": [],
   "source": [
    "yr15_per = yr15.mar_stat_up2.value_counts().to_frame().reset_index()\n",
    "yr15_per = yr15_per.rename(columns={'count' : 'total'})\n",
    "yr15_per['records'] = yr15_per.total.sum()  \n",
    "yr15_per['perc_yr15'] = (yr15_per.total / yr15_per.records) * 100    \n",
    "yr15_per "
   ]
  },
  {
   "cell_type": "code",
   "execution_count": null,
   "id": "72dd80d4",
   "metadata": {},
   "outputs": [],
   "source": [
    "yr1_yr5 = pd.merge(yr1_per, yr5_per, left_on=['mar_stat_up2'], right_on=['mar_stat_up2'],how='inner')\n",
    "yr1_yr5"
   ]
  },
  {
   "cell_type": "code",
   "execution_count": null,
   "id": "811e5874",
   "metadata": {},
   "outputs": [],
   "source": [
    "yr10_yr15 = pd.merge(yr10_per, yr15_per, left_on=['mar_stat_up2'], right_on=['mar_stat_up2'],how='inner')\n",
    "yr10_yr15"
   ]
  },
  {
   "cell_type": "code",
   "execution_count": null,
   "id": "45cb801f",
   "metadata": {},
   "outputs": [],
   "source": [
    "yr1_thru_yr15 = pd.merge(yr1_yr5, yr10_yr15, left_on=['mar_stat_up2'], right_on=['mar_stat_up2'],how='inner')\n",
    "yr1_thru_yr15"
   ]
  },
  {
   "cell_type": "code",
   "execution_count": null,
   "id": "94a2d74d",
   "metadata": {},
   "outputs": [],
   "source": [
    "yr1_thru_yr15 = yr1_thru_yr15[['mar_stat_up2','perc_yr1','perc_yr5','perc_yr10','perc_yr15']]\n",
    "yr1_thru_yr15 "
   ]
  },
  {
   "cell_type": "code",
   "execution_count": null,
   "id": "c82c393b",
   "metadata": {},
   "outputs": [],
   "source": [
    "yr20 = f2_ls.loc[(f2_base.post_inj_yr == 20)]\n",
    "yr25 = f2_ls.loc[(f2_base.post_inj_yr == 25)]\n",
    "yr30 = f2_ls.loc[(f2_base.post_inj_yr == 30)]"
   ]
  },
  {
   "cell_type": "code",
   "execution_count": null,
   "id": "6a0e710f",
   "metadata": {},
   "outputs": [],
   "source": [
    "yr20_per = yr20.mar_stat_up2.value_counts().to_frame().reset_index()\n",
    "yr20_per = yr20_per.rename(columns={'count' : 'total'})\n",
    "yr20_per['records'] = yr20_per.total.sum()  \n",
    "yr20_per['perc_yr20'] = (yr20_per.total / yr20_per.records) * 100    \n",
    "\n",
    "yr25_per = yr25.mar_stat_up2.value_counts().to_frame().reset_index()\n",
    "yr25_per = yr25_per.rename(columns={'count' : 'total'})\n",
    "yr25_per['records'] = yr25_per.total.sum()  \n",
    "yr25_per['perc_yr25'] = (yr25_per.total / yr25_per.records) * 100  \n",
    "\n",
    "yr30_per = yr30.mar_stat_up2.value_counts().to_frame().reset_index()\n",
    "yr30_per = yr30_per.rename(columns={'count' : 'total'})\n",
    "yr30_per['records'] = yr30_per.total.sum()  \n",
    "yr30_per['perc_yr30'] = (yr30_per.total / yr30_per.records) * 100  \n"
   ]
  },
  {
   "cell_type": "code",
   "execution_count": null,
   "id": "48d98496",
   "metadata": {},
   "outputs": [],
   "source": [
    "yr20_yr25 = pd.merge(yr20_per, yr25_per, left_on=['mar_stat_up2'], right_on=['mar_stat_up2'],how='inner')\n",
    "yr20_yr25"
   ]
  },
  {
   "cell_type": "code",
   "execution_count": null,
   "id": "6426b3c8",
   "metadata": {},
   "outputs": [],
   "source": [
    "yr20_thru_yr30 = pd.merge(yr20_yr25, yr30_per, left_on=['mar_stat_up2'], right_on=['mar_stat_up2'],how='inner')\n",
    "yr20_thru_yr30"
   ]
  },
  {
   "cell_type": "code",
   "execution_count": null,
   "id": "5b1997b9",
   "metadata": {},
   "outputs": [],
   "source": [
    "yr20_thru_yr30 = yr20_thru_yr30[['mar_stat_up2','perc_yr20','perc_yr25','perc_yr30']]\n",
    "yr20_thru_yr30"
   ]
  },
  {
   "cell_type": "code",
   "execution_count": null,
   "id": "9a35cf4e",
   "metadata": {},
   "outputs": [],
   "source": [
    "yr_all_mar_up = pd.merge(yr1_thru_yr15, yr20_thru_yr30, left_on=['mar_stat_up2'], right_on=['mar_stat_up2'],how='inner')\n",
    "yr_all_mar_up"
   ]
  },
  {
   "cell_type": "code",
   "execution_count": null,
   "id": "e70ed5b4",
   "metadata": {},
   "outputs": [],
   "source": [
    "f1_ms = f1_base[['unique_id','mar_stat1']]\n",
    "f1_ms"
   ]
  },
  {
   "cell_type": "code",
   "execution_count": null,
   "id": "c92c5ef0",
   "metadata": {},
   "outputs": [],
   "source": [
    "f1_ms.mar_stat1.value_counts()"
   ]
  },
  {
   "cell_type": "code",
   "execution_count": null,
   "id": "f5950e07",
   "metadata": {},
   "outputs": [],
   "source": [
    "ai_stat = f1_ms.mar_stat1.value_counts().to_frame().reset_index()\n",
    "ai_stat"
   ]
  },
  {
   "cell_type": "code",
   "execution_count": null,
   "id": "bad5708a",
   "metadata": {},
   "outputs": [],
   "source": [
    "ai_stat = ai_stat.rename(columns={'count' : 'total'})\n",
    "ai_stat"
   ]
  },
  {
   "cell_type": "code",
   "execution_count": null,
   "id": "9e3c2d9a",
   "metadata": {},
   "outputs": [],
   "source": [
    "ai_stat['records'] = ai_stat.total.sum()  \n",
    "ai_stat"
   ]
  },
  {
   "cell_type": "code",
   "execution_count": null,
   "id": "1dfe3a51",
   "metadata": {},
   "outputs": [],
   "source": [
    "ai_stat['ai_per'] = (ai_stat.total / ai_stat.records) * 100    \n",
    "ai_stat"
   ]
  },
  {
   "cell_type": "code",
   "execution_count": null,
   "id": "ec1b37cd",
   "metadata": {},
   "outputs": [],
   "source": [
    "yr1.mar_stat2.count()"
   ]
  },
  {
   "cell_type": "code",
   "execution_count": null,
   "id": "85b6223c",
   "metadata": {},
   "outputs": [],
   "source": [
    "yr1_stat = yr1[['unique_id','mar_stat2']]\n",
    "yr1_stat"
   ]
  },
  {
   "cell_type": "code",
   "execution_count": null,
   "id": "c549527c",
   "metadata": {},
   "outputs": [],
   "source": [
    "yr1_stat = yr1_stat.mar_stat2.value_counts().to_frame().reset_index()\n",
    "yr1_stat = yr1_stat.rename(columns={'count' : 'total'})\n",
    "yr1_stat['records'] = yr1_stat.total.sum()  \n",
    "yr1_stat['yr1_per'] = (yr1_stat.total / yr1_stat.records) * 100    \n",
    "yr1_stat"
   ]
  },
  {
   "cell_type": "code",
   "execution_count": null,
   "id": "450e71a2",
   "metadata": {},
   "outputs": [],
   "source": [
    "yr1_stat= yr1_stat.drop('total', axis=1)\n",
    "yr1_stat= yr1_stat.drop('records', axis=1)"
   ]
  },
  {
   "cell_type": "code",
   "execution_count": null,
   "id": "84d89501",
   "metadata": {},
   "outputs": [],
   "source": [
    "yr1_stat"
   ]
  },
  {
   "cell_type": "code",
   "execution_count": null,
   "id": "4e432181",
   "metadata": {},
   "outputs": [],
   "source": [
    "yr5_stat = yr5[['unique_id','mar_stat2']]\n",
    "yr5_stat = yr5_stat.mar_stat2.value_counts().to_frame().reset_index()\n",
    "yr5_stat = yr5_stat.rename(columns={'count' : 'total'})\n",
    "yr5_stat['records'] = yr5_stat.total.sum()  \n",
    "yr5_stat['yr5_per'] = (yr5_stat.total / yr5_stat.records) * 100    \n",
    "yr5_stat"
   ]
  },
  {
   "cell_type": "code",
   "execution_count": null,
   "id": "106d7f2f",
   "metadata": {},
   "outputs": [],
   "source": [
    "yr5_stat= yr5_stat.drop('total', axis=1)\n",
    "yr5_stat= yr5_stat.drop('records', axis=1)"
   ]
  },
  {
   "cell_type": "code",
   "execution_count": null,
   "id": "ff6c6144",
   "metadata": {},
   "outputs": [],
   "source": [
    "yr5_stat"
   ]
  },
  {
   "cell_type": "code",
   "execution_count": null,
   "id": "aa4c8c26",
   "metadata": {},
   "outputs": [],
   "source": [
    "yr10_stat = yr10[['unique_id','mar_stat2']]\n",
    "yr10_stat = yr10_stat.mar_stat2.value_counts().to_frame().reset_index()\n",
    "yr10_stat = yr10_stat.rename(columns={'count' : 'total'})\n",
    "yr10_stat['records'] = yr10_stat.total.sum()  \n",
    "yr10_stat['yr10_per'] = (yr10_stat.total / yr10_stat.records) * 100    \n",
    "yr10_stat"
   ]
  },
  {
   "cell_type": "code",
   "execution_count": null,
   "id": "aaf81bdf",
   "metadata": {},
   "outputs": [],
   "source": [
    "yr10_stat= yr10_stat.drop('total', axis=1)\n",
    "yr10_stat= yr10_stat.drop('records', axis=1)\n",
    "yr10_stat"
   ]
  },
  {
   "cell_type": "code",
   "execution_count": null,
   "id": "99fb4893",
   "metadata": {},
   "outputs": [],
   "source": [
    "yr15_stat = yr15[['unique_id','mar_stat2']]\n",
    "yr15_stat = yr15_stat.mar_stat2.value_counts().to_frame().reset_index()\n",
    "yr15_stat = yr15_stat.rename(columns={'count' : 'total'})\n",
    "yr15_stat['records'] = yr15_stat.total.sum()  \n",
    "yr15_stat['yr15_per'] = (yr15_stat.total / yr15_stat.records) * 100    \n",
    "yr15_stat"
   ]
  },
  {
   "cell_type": "code",
   "execution_count": null,
   "id": "eb2f574c",
   "metadata": {},
   "outputs": [],
   "source": [
    "yr15_stat= yr15_stat.drop('total', axis=1)\n",
    "yr15_stat= yr15_stat.drop('records', axis=1)\n",
    "yr15_stat"
   ]
  },
  {
   "cell_type": "code",
   "execution_count": null,
   "id": "5e077882",
   "metadata": {},
   "outputs": [],
   "source": [
    "yr20_stat = yr20[['unique_id','mar_stat2']]\n",
    "yr20_stat = yr20_stat.mar_stat2.value_counts().to_frame().reset_index()\n",
    "yr20_stat = yr20_stat.rename(columns={'count' : 'total'})\n",
    "yr20_stat['records'] = yr20_stat.total.sum()  \n",
    "yr20_stat['yr20_per'] = (yr20_stat.total / yr20_stat.records) * 100    \n",
    "yr20_stat"
   ]
  },
  {
   "cell_type": "code",
   "execution_count": null,
   "id": "f1a601a1",
   "metadata": {},
   "outputs": [],
   "source": [
    "yr20_stat= yr20_stat.drop('total', axis=1)\n",
    "yr20_stat= yr20_stat.drop('records', axis=1)\n",
    "yr20_stat"
   ]
  },
  {
   "cell_type": "code",
   "execution_count": null,
   "id": "d810b681",
   "metadata": {},
   "outputs": [],
   "source": [
    "yr25_stat = yr25[['unique_id','mar_stat2']]\n",
    "yr25_stat = yr25_stat.mar_stat2.value_counts().to_frame().reset_index()\n",
    "yr25_stat = yr25_stat.rename(columns={'count' : 'total'})\n",
    "yr25_stat['records'] = yr25_stat.total.sum()  \n",
    "yr25_stat['yr25_per'] = (yr25_stat.total / yr25_stat.records) * 100    \n",
    "yr25_stat"
   ]
  },
  {
   "cell_type": "code",
   "execution_count": null,
   "id": "b6caeeb7",
   "metadata": {},
   "outputs": [],
   "source": [
    "yr25_stat= yr25_stat.drop('total', axis=1)\n",
    "yr25_stat= yr25_stat.drop('records', axis=1)\n",
    "yr25_stat"
   ]
  },
  {
   "cell_type": "code",
   "execution_count": null,
   "id": "d22eb8b9",
   "metadata": {},
   "outputs": [],
   "source": [
    "yr30_stat = yr30[['unique_id','mar_stat2']]\n",
    "yr30_stat = yr30_stat.mar_stat2.value_counts().to_frame().reset_index()\n",
    "yr30_stat = yr30_stat.rename(columns={'count' : 'total'})\n",
    "yr30_stat['records'] = yr30_stat.total.sum()  \n",
    "yr30_stat['yr30_per'] = (yr30_stat.total / yr30_stat.records) * 100    \n",
    "yr30_stat"
   ]
  },
  {
   "cell_type": "code",
   "execution_count": null,
   "id": "7e08e2aa",
   "metadata": {},
   "outputs": [],
   "source": [
    "yr30_stat= yr30_stat.drop('total', axis=1)\n",
    "yr30_stat= yr30_stat.drop('records', axis=1)\n",
    "yr30_stat"
   ]
  },
  {
   "cell_type": "code",
   "execution_count": null,
   "id": "5f09b064",
   "metadata": {},
   "outputs": [],
   "source": [
    "ai_yr1 = pd.merge(ai_stat, yr1_stat, left_on=['mar_stat1'], right_on=['mar_stat2'],how='inner')\n",
    "ai_yr1"
   ]
  },
  {
   "cell_type": "code",
   "execution_count": null,
   "id": "73d3ea55",
   "metadata": {},
   "outputs": [],
   "source": [
    "ai_yr5 = pd.merge(ai_yr1, yr5_stat, left_on=['mar_stat1'], right_on=['mar_stat2'],how='inner')\n",
    "ai_yr5"
   ]
  },
  {
   "cell_type": "code",
   "execution_count": null,
   "id": "80f52211",
   "metadata": {},
   "outputs": [],
   "source": [
    "ai_yr10 = pd.merge(ai_yr5, yr10_stat, left_on=['mar_stat1'], right_on=['mar_stat2'],how='inner')\n",
    "ai_yr10"
   ]
  },
  {
   "cell_type": "code",
   "execution_count": null,
   "id": "d7a12dea",
   "metadata": {},
   "outputs": [],
   "source": [
    "ai_yr10 = ai_yr10[['mar_stat1', 'ai_per', 'yr1_per', 'yr5_per', 'yr10_per']]\n",
    "ai_yr10"
   ]
  },
  {
   "cell_type": "code",
   "execution_count": null,
   "id": "d4371449",
   "metadata": {},
   "outputs": [],
   "source": [
    "ai_yr15 = pd.merge(ai_yr10, yr15_stat, left_on=['mar_stat1'], right_on=['mar_stat2'],how='inner')\n",
    "ai_yr15"
   ]
  },
  {
   "cell_type": "code",
   "execution_count": null,
   "id": "c7a12cc9",
   "metadata": {},
   "outputs": [],
   "source": [
    "ai_yr20 = pd.merge(ai_yr15, yr20_stat, left_on=['mar_stat1'], right_on=['mar_stat2'],how='inner')\n",
    "ai_yr20"
   ]
  },
  {
   "cell_type": "code",
   "execution_count": null,
   "id": "ea43c7ec",
   "metadata": {},
   "outputs": [],
   "source": [
    "ai_yr25 = pd.merge(ai_yr20, yr25_stat, left_on=['mar_stat1'], right_on=['mar_stat2'],how='inner')\n",
    "ai_yr25"
   ]
  },
  {
   "cell_type": "code",
   "execution_count": null,
   "id": "573e8064",
   "metadata": {},
   "outputs": [],
   "source": [
    "ai_yr25 = ai_yr25[['mar_stat1', 'ai_per', 'yr1_per', 'yr5_per', 'yr10_per', 'yr15_per', 'yr20_per', 'yr25_per']]\n",
    "ai_yr25"
   ]
  },
  {
   "cell_type": "code",
   "execution_count": null,
   "id": "e31d1c1c",
   "metadata": {},
   "outputs": [],
   "source": [
    "ai_yr30 = pd.merge(ai_yr25, yr30_stat, left_on=['mar_stat1'], right_on=['mar_stat2'],how='inner')\n",
    "ai_yr30"
   ]
  },
  {
   "cell_type": "code",
   "execution_count": null,
   "id": "edb2c104",
   "metadata": {},
   "outputs": [],
   "source": [
    "ai_yr30 = ai_yr30.drop('mar_stat2', axis=1)\n",
    "ai_yr30"
   ]
  },
  {
   "cell_type": "code",
   "execution_count": null,
   "id": "abf1c699",
   "metadata": {},
   "outputs": [],
   "source": [
    "data_mar = {'post_yr': [1, 5, 10, 15, 20, 25, 30,],\n",
    "    'mar_per': ['0.79', '2.05', '3.52', '3.76', '4.73', '5.47', '5.50' ]}\n",
    "data_mar = pd.DataFrame(data_mar)\n",
    "print(data_mar)"
   ]
  },
  {
   "cell_type": "code",
   "execution_count": null,
   "id": "b39e9632",
   "metadata": {},
   "outputs": [],
   "source": [
    "data_div = {'post_yr': [1, 5, 10, 15, 20, 25, 30,],\n",
    "    'div_per': ['0.87', '2.75', '2.89', '3.23', '3.79', '4.00', '4.30' ]}\n",
    "data_div = pd.DataFrame(data_div)\n",
    "print(data_div)"
   ]
  }
 ],
 "metadata": {
  "kernelspec": {
   "display_name": "Python 3 (ipykernel)",
   "language": "python",
   "name": "python3"
  },
  "language_info": {
   "codemirror_mode": {
    "name": "ipython",
    "version": 3
   },
   "file_extension": ".py",
   "mimetype": "text/x-python",
   "name": "python",
   "nbconvert_exporter": "python",
   "pygments_lexer": "ipython3",
   "version": "3.11.5"
  }
 },
 "nbformat": 4,
 "nbformat_minor": 5
}
