{
 "cells": [
  {
   "cell_type": "code",
   "execution_count": null,
   "id": "55977440",
   "metadata": {},
   "outputs": [],
   "source": [
    "import pandas as pd\n",
    "import matplotlib.pyplot as plt\n",
    "import seaborn as sns\n",
    "\n",
    "%matplotlib inline"
   ]
  },
  {
   "cell_type": "code",
   "execution_count": null,
   "id": "36e7bad7",
   "metadata": {},
   "outputs": [],
   "source": [
    "from IPython.core.display import display, HTML\n",
    "display(HTML(\"<style>.container { width:100% !important; }</style>\"))"
   ]
  },
  {
   "cell_type": "markdown",
   "id": "4a499e90",
   "metadata": {},
   "source": [
    "#### Read in first dataset - Form I dataset includes baseline demographic and clinical information of persons who met eligibility criteria."
   ]
  },
  {
   "cell_type": "code",
   "execution_count": null,
   "id": "b3b45184",
   "metadata": {},
   "outputs": [],
   "source": [
    "f1 = pd.read_csv('C:/Users/dmora/Documents/NSS/Capstone/data/f1_public_2021.csv')\n",
    "f1"
   ]
  },
  {
   "cell_type": "markdown",
   "id": "82a99ba5",
   "metadata": {},
   "source": [
    "#### Create df of base variables"
   ]
  },
  {
   "cell_type": "code",
   "execution_count": null,
   "id": "65d7d192",
   "metadata": {},
   "outputs": [],
   "source": [
    "f1_base = (\n",
    "    f1\n",
    "    [[\n",
    "        'UniID', 'AAdmDt', 'ARbAdmDt', 'ADisDt',\n",
    "        'AI2ADays', 'AI2RhADa', 'AInjAge', 'ASex', \n",
    "        'APResInj', 'APResDis',\n",
    "        'AMarStIj', 'AEducLvl','ABPHQ1', \n",
    "        'ABPHQ2', 'ABPHQ9', 'ABPHQ6', 'ABPHQMDS',\n",
    "        'ABPHQSDS', 'APrLvlSt', 'AFmIncLv'\n",
    "        \n",
    "        \n",
    "    ]]\n",
    "   \n",
    ")\n",
    "\n",
    "f1_base"
   ]
  },
  {
   "cell_type": "markdown",
   "id": "35c5c921",
   "metadata": {},
   "source": [
    "#### Rename columns for easier understanding."
   ]
  },
  {
   "cell_type": "code",
   "execution_count": null,
   "id": "ffa93a62",
   "metadata": {},
   "outputs": [],
   "source": [
    "f1_base = f1_base.rename(columns={'UniID' : 'unique_id', 'AAdmDt' : 'sys_adm_dt', 'ARbAdmDt' : 'reh_adm_dt', 'ADisDt' : 'discharge_dt', \n",
    "                          'AI2ADays' : 'days_inj_to_sys', 'AI2RhADa' : 'days_inj_to_reh',  'AInjAge' : 'age_at_injury', 'ASex': 'sex',\n",
    "                          'APResInj' : 'res_at_inj','APResDis' : 'res_at_dis', \n",
    "                          'AMarStIj' : 'marital_stat_ai', 'AEducLvl' : 'educ_lvl_ai', 'ABPHQ1' : 'interest_or_pleasure', \n",
    "                          'ABPHQ2' : 'depressed', 'ABPHQ9' : 'self_harm', 'ABPHQ6' : 'feel_bad', 'ABPHQMDS': 'depressive_syndrome', \n",
    "                          'ABPHQSDS' : 'severity_of_depression', 'APrLvlSt' : 'occup_status', 'AFmIncLv' : 'income_level'})\n",
    "\n",
    "f1_base"
   ]
  },
  {
   "cell_type": "markdown",
   "id": "d4739ccf",
   "metadata": {},
   "source": [
    "#### Fill in n/a values in rehab_adm_dt column, so we can then change to int for year consistency across the df."
   ]
  },
  {
   "cell_type": "code",
   "execution_count": null,
   "id": "b27af72a",
   "metadata": {},
   "outputs": [],
   "source": [
    "f1_base['reh_adm_dt'] = f1_base['reh_adm_dt'].fillna(0)\n",
    "f1_base"
   ]
  },
  {
   "cell_type": "markdown",
   "id": "0f14186f",
   "metadata": {},
   "source": [
    "#### Change dtype of reh_adm_dt to integer"
   ]
  },
  {
   "cell_type": "code",
   "execution_count": null,
   "id": "9821a87c",
   "metadata": {},
   "outputs": [],
   "source": [
    "f1_base['reh_adm_dt'] = f1_base['reh_adm_dt'].astype('int')"
   ]
  },
  {
   "cell_type": "markdown",
   "id": "aad1b325",
   "metadata": {},
   "source": [
    "#### Run loop on sex column to create gender column to include gender name"
   ]
  },
  {
   "cell_type": "code",
   "execution_count": null,
   "id": "21d62c99",
   "metadata": {},
   "outputs": [],
   "source": [
    "for ind, row in f1_base.iterrows():\n",
    "    if row.sex == 1:\n",
    "        f1_base.loc[ind, 'gender'] = 'm'\n",
    "    elif row.sex == 2:\n",
    "        f1_base.loc[ind, 'gender'] = 'f'\n",
    "    elif row.sex == 3:\n",
    "        f1_base.loc[ind, 'gender'] = 't'\n",
    "    elif row.sex == 9:\n",
    "        f1_base.loc[ind, 'gender'] = 'u'"
   ]
  },
  {
   "cell_type": "markdown",
   "id": "c20e55ef",
   "metadata": {},
   "source": [
    "#### Drop sex column"
   ]
  },
  {
   "cell_type": "code",
   "execution_count": null,
   "id": "4f3db90a",
   "metadata": {},
   "outputs": [],
   "source": [
    "f1_base = f1_base.drop('sex', axis = 1)\n",
    "f1_base"
   ]
  },
  {
   "cell_type": "markdown",
   "id": "ec82bc45",
   "metadata": {},
   "source": [
    "#### Run loop on res_at_inj column to create res_at_inj column to include type of residence instead of #"
   ]
  },
  {
   "cell_type": "code",
   "execution_count": null,
   "id": "9f9df4aa",
   "metadata": {},
   "outputs": [],
   "source": [
    "for ind, row in f1_base.iterrows():\n",
    "    if row.res_at_inj == 1:\n",
    "        f1_base.loc[ind, 'res_at_injb'] = 'pri_res'\n",
    "    elif row.res_at_inj == 2:\n",
    "        f1_base.loc[ind, 'res_at_injb'] = 'hospital'\n",
    "    elif row.res_at_inj == 3:\n",
    "        f1_base.loc[ind, 'res_at_injb'] = 'nurs_home'\n",
    "    elif row.res_at_inj == 4:\n",
    "        f1_base.loc[ind, 'res_at_injb'] = 'group'\n",
    "    elif row.res_at_inj == 5:\n",
    "        f1_base.loc[ind, 'res_at_injb'] = 'correctional'\n",
    "    elif row.res_at_inj == 6:\n",
    "        f1_base.loc[ind, 'res_at_injb'] = 'motel'\n",
    "    elif row.res_at_inj == 7:\n",
    "        f1_base.loc[ind, 'res_at_injb'] = 'deceased'\n",
    "    elif row.res_at_inj == 8:\n",
    "        f1_base.loc[ind, 'res_at_injb'] = 'other'\n",
    "    elif row.res_at_inj == 9:\n",
    "        f1_base.loc[ind, 'res_at_injb'] = 'homeless'    \n",
    "    elif row.res_at_inj == 10:\n",
    "        f1_base.loc[ind, 'res_at_injb'] = 'assisted'    \n",
    "    elif row.res_at_inj == 99:\n",
    "        f1_base.loc[ind, 'res_at_injb'] = 'unknown'     "
   ]
  },
  {
   "cell_type": "markdown",
   "id": "93a01d8d",
   "metadata": {},
   "source": [
    "#### Drop original numerical res_at_inj column"
   ]
  },
  {
   "cell_type": "code",
   "execution_count": null,
   "id": "89a8bb92",
   "metadata": {},
   "outputs": [],
   "source": [
    "f1_base = f1_base.drop('res_at_inj', axis = 1)\n",
    "f1_base"
   ]
  },
  {
   "cell_type": "markdown",
   "id": "642196f8",
   "metadata": {},
   "source": [
    "#### Run loop on res_at_dis column to create res_at_dis column to include type of residence instead of #"
   ]
  },
  {
   "cell_type": "code",
   "execution_count": null,
   "id": "70fecdcc",
   "metadata": {},
   "outputs": [],
   "source": [
    "for ind, row in f1_base.iterrows():\n",
    "    if row.res_at_dis == 1:\n",
    "        f1_base.loc[ind, 'res_at_disb'] = 'pri_res'\n",
    "    elif row.res_at_dis == 2:\n",
    "        f1_base.loc[ind, 'res_at_disb'] = 'hospital'\n",
    "    elif row.res_at_dis == 3:\n",
    "        f1_base.loc[ind, 'res_at_disb'] = 'nurs_home'\n",
    "    elif row.res_at_dis == 4:\n",
    "        f1_base.loc[ind, 'res_at_disb'] = 'group'\n",
    "    elif row.res_at_dis == 5:\n",
    "        f1_base.loc[ind, 'res_at_disb'] = 'correctional'\n",
    "    elif row.res_at_dis == 6:\n",
    "        f1_base.loc[ind, 'res_at_disb'] = 'motel'\n",
    "    elif row.res_at_dis == 7:\n",
    "        f1_base.loc[ind, 'res_at_disb'] = 'deceased'\n",
    "    elif row.res_at_dis == 8:\n",
    "        f1_base.loc[ind, 'res_at_disb'] = 'other'\n",
    "    elif row.res_at_dis == 9:\n",
    "        f1_base.loc[ind, 'res_at_disb'] = 'homeless'    \n",
    "    elif row.res_at_dis == 10:\n",
    "        f1_base.loc[ind, 'res_at_disb'] = 'assisted'    \n",
    "    elif row.res_at_dis == 99:\n",
    "        f1_base.loc[ind, 'res_at_disb'] = 'unknown'"
   ]
  },
  {
   "cell_type": "markdown",
   "id": "fe513571",
   "metadata": {},
   "source": [
    "#### Drop original res_at_dis column"
   ]
  },
  {
   "cell_type": "code",
   "execution_count": null,
   "id": "0373fbba",
   "metadata": {},
   "outputs": [],
   "source": [
    "f1_base = f1_base.drop('res_at_dis', axis = 1)\n",
    "f1_base"
   ]
  },
  {
   "cell_type": "code",
   "execution_count": null,
   "id": "39190130",
   "metadata": {},
   "outputs": [],
   "source": [
    "f1_base = f1_base.rename(columns={'res_at_injb' : 'res_at_inj', 'res_at_disb' : 'res_at_dis'})\n",
    "f1_base"
   ]
  },
  {
   "cell_type": "code",
   "execution_count": null,
   "id": "ffc083c5",
   "metadata": {},
   "outputs": [],
   "source": [
    "for ind, row in f1_base.iterrows():\n",
    "    if row.marital_stat_ai == 1:\n",
    "        f1_base.loc[ind, 'marital_stat_aib'] = 'single'\n",
    "    elif row.marital_stat_ai == 2:\n",
    "        f1_base.loc[ind, 'marital_stat_aib'] = 'married'\n",
    "    elif row.marital_stat_ai == 3:\n",
    "        f1_base.loc[ind, 'marital_stat_aib'] = 'divorced'\n",
    "    elif row.marital_stat_ai == 4:\n",
    "        f1_base.loc[ind, 'marital_stat_aib'] = 'separated'\n",
    "    elif row.marital_stat_ai == 5:\n",
    "        f1_base.loc[ind, 'marital_stat_aib'] = 'widowed'\n",
    "    elif row.marital_stat_ai == 6:\n",
    "        f1_base.loc[ind, 'marital_stat_aib'] = 'other'\n",
    "    elif row.marital_stat_ai == 7:\n",
    "        f1_base.loc[ind, 'marital_stat_aib'] = 'living_with'\n",
    "    elif row.marital_stat_ai == 9:\n",
    "        f1_base.loc[ind, 'marital_stat_aib'] = 'unknown'    "
   ]
  },
  {
   "cell_type": "code",
   "execution_count": null,
   "id": "4e63c623",
   "metadata": {},
   "outputs": [],
   "source": [
    "f1_base"
   ]
  },
  {
   "cell_type": "code",
   "execution_count": null,
   "id": "8c06bcf0",
   "metadata": {},
   "outputs": [],
   "source": [
    "f1_base = f1_base.drop('marital_stat_ai', axis = 1)\n",
    "f1_base"
   ]
  },
  {
   "cell_type": "code",
   "execution_count": null,
   "id": "68ab3fde",
   "metadata": {},
   "outputs": [],
   "source": [
    "for ind, row in f1_base.iterrows():\n",
    "    if row.educ_lvl_ai == 1:\n",
    "        f1_base.loc[ind, 'educ_lvl_aib'] = '8th_or_less'\n",
    "    elif row.educ_lvl_ai == 2:\n",
    "        f1_base.loc[ind, 'educ_lvl_aib'] = '9th_11th'\n",
    "    elif row.educ_lvl_ai == 3:\n",
    "        f1_base.loc[ind, 'educ_lvl_aib'] = 'hsd'\n",
    "    elif row.educ_lvl_ai == 4:\n",
    "        f1_base.loc[ind, 'educ_lvl_aib'] = 'ad'\n",
    "    elif row.educ_lvl_ai == 5:\n",
    "        f1_base.loc[ind, 'educ_lvl_aib'] = 'bd'\n",
    "    elif row.educ_lvl_ai == 6:\n",
    "        f1_base.loc[ind, 'educ_lvl_aib'] = 'md'\n",
    "    elif row.educ_lvl_ai == 7:\n",
    "        f1_base.loc[ind, 'educ_lvl_aib'] = 'doc'\n",
    "    elif row.educ_lvl_ai == 8:\n",
    "        f1_base.loc[ind, 'educ_lvl_aib'] = 'other'    \n",
    "    elif row.educ_lvl_ai == 9:\n",
    "        f1_base.loc[ind, 'educ_lvl_aib'] = 'unknown'    "
   ]
  },
  {
   "cell_type": "code",
   "execution_count": null,
   "id": "9df0a1fd",
   "metadata": {},
   "outputs": [],
   "source": [
    "f1_base = f1_base.drop('educ_lvl_ai', axis = 1)\n",
    "f1_base"
   ]
  },
  {
   "cell_type": "code",
   "execution_count": null,
   "id": "513ecf08",
   "metadata": {},
   "outputs": [],
   "source": [
    "for ind, row in f1_base.iterrows():\n",
    "    if row.interest_or_pleasure == 0:\n",
    "        f1_base.loc[ind, 'int_or_pleas'] = 'none'\n",
    "    elif row.interest_or_pleasure == 1:\n",
    "        f1_base.loc[ind, 'int_or_pleas'] = 'several_days'\n",
    "    elif row.interest_or_pleasure == 2:\n",
    "        f1_base.loc[ind, 'int_or_pleas'] = 'more_than_half'\n",
    "    elif row.interest_or_pleasure == 3:\n",
    "        f1_base.loc[ind, 'int_or_pleas'] = 'nearly_every_day'\n",
    "    elif row.interest_or_pleasure == 7:\n",
    "        f1_base.loc[ind, 'int_or_pleas'] = 'declined'\n",
    "    elif row.interest_or_pleasure == 9:\n",
    "        f1_base.loc[ind, 'int_or_pleas'] = 'unknown'"
   ]
  },
  {
   "cell_type": "code",
   "execution_count": null,
   "id": "56c0372e",
   "metadata": {},
   "outputs": [],
   "source": [
    "f1_base = f1_base.drop('interest_or_pleasure', axis = 1)\n",
    "f1_base"
   ]
  },
  {
   "cell_type": "code",
   "execution_count": null,
   "id": "f26e7558",
   "metadata": {},
   "outputs": [],
   "source": [
    "f1_base"
   ]
  },
  {
   "cell_type": "code",
   "execution_count": null,
   "id": "01e54f77",
   "metadata": {},
   "outputs": [],
   "source": [
    "for ind, row in f1_base.iterrows():\n",
    "    if row.depressed == 0:\n",
    "        f1_base.loc[ind, 'depressedb'] = 'none'\n",
    "    elif row.depressed == 1:\n",
    "        f1_base.loc[ind, 'depressedb'] = 'several_days'\n",
    "    elif row.depressed == 2:\n",
    "        f1_base.loc[ind, 'depressedb'] = 'more_than_half'\n",
    "    elif row.depressed == 3:\n",
    "        f1_base.loc[ind, 'depressedb'] = 'nearly_every_day'\n",
    "    elif row.depressed == 7:\n",
    "        f1_base.loc[ind, 'depressedb'] = 'declined'\n",
    "    elif row.depressed == 9:\n",
    "        f1_base.loc[ind, 'depressedb'] = 'unknown'"
   ]
  },
  {
   "cell_type": "code",
   "execution_count": null,
   "id": "f3bf0b22",
   "metadata": {},
   "outputs": [],
   "source": [
    "f1_base = f1_base.drop('depressed', axis = 1)\n",
    "f1_base"
   ]
  },
  {
   "cell_type": "code",
   "execution_count": null,
   "id": "857d526e",
   "metadata": {},
   "outputs": [],
   "source": [
    "for ind, row in f1_base.iterrows():\n",
    "    if row.self_harm == 0:\n",
    "        f1_base.loc[ind, 'self_harmb'] = 'none'\n",
    "    elif row.self_harm == 1:\n",
    "        f1_base.loc[ind, 'self_harmb'] = 'several_days'\n",
    "    elif row.self_harm == 2:\n",
    "        f1_base.loc[ind, 'self_harmb'] = 'more_than_half'\n",
    "    elif row.self_harm == 3:\n",
    "        f1_base.loc[ind, 'self_harmb'] = 'nearly_every_day'\n",
    "    elif row.self_harm == 7:\n",
    "        f1_base.loc[ind, 'self_harmb'] = 'declined'\n",
    "    elif row.self_harm == 9:\n",
    "        f1_base.loc[ind, 'self_harmb'] = 'unknown'"
   ]
  },
  {
   "cell_type": "code",
   "execution_count": null,
   "id": "906748e1",
   "metadata": {},
   "outputs": [],
   "source": [
    "f1_base = f1_base.drop('self_harm', axis = 1)\n",
    "f1_base"
   ]
  },
  {
   "cell_type": "code",
   "execution_count": null,
   "id": "e7f7375d",
   "metadata": {},
   "outputs": [],
   "source": [
    "for ind, row in f1_base.iterrows():\n",
    "    if row.feel_bad == 0:\n",
    "        f1_base.loc[ind, 'feel_badb'] = 'none'\n",
    "    elif row.feel_bad == 1:\n",
    "        f1_base.loc[ind, 'feel_badb'] = 'several_days'\n",
    "    elif row.feel_bad == 2:\n",
    "        f1_base.loc[ind, 'feel_badb'] = 'more_than_half'\n",
    "    elif row.feel_bad == 3:\n",
    "        f1_base.loc[ind, 'feel_badb'] = 'nearly_every_day'\n",
    "    elif row.feel_bad == 7:\n",
    "        f1_base.loc[ind, 'feel_badb'] = 'declined'\n",
    "    elif row.feel_bad == 9:\n",
    "        f1_base.loc[ind, 'feel_badb'] = 'unknown'"
   ]
  },
  {
   "cell_type": "code",
   "execution_count": null,
   "id": "bb47759a",
   "metadata": {},
   "outputs": [],
   "source": [
    "f1_base = f1_base.drop('feel_bad', axis = 1)\n",
    "f1_base"
   ]
  },
  {
   "cell_type": "code",
   "execution_count": null,
   "id": "6ae85bd2",
   "metadata": {},
   "outputs": [],
   "source": [
    "for ind, row in f1_base.iterrows():\n",
    "    if row.depressive_syndrome == 0:\n",
    "        f1_base.loc[ind, 'dep_syn'] = 'none'\n",
    "    elif row.depressive_syndrome == 1:\n",
    "        f1_base.loc[ind, 'dep_syn'] = 'major'\n",
    "    elif row.depressive_syndrome == 2:\n",
    "        f1_base.loc[ind, 'dep_syn'] = 'other'\n",
    "    elif row.depressive_syndrome == 9:\n",
    "        f1_base.loc[ind, 'dep_syn'] = 'unknown'"
   ]
  },
  {
   "cell_type": "code",
   "execution_count": null,
   "id": "d9d47581",
   "metadata": {},
   "outputs": [],
   "source": [
    "f1_base = f1_base.drop('depressive_syndrome', axis = 1)\n",
    "f1_base"
   ]
  },
  {
   "cell_type": "code",
   "execution_count": null,
   "id": "baa4cba4",
   "metadata": {},
   "outputs": [],
   "source": [
    "for ind, row in f1_base.iterrows():\n",
    "    if row.occup_status == 1:\n",
    "        f1_base.loc[ind, 'occ_stat'] = 'working'\n",
    "    elif row.occup_status == 2:\n",
    "        f1_base.loc[ind, 'occ_stat'] = 'homemaker'\n",
    "    elif row.occup_status == 3:\n",
    "        f1_base.loc[ind, 'occ_stat'] = 'otj_train'\n",
    "    elif row.occup_status == 4:\n",
    "        f1_base.loc[ind, 'occ_stat'] = 'shel_work'\n",
    "    elif row.occup_status == 5:\n",
    "        f1_base.loc[ind, 'occ_stat'] = 'retired'\n",
    "    elif row.occup_status == 6:\n",
    "        f1_base.loc[ind, 'occ_stat'] = 'student'\n",
    "    elif row.occup_status == 7:\n",
    "        f1_base.loc[ind, 'occ_stat'] = 'unemployed'\n",
    "    elif row.occup_status == 8:\n",
    "        f1_base.loc[ind, 'occ_stat'] = 'retired_dis'\n",
    "    elif row.occup_status == 9:\n",
    "        f1_base.loc[ind, 'occ_stat'] = 'retired_nondis'   \n",
    "    elif row.occup_status == 10:\n",
    "        f1_base.loc[ind, 'occ_stat'] = 'other'\n",
    "    elif row.occup_status == 99:\n",
    "        f1_base.loc[ind, 'occ_stat'] = 'unknown'       "
   ]
  },
  {
   "cell_type": "code",
   "execution_count": null,
   "id": "d25399cb",
   "metadata": {},
   "outputs": [],
   "source": [
    "f1_base = f1_base.drop('occup_status', axis = 1)\n",
    "f1_base"
   ]
  },
  {
   "cell_type": "code",
   "execution_count": null,
   "id": "658f738f",
   "metadata": {},
   "outputs": [],
   "source": [
    "for ind, row in f1_base.iterrows():\n",
    "    if row.income_level == 1:\n",
    "        f1_base.loc[ind, 'inc_lvl1'] = 'lt25k'\n",
    "    elif row.income_level == 2:\n",
    "        f1_base.loc[ind, 'inc_lvl1'] = '25k_49999'\n",
    "    elif row.income_level == 3:\n",
    "        f1_base.loc[ind, 'inc_lvl1'] = '50k_74999'\n",
    "    elif row.income_level == 4:\n",
    "        f1_base.loc[ind, 'inc_lvl1'] = '75pl'\n",
    "    elif row.income_level == 6:\n",
    "        f1_base.loc[ind, 'inc_lvl1'] = 'not_sure'\n",
    "    elif row.income_level == 7:\n",
    "        f1_base.loc[ind, 'inc_lvl1'] = 'declined'\n",
    "    elif row.income_level == 9:\n",
    "        f1_base.loc[ind, 'inc_lvl1'] = 'unknown'   "
   ]
  },
  {
   "cell_type": "code",
   "execution_count": null,
   "id": "0e9d7e14",
   "metadata": {},
   "outputs": [],
   "source": [
    "f1_base = f1_base.drop('income_level', axis = 1)\n",
    "f1_base"
   ]
  },
  {
   "cell_type": "code",
   "execution_count": null,
   "id": "9fe62bf2",
   "metadata": {},
   "outputs": [],
   "source": [
    "f1_base = f1_base.rename(columns={'marital_stat_aib' : 'mar_stat1', 'educ_lvl_aib' : 'educ_lvl1', 'int_or_pleas' : 'int_pleas1',\n",
    "                                  'depressedb' : 'dep1', 'self_harmb' : 'self_harm1', 'feel_badb' : 'feel_bad1', 'dep_syn' : 'dep_syn1',\n",
    "                                  'occ_stat' : 'occ_stat1', 'severity_of_depression' : 'sev_dep', 'age_at_injury' : 'age1', 'res_at_inj' : 'res1'})\n",
    "\n",
    "f1_base"
   ]
  },
  {
   "cell_type": "code",
   "execution_count": null,
   "id": "19b06fba",
   "metadata": {},
   "outputs": [],
   "source": [
    "f1_base.sev_dep.value_counts()"
   ]
  },
  {
   "cell_type": "code",
   "execution_count": null,
   "id": "e089afe2",
   "metadata": {},
   "outputs": [],
   "source": []
  },
  {
   "cell_type": "code",
   "execution_count": null,
   "id": "e3a9b3b3",
   "metadata": {},
   "outputs": [],
   "source": []
  },
  {
   "cell_type": "code",
   "execution_count": null,
   "id": "440bb1b7",
   "metadata": {},
   "outputs": [],
   "source": [
    "f2 = pd.read_csv('C:/Users/dmora/Documents/NSS/Capstone/data/f2_public_2021.csv')\n",
    "f2"
   ]
  },
  {
   "cell_type": "code",
   "execution_count": null,
   "id": "559a7b79",
   "metadata": {},
   "outputs": [],
   "source": []
  },
  {
   "cell_type": "code",
   "execution_count": null,
   "id": "3213b582",
   "metadata": {},
   "outputs": [],
   "source": []
  },
  {
   "cell_type": "code",
   "execution_count": null,
   "id": "e9f7b188",
   "metadata": {},
   "outputs": [],
   "source": [
    "f2_base = (\n",
    "    f2\n",
    "    [[\n",
    "        'UniID', 'BYear', 'BPlcRes', 'BMarStat',\n",
    "        'BMarStCh', 'BEducLvl', 'BBPHQ1', 'BBPHQ2',\n",
    "        'BBPHQ9', 'BBPHQ6', 'BBPHQMDS', 'BBPHQSDS',\n",
    "        'BPrLvlSt', 'BFmIncLv'\n",
    "        \n",
    "        \n",
    "    ]]\n",
    "   \n",
    ")\n",
    "\n",
    "f2_base"
   ]
  },
  {
   "cell_type": "code",
   "execution_count": null,
   "id": "41cefe82",
   "metadata": {},
   "outputs": [],
   "source": [
    "f2_base = f2_base.rename(columns={'UniID' : 'unique_id', 'BYear' : 'post_inj_yr', 'BPlcRes' : 'res_pi', 'BMarStat' : 'marital_stat_pi',\n",
    "        'BMarStCh' : 'marital_stat_change', 'BEducLvl' : 'educ_lvl_pi', 'BBPHQ1' : 'interest_or_pleaseure_pi', 'BBPHQ2' : 'depressed_pi',\n",
    "        'BBPHQ9' : 'self_harm_pi','BBPHQ6' : 'feel_bad_pi','BBPHQMDS': 'depressive_syndrome_pi', 'BBPHQSDS' : 'severity_of_depression_pi',\n",
    "        'BPrLvlSt' : 'occup_status_pi', 'BFmIncLv' : 'income_level'})\n",
    "\n",
    "f2_base"
   ]
  },
  {
   "cell_type": "code",
   "execution_count": null,
   "id": "1b4b92fb",
   "metadata": {},
   "outputs": [],
   "source": [
    "f2_base['res_pi'] = f2_base['res_pi'].fillna(0)\n",
    "f2_base"
   ]
  },
  {
   "cell_type": "code",
   "execution_count": null,
   "id": "5f04af03",
   "metadata": {},
   "outputs": [],
   "source": [
    "f2_base['res_pi'] = f2_base['res_pi'].astype('int')"
   ]
  },
  {
   "cell_type": "code",
   "execution_count": null,
   "id": "634990be",
   "metadata": {},
   "outputs": [],
   "source": [
    "f2_base"
   ]
  },
  {
   "cell_type": "code",
   "execution_count": null,
   "id": "5eda9555",
   "metadata": {},
   "outputs": [],
   "source": [
    "for ind, row in f2_base.iterrows():\n",
    "    if row.res_pi == 1:\n",
    "        f2_base.loc[ind, 'res_postb'] = 'pri_res'\n",
    "    elif row.res_pi == 2:\n",
    "        f2_base.loc[ind, 'res_postb'] = 'hospital'\n",
    "    elif row.res_pi == 3:\n",
    "        f2_base.loc[ind, 'res_postb'] = 'nurs_home'\n",
    "    elif row.res_pi == 4:\n",
    "        f2_base.loc[ind, 'res_postb'] = 'group'\n",
    "    elif row.res_pi == 5:\n",
    "        f2_base.loc[ind, 'res_postb'] = 'correctional'\n",
    "    elif row.res_pi == 6:\n",
    "        f2_base.loc[ind, 'res_postb'] = 'motel'\n",
    "    elif row.res_pi == 8:\n",
    "        f2_base.loc[ind, 'res_postb'] = 'other'\n",
    "    elif row.res_pi == 9:\n",
    "        f2_base.loc[ind, 'res_postb'] = 'homeless'    \n",
    "    elif row.res_pi == 10:\n",
    "        f2_base.loc[ind, 'res_postb'] = 'assisted'    \n",
    "    elif row.res_pi == 99:\n",
    "        f2_base.loc[ind, 'res_postb'] = 'unknown'   "
   ]
  },
  {
   "cell_type": "code",
   "execution_count": null,
   "id": "789981f4",
   "metadata": {},
   "outputs": [],
   "source": [
    "f2_base"
   ]
  },
  {
   "cell_type": "code",
   "execution_count": null,
   "id": "f5a1c934",
   "metadata": {},
   "outputs": [],
   "source": [
    "f2_base = f2_base.drop('res_pi', axis = 1)\n",
    "f2_base"
   ]
  },
  {
   "cell_type": "code",
   "execution_count": null,
   "id": "618ee00a",
   "metadata": {},
   "outputs": [],
   "source": [
    "f2_base = f2_base.rename(columns={'res_postb' : 'res_pi'})\n",
    "\n",
    "f2_base"
   ]
  },
  {
   "cell_type": "code",
   "execution_count": null,
   "id": "530376ec",
   "metadata": {},
   "outputs": [],
   "source": []
  }
 ],
 "metadata": {
  "kernelspec": {
   "display_name": "Python 3 (ipykernel)",
   "language": "python",
   "name": "python3"
  },
  "language_info": {
   "codemirror_mode": {
    "name": "ipython",
    "version": 3
   },
   "file_extension": ".py",
   "mimetype": "text/x-python",
   "name": "python",
   "nbconvert_exporter": "python",
   "pygments_lexer": "ipython3",
   "version": "3.11.5"
  }
 },
 "nbformat": 4,
 "nbformat_minor": 5
}
