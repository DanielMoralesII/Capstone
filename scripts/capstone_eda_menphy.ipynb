{
 "cells": [
  {
   "cell_type": "code",
   "execution_count": null,
   "id": "55977440",
   "metadata": {},
   "outputs": [],
   "source": [
    "import pandas as pd\n",
    "import matplotlib.pyplot as plt\n",
    "import seaborn as sns\n",
    "\n",
    "%matplotlib inline"
   ]
  },
  {
   "cell_type": "code",
   "execution_count": null,
   "id": "36e7bad7",
   "metadata": {},
   "outputs": [],
   "source": [
    "from IPython.core.display import display, HTML\n",
    "display(HTML(\"<style>.container { width:100% !important; }</style>\"))"
   ]
  },
  {
   "cell_type": "markdown",
   "id": "4a499e90",
   "metadata": {},
   "source": [
    "#### Read in first dataset - Form I dataset includes baseline demographic and clinical information of persons who met eligibility criteria."
   ]
  },
  {
   "cell_type": "code",
   "execution_count": null,
   "id": "b3b45184",
   "metadata": {},
   "outputs": [],
   "source": [
    "f1 = pd.read_csv('C:/Users/dmora/Documents/NSS/Capstone/data/f1_public_2021.csv')\n",
    "f1"
   ]
  },
  {
   "cell_type": "markdown",
   "id": "82a99ba5",
   "metadata": {},
   "source": [
    "#### Create df of base variables"
   ]
  },
  {
   "cell_type": "code",
   "execution_count": null,
   "id": "65d7d192",
   "metadata": {},
   "outputs": [],
   "source": [
    "f1_base = (\n",
    "    f1\n",
    "    [[\n",
    "        'UniID', 'AAdmDt', 'ARbAdmDt', 'ADisDt',\n",
    "        'AI2ADays', 'AI2RhADa', 'AInjAge', 'ASex', \n",
    "        'APResInj', 'APResDis',\n",
    "        'AMarStIj', 'AEducLvl','ABPHQ1', \n",
    "        'ABPHQ2', 'ABPHQ9', 'ABPHQ6', 'ABPHQMDS',\n",
    "        'ABPHQSDS', 'APrLvlSt', 'AFmIncLv', 'AHDaSyRb',\n",
    "        'AFScorRb', 'AFScorDs',\n",
    "        \n",
    "        \n",
    "    ]]\n",
    "   \n",
    ")\n",
    "\n",
    "f1_base"
   ]
  },
  {
   "cell_type": "markdown",
   "id": "35c5c921",
   "metadata": {},
   "source": [
    "#### Rename columns for easier understanding."
   ]
  },
  {
   "cell_type": "code",
   "execution_count": null,
   "id": "ffa93a62",
   "metadata": {},
   "outputs": [],
   "source": [
    "f1_base = f1_base.rename(columns={'UniID' : 'unique_id', 'AAdmDt' : 'sys_adm_dt', 'ARbAdmDt' : 'reh_adm_dt', 'ADisDt' : 'discharge_dt', \n",
    "                          'AI2ADays' : 'days_inj_to_sys', 'AI2RhADa' : 'days_inj_to_reh',  'AInjAge' : 'age_at_injury', 'ASex': 'sex',\n",
    "                          'APResInj' : 'res_at_inj','APResDis' : 'res_at_dis', \n",
    "                          'AMarStIj' : 'marital_stat_ai', 'AEducLvl' : 'educ_lvl_ai', 'ABPHQ1' : 'interest_or_pleasure', \n",
    "                          'ABPHQ2' : 'depressed', 'ABPHQ9' : 'self_harm', 'ABPHQ6' : 'feel_bad', 'ABPHQMDS': 'depressive_syndrome', \n",
    "                          'ABPHQSDS' : 'severity_of_depression', 'APrLvlSt' : 'occup_status', 'AFmIncLv' : 'income_level', \n",
    "                          'AHDaSyRb' : 'days_rehab1'})\n",
    "\n",
    "f1_base"
   ]
  },
  {
   "cell_type": "markdown",
   "id": "d4739ccf",
   "metadata": {},
   "source": [
    "#### Fill in n/a values in rehab_adm_dt column, so we can then change to int for year consistency across the df."
   ]
  },
  {
   "cell_type": "code",
   "execution_count": null,
   "id": "b27af72a",
   "metadata": {},
   "outputs": [],
   "source": [
    "f1_base['reh_adm_dt'] = f1_base['reh_adm_dt'].fillna(0)\n",
    "f1_base"
   ]
  },
  {
   "cell_type": "markdown",
   "id": "0f14186f",
   "metadata": {},
   "source": [
    "#### Change dtype of reh_adm_dt to integer"
   ]
  },
  {
   "cell_type": "code",
   "execution_count": null,
   "id": "9821a87c",
   "metadata": {},
   "outputs": [],
   "source": [
    "f1_base['reh_adm_dt'] = f1_base['reh_adm_dt'].astype('int')"
   ]
  },
  {
   "cell_type": "markdown",
   "id": "aad1b325",
   "metadata": {},
   "source": [
    "#### Run loop on sex column to create gender column to include gender name"
   ]
  },
  {
   "cell_type": "code",
   "execution_count": null,
   "id": "21d62c99",
   "metadata": {},
   "outputs": [],
   "source": [
    "for ind, row in f1_base.iterrows():\n",
    "    if row.sex == 1:\n",
    "        f1_base.loc[ind, 'gender'] = 'm'\n",
    "    elif row.sex == 2:\n",
    "        f1_base.loc[ind, 'gender'] = 'f'\n",
    "    elif row.sex == 3:\n",
    "        f1_base.loc[ind, 'gender'] = 't'\n",
    "    elif row.sex == 9:\n",
    "        f1_base.loc[ind, 'gender'] = 'u'"
   ]
  },
  {
   "cell_type": "markdown",
   "id": "c20e55ef",
   "metadata": {},
   "source": [
    "#### Drop sex column"
   ]
  },
  {
   "cell_type": "code",
   "execution_count": null,
   "id": "4f3db90a",
   "metadata": {},
   "outputs": [],
   "source": [
    "f1_base = f1_base.drop('sex', axis = 1)\n",
    "f1_base"
   ]
  },
  {
   "cell_type": "markdown",
   "id": "ec82bc45",
   "metadata": {},
   "source": [
    "#### Run loop on res_at_inj column to create res_at_inj column to include type of residence instead of #"
   ]
  },
  {
   "cell_type": "code",
   "execution_count": null,
   "id": "9f9df4aa",
   "metadata": {},
   "outputs": [],
   "source": [
    "for ind, row in f1_base.iterrows():\n",
    "    if row.res_at_inj == 1:\n",
    "        f1_base.loc[ind, 'res_at_injb'] = 'pri_res'\n",
    "    elif row.res_at_inj == 2:\n",
    "        f1_base.loc[ind, 'res_at_injb'] = 'hospital'\n",
    "    elif row.res_at_inj == 3:\n",
    "        f1_base.loc[ind, 'res_at_injb'] = 'nurs_home'\n",
    "    elif row.res_at_inj == 4:\n",
    "        f1_base.loc[ind, 'res_at_injb'] = 'group'\n",
    "    elif row.res_at_inj == 5:\n",
    "        f1_base.loc[ind, 'res_at_injb'] = 'correctional'\n",
    "    elif row.res_at_inj == 6:\n",
    "        f1_base.loc[ind, 'res_at_injb'] = 'motel'\n",
    "    elif row.res_at_inj == 7:\n",
    "        f1_base.loc[ind, 'res_at_injb'] = 'deceased'\n",
    "    elif row.res_at_inj == 8:\n",
    "        f1_base.loc[ind, 'res_at_injb'] = 'other'\n",
    "    elif row.res_at_inj == 9:\n",
    "        f1_base.loc[ind, 'res_at_injb'] = 'homeless'    \n",
    "    elif row.res_at_inj == 10:\n",
    "        f1_base.loc[ind, 'res_at_injb'] = 'assisted'    \n",
    "    elif row.res_at_inj == 99:\n",
    "        f1_base.loc[ind, 'res_at_injb'] = 'unknown'     "
   ]
  },
  {
   "cell_type": "markdown",
   "id": "93a01d8d",
   "metadata": {},
   "source": [
    "#### Drop original numerical res_at_inj column"
   ]
  },
  {
   "cell_type": "code",
   "execution_count": null,
   "id": "89a8bb92",
   "metadata": {},
   "outputs": [],
   "source": [
    "f1_base = f1_base.drop('res_at_inj', axis = 1)\n",
    "f1_base"
   ]
  },
  {
   "cell_type": "markdown",
   "id": "642196f8",
   "metadata": {},
   "source": [
    "#### Run loop on res_at_dis column to create res_at_dis column to include type of residence instead of #"
   ]
  },
  {
   "cell_type": "code",
   "execution_count": null,
   "id": "70fecdcc",
   "metadata": {},
   "outputs": [],
   "source": [
    "for ind, row in f1_base.iterrows():\n",
    "    if row.res_at_dis == 1:\n",
    "        f1_base.loc[ind, 'res_at_disb'] = 'pri_res'\n",
    "    elif row.res_at_dis == 2:\n",
    "        f1_base.loc[ind, 'res_at_disb'] = 'hospital'\n",
    "    elif row.res_at_dis == 3:\n",
    "        f1_base.loc[ind, 'res_at_disb'] = 'nurs_home'\n",
    "    elif row.res_at_dis == 4:\n",
    "        f1_base.loc[ind, 'res_at_disb'] = 'group'\n",
    "    elif row.res_at_dis == 5:\n",
    "        f1_base.loc[ind, 'res_at_disb'] = 'correctional'\n",
    "    elif row.res_at_dis == 6:\n",
    "        f1_base.loc[ind, 'res_at_disb'] = 'motel'\n",
    "    elif row.res_at_dis == 7:\n",
    "        f1_base.loc[ind, 'res_at_disb'] = 'deceased'\n",
    "    elif row.res_at_dis == 8:\n",
    "        f1_base.loc[ind, 'res_at_disb'] = 'other'\n",
    "    elif row.res_at_dis == 9:\n",
    "        f1_base.loc[ind, 'res_at_disb'] = 'homeless'    \n",
    "    elif row.res_at_dis == 10:\n",
    "        f1_base.loc[ind, 'res_at_disb'] = 'assisted'    \n",
    "    elif row.res_at_dis == 99:\n",
    "        f1_base.loc[ind, 'res_at_disb'] = 'unknown'"
   ]
  },
  {
   "cell_type": "markdown",
   "id": "fe513571",
   "metadata": {},
   "source": [
    "#### Drop original res_at_dis column"
   ]
  },
  {
   "cell_type": "code",
   "execution_count": null,
   "id": "0373fbba",
   "metadata": {},
   "outputs": [],
   "source": [
    "f1_base = f1_base.drop('res_at_dis', axis = 1)\n",
    "f1_base"
   ]
  },
  {
   "cell_type": "code",
   "execution_count": null,
   "id": "39190130",
   "metadata": {},
   "outputs": [],
   "source": [
    "f1_base = f1_base.rename(columns={'res_at_injb' : 'res_at_inj', 'res_at_disb' : 'res_at_dis'})\n",
    "f1_base"
   ]
  },
  {
   "cell_type": "code",
   "execution_count": null,
   "id": "ffc083c5",
   "metadata": {},
   "outputs": [],
   "source": [
    "for ind, row in f1_base.iterrows():\n",
    "    if row.marital_stat_ai == 1:\n",
    "        f1_base.loc[ind, 'marital_stat_aib'] = 'single'\n",
    "    elif row.marital_stat_ai == 2:\n",
    "        f1_base.loc[ind, 'marital_stat_aib'] = 'married'\n",
    "    elif row.marital_stat_ai == 3:\n",
    "        f1_base.loc[ind, 'marital_stat_aib'] = 'divorced'\n",
    "    elif row.marital_stat_ai == 4:\n",
    "        f1_base.loc[ind, 'marital_stat_aib'] = 'separated'\n",
    "    elif row.marital_stat_ai == 5:\n",
    "        f1_base.loc[ind, 'marital_stat_aib'] = 'widowed'\n",
    "    elif row.marital_stat_ai == 6:\n",
    "        f1_base.loc[ind, 'marital_stat_aib'] = 'other'\n",
    "    elif row.marital_stat_ai == 7:\n",
    "        f1_base.loc[ind, 'marital_stat_aib'] = 'living_with'\n",
    "    elif row.marital_stat_ai == 9:\n",
    "        f1_base.loc[ind, 'marital_stat_aib'] = 'unknown'    "
   ]
  },
  {
   "cell_type": "code",
   "execution_count": null,
   "id": "8c06bcf0",
   "metadata": {},
   "outputs": [],
   "source": [
    "f1_base = f1_base.drop('marital_stat_ai', axis = 1)"
   ]
  },
  {
   "cell_type": "code",
   "execution_count": null,
   "id": "68ab3fde",
   "metadata": {},
   "outputs": [],
   "source": [
    "for ind, row in f1_base.iterrows():\n",
    "    if row.educ_lvl_ai == 1:\n",
    "        f1_base.loc[ind, 'educ_lvl_aib'] = '8th_or_less'\n",
    "    elif row.educ_lvl_ai == 2:\n",
    "        f1_base.loc[ind, 'educ_lvl_aib'] = '9th_11th'\n",
    "    elif row.educ_lvl_ai == 3:\n",
    "        f1_base.loc[ind, 'educ_lvl_aib'] = 'hsd'\n",
    "    elif row.educ_lvl_ai == 4:\n",
    "        f1_base.loc[ind, 'educ_lvl_aib'] = 'ad'\n",
    "    elif row.educ_lvl_ai == 5:\n",
    "        f1_base.loc[ind, 'educ_lvl_aib'] = 'bd'\n",
    "    elif row.educ_lvl_ai == 6:\n",
    "        f1_base.loc[ind, 'educ_lvl_aib'] = 'md'\n",
    "    elif row.educ_lvl_ai == 7:\n",
    "        f1_base.loc[ind, 'educ_lvl_aib'] = 'doc'\n",
    "    elif row.educ_lvl_ai == 8:\n",
    "        f1_base.loc[ind, 'educ_lvl_aib'] = 'other'    \n",
    "    elif row.educ_lvl_ai == 9:\n",
    "        f1_base.loc[ind, 'educ_lvl_aib'] = 'unknown'    "
   ]
  },
  {
   "cell_type": "code",
   "execution_count": null,
   "id": "9df0a1fd",
   "metadata": {},
   "outputs": [],
   "source": [
    "f1_base = f1_base.drop('educ_lvl_ai', axis = 1)"
   ]
  },
  {
   "cell_type": "code",
   "execution_count": null,
   "id": "513ecf08",
   "metadata": {},
   "outputs": [],
   "source": [
    "for ind, row in f1_base.iterrows():\n",
    "    if row.interest_or_pleasure == 0:\n",
    "        f1_base.loc[ind, 'int_or_pleas'] = 'none'\n",
    "    elif row.interest_or_pleasure == 1:\n",
    "        f1_base.loc[ind, 'int_or_pleas'] = 'several_days'\n",
    "    elif row.interest_or_pleasure == 2:\n",
    "        f1_base.loc[ind, 'int_or_pleas'] = 'more_than_half'\n",
    "    elif row.interest_or_pleasure == 3:\n",
    "        f1_base.loc[ind, 'int_or_pleas'] = 'nearly_every_day'\n",
    "    elif row.interest_or_pleasure == 7:\n",
    "        f1_base.loc[ind, 'int_or_pleas'] = 'declined'\n",
    "    elif row.interest_or_pleasure == 9:\n",
    "        f1_base.loc[ind, 'int_or_pleas'] = 'unknown'"
   ]
  },
  {
   "cell_type": "code",
   "execution_count": null,
   "id": "56c0372e",
   "metadata": {},
   "outputs": [],
   "source": [
    "f1_base = f1_base.drop('interest_or_pleasure', axis = 1)"
   ]
  },
  {
   "cell_type": "code",
   "execution_count": null,
   "id": "01e54f77",
   "metadata": {},
   "outputs": [],
   "source": [
    "for ind, row in f1_base.iterrows():\n",
    "    if row.depressed == 0:\n",
    "        f1_base.loc[ind, 'depressedb'] = 'none'\n",
    "    elif row.depressed == 1:\n",
    "        f1_base.loc[ind, 'depressedb'] = 'several_days'\n",
    "    elif row.depressed == 2:\n",
    "        f1_base.loc[ind, 'depressedb'] = 'more_than_half'\n",
    "    elif row.depressed == 3:\n",
    "        f1_base.loc[ind, 'depressedb'] = 'nearly_every_day'\n",
    "    elif row.depressed == 7:\n",
    "        f1_base.loc[ind, 'depressedb'] = 'declined'\n",
    "    elif row.depressed == 9:\n",
    "        f1_base.loc[ind, 'depressedb'] = 'unknown'"
   ]
  },
  {
   "cell_type": "code",
   "execution_count": null,
   "id": "f3bf0b22",
   "metadata": {},
   "outputs": [],
   "source": [
    "f1_base = f1_base.drop('depressed', axis = 1)"
   ]
  },
  {
   "cell_type": "code",
   "execution_count": null,
   "id": "857d526e",
   "metadata": {},
   "outputs": [],
   "source": [
    "for ind, row in f1_base.iterrows():\n",
    "    if row.self_harm == 0:\n",
    "        f1_base.loc[ind, 'self_harmb'] = 'none'\n",
    "    elif row.self_harm == 1:\n",
    "        f1_base.loc[ind, 'self_harmb'] = 'several_days'\n",
    "    elif row.self_harm == 2:\n",
    "        f1_base.loc[ind, 'self_harmb'] = 'more_than_half'\n",
    "    elif row.self_harm == 3:\n",
    "        f1_base.loc[ind, 'self_harmb'] = 'nearly_every_day'\n",
    "    elif row.self_harm == 7:\n",
    "        f1_base.loc[ind, 'self_harmb'] = 'declined'\n",
    "    elif row.self_harm == 9:\n",
    "        f1_base.loc[ind, 'self_harmb'] = 'unknown'"
   ]
  },
  {
   "cell_type": "code",
   "execution_count": null,
   "id": "906748e1",
   "metadata": {},
   "outputs": [],
   "source": [
    "f1_base = f1_base.drop('self_harm', axis = 1)"
   ]
  },
  {
   "cell_type": "code",
   "execution_count": null,
   "id": "e7f7375d",
   "metadata": {},
   "outputs": [],
   "source": [
    "for ind, row in f1_base.iterrows():\n",
    "    if row.feel_bad == 0:\n",
    "        f1_base.loc[ind, 'feel_badb'] = 'none'\n",
    "    elif row.feel_bad == 1:\n",
    "        f1_base.loc[ind, 'feel_badb'] = 'several_days'\n",
    "    elif row.feel_bad == 2:\n",
    "        f1_base.loc[ind, 'feel_badb'] = 'more_than_half'\n",
    "    elif row.feel_bad == 3:\n",
    "        f1_base.loc[ind, 'feel_badb'] = 'nearly_every_day'\n",
    "    elif row.feel_bad == 7:\n",
    "        f1_base.loc[ind, 'feel_badb'] = 'declined'\n",
    "    elif row.feel_bad == 9:\n",
    "        f1_base.loc[ind, 'feel_badb'] = 'unknown'"
   ]
  },
  {
   "cell_type": "code",
   "execution_count": null,
   "id": "bb47759a",
   "metadata": {},
   "outputs": [],
   "source": [
    "f1_base = f1_base.drop('feel_bad', axis = 1)"
   ]
  },
  {
   "cell_type": "code",
   "execution_count": null,
   "id": "6ae85bd2",
   "metadata": {},
   "outputs": [],
   "source": [
    "for ind, row in f1_base.iterrows():\n",
    "    if row.depressive_syndrome == 0:\n",
    "        f1_base.loc[ind, 'dep_syn'] = 'none'\n",
    "    elif row.depressive_syndrome == 1:\n",
    "        f1_base.loc[ind, 'dep_syn'] = 'major'\n",
    "    elif row.depressive_syndrome == 2:\n",
    "        f1_base.loc[ind, 'dep_syn'] = 'other'\n",
    "    elif row.depressive_syndrome == 9:\n",
    "        f1_base.loc[ind, 'dep_syn'] = 'unknown'"
   ]
  },
  {
   "cell_type": "code",
   "execution_count": null,
   "id": "d9d47581",
   "metadata": {},
   "outputs": [],
   "source": [
    "f1_base = f1_base.drop('depressive_syndrome', axis = 1)"
   ]
  },
  {
   "cell_type": "code",
   "execution_count": null,
   "id": "baa4cba4",
   "metadata": {},
   "outputs": [],
   "source": [
    "for ind, row in f1_base.iterrows():\n",
    "    if row.occup_status == 1:\n",
    "        f1_base.loc[ind, 'occ_stat'] = 'working'\n",
    "    elif row.occup_status == 2:\n",
    "        f1_base.loc[ind, 'occ_stat'] = 'homemaker'\n",
    "    elif row.occup_status == 3:\n",
    "        f1_base.loc[ind, 'occ_stat'] = 'otj_train'\n",
    "    elif row.occup_status == 4:\n",
    "        f1_base.loc[ind, 'occ_stat'] = 'shel_work'\n",
    "    elif row.occup_status == 5:\n",
    "        f1_base.loc[ind, 'occ_stat'] = 'retired'\n",
    "    elif row.occup_status == 6:\n",
    "        f1_base.loc[ind, 'occ_stat'] = 'student'\n",
    "    elif row.occup_status == 7:\n",
    "        f1_base.loc[ind, 'occ_stat'] = 'unemployed'\n",
    "    elif row.occup_status == 8:\n",
    "        f1_base.loc[ind, 'occ_stat'] = 'retired_dis'\n",
    "    elif row.occup_status == 9:\n",
    "        f1_base.loc[ind, 'occ_stat'] = 'retired_nondis'   \n",
    "    elif row.occup_status == 10:\n",
    "        f1_base.loc[ind, 'occ_stat'] = 'other'\n",
    "    elif row.occup_status == 99:\n",
    "        f1_base.loc[ind, 'occ_stat'] = 'unknown'       "
   ]
  },
  {
   "cell_type": "code",
   "execution_count": null,
   "id": "d25399cb",
   "metadata": {},
   "outputs": [],
   "source": [
    "f1_base = f1_base.drop('occup_status', axis = 1)"
   ]
  },
  {
   "cell_type": "code",
   "execution_count": null,
   "id": "658f738f",
   "metadata": {},
   "outputs": [],
   "source": [
    "for ind, row in f1_base.iterrows():\n",
    "    if row.income_level == 1:\n",
    "        f1_base.loc[ind, 'inc_lvl1'] = 'lt25k'\n",
    "    elif row.income_level == 2:\n",
    "        f1_base.loc[ind, 'inc_lvl1'] = '25k_49999'\n",
    "    elif row.income_level == 3:\n",
    "        f1_base.loc[ind, 'inc_lvl1'] = '50k_74999'\n",
    "    elif row.income_level == 4:\n",
    "        f1_base.loc[ind, 'inc_lvl1'] = '75pl'\n",
    "    elif row.income_level == 6:\n",
    "        f1_base.loc[ind, 'inc_lvl1'] = 'not_sure'\n",
    "    elif row.income_level == 7:\n",
    "        f1_base.loc[ind, 'inc_lvl1'] = 'declined'\n",
    "    elif row.income_level == 9:\n",
    "        f1_base.loc[ind, 'inc_lvl1'] = 'unknown'   "
   ]
  },
  {
   "cell_type": "code",
   "execution_count": null,
   "id": "0e9d7e14",
   "metadata": {},
   "outputs": [],
   "source": [
    "f1_base = f1_base.drop('income_level', axis = 1)"
   ]
  },
  {
   "cell_type": "code",
   "execution_count": null,
   "id": "96e0b3b8",
   "metadata": {},
   "outputs": [],
   "source": [
    "f1_base = f1_base.rename(columns={'age_at_injury' : 'age1', 'severity_of_depression' : 'sev_dep', 'res_at_inj' : 'res1', 'marital_stat_aib' : 'mar_stat1',\n",
    "                                  'educ_lvl_aib' : 'educ_lvl1', 'int_or_pleas' : 'int_pleas1', 'depressedb' : 'depr1', 'self_harmb' : 'self_harm1',\n",
    "                                  'feel_badb' : 'feel_bad1', 'dep_syn' : 'dep_syn1', 'occ_stat' : 'occ_stat1'})\n"
   ]
  },
  {
   "cell_type": "code",
   "execution_count": null,
   "id": "16be9872",
   "metadata": {},
   "outputs": [],
   "source": [
    "f1_base.columns"
   ]
  },
  {
   "cell_type": "code",
   "execution_count": null,
   "id": "24e5d312",
   "metadata": {},
   "outputs": [],
   "source": [
    "f1_menphy = f1_base[['unique_id', 'age1', 'sev_dep', 'AFScorRb', 'AFScorDs', 'gender',\n",
    "                     'int_pleas1', 'depr1', 'self_harm1', 'feel_bad1','dep_syn1']]\n",
    "f1_menphy"
   ]
  },
  {
   "cell_type": "code",
   "execution_count": null,
   "id": "0c357df8",
   "metadata": {},
   "outputs": [],
   "source": [
    "f1_menphy = f1_menphy.int_pleas1.value_counts().to_frame().reset_index()\n",
    "f1_menphy"
   ]
  },
  {
   "cell_type": "code",
   "execution_count": null,
   "id": "f5b0c65d",
   "metadata": {},
   "outputs": [],
   "source": [
    "f1_menphy = f1_menphy.loc[(f1_menphy.int_pleas1 != 'unknown') & (f1_menphy.int_pleas1 != 'declined')]\n",
    "f1_menphy "
   ]
  },
  {
   "cell_type": "code",
   "execution_count": null,
   "id": "19209868",
   "metadata": {},
   "outputs": [],
   "source": [
    "f1_menphy = f1_menphy.rename(columns={'count' : 'total'})\n",
    "f1_menphy['records'] = f1_menphy.total.sum()  \n",
    "f1_menphy['ai_per'] = (f1_menphy.total / f1_menphy.records) * 100    \n",
    "f1_menphy"
   ]
  },
  {
   "cell_type": "markdown",
   "id": "b2c73727",
   "metadata": {},
   "source": [
    "#### Read in second dataset - Form II dataset includes sociodemographic and outcome data of Form I participants obtained at follow-up."
   ]
  },
  {
   "cell_type": "code",
   "execution_count": null,
   "id": "440bb1b7",
   "metadata": {},
   "outputs": [],
   "source": [
    "f2 = pd.read_csv('C:/Users/dmora/Documents/NSS/Capstone/data/f2_public_2021.csv')"
   ]
  },
  {
   "cell_type": "code",
   "execution_count": null,
   "id": "e9f7b188",
   "metadata": {},
   "outputs": [],
   "source": [
    "f2_base = (\n",
    "    f2\n",
    "    [[\n",
    "        'UniID', 'BYear', 'BPlcRes', 'BMarStat',\n",
    "        'BMarStCh', 'BEducLvl', 'BBPHQ1', 'BBPHQ2',\n",
    "        'BBPHQ9', 'BBPHQ6', 'BBPHQMDS', 'BBPHQSDS',\n",
    "        'BPrLvlSt', 'BFmIncLv', 'BSPHthSt', 'BSPHthRC', \n",
    "        'BRhspRs1', 'BRhspRs2', 'BRhspRs3', 'BRhspRs4',\n",
    "        'BRhspRs5', 'BRhspRs6', 'BRhspRs7', 'BRhspRs8',\n",
    "        'BRhspNbr'\n",
    "        \n",
    "        \n",
    "    ]]\n",
    "   \n",
    ")\n"
   ]
  },
  {
   "cell_type": "code",
   "execution_count": null,
   "id": "41cefe82",
   "metadata": {},
   "outputs": [],
   "source": [
    "f2_base = f2_base.rename(columns={'UniID' : 'unique_id', 'BYear' : 'post_inj_yr', 'BPlcRes' : 'res_pi', 'BMarStat' : 'marital_stat_pi',\n",
    "        'BMarStCh' : 'marital_stat_change', 'BEducLvl' : 'educ_lvl_pi', 'BBPHQ1' : 'int_pleas2', 'BBPHQ2' : 'depr2',\n",
    "        'BBPHQ9' : 'self_harm2','BBPHQ6' : 'feel_bad2','BBPHQMDS': 'dep_syn2', 'BBPHQSDS' : 'sev_dep2',\n",
    "        'BPrLvlSt' : 'occup_status_pi', 'BFmIncLv' : 'income_level'})"
   ]
  },
  {
   "cell_type": "code",
   "execution_count": null,
   "id": "e46b947c",
   "metadata": {},
   "outputs": [],
   "source": [
    "f2_base"
   ]
  },
  {
   "cell_type": "code",
   "execution_count": null,
   "id": "540233db",
   "metadata": {},
   "outputs": [],
   "source": [
    "f2_menphy = f2_base[['unique_id', 'sev_dep2', 'int_pleas2', 'depr2', 'self_harm2', 'feel_bad2','dep_syn2']]\n",
    "f2_menphy"
   ]
  },
  {
   "cell_type": "code",
   "execution_count": null,
   "id": "f01c73bd",
   "metadata": {},
   "outputs": [],
   "source": [
    "for ind, row in f2_base.iterrows():\n",
    "    if row.int_pleas2 == 0:\n",
    "        f2_base.loc[ind, 'int_pleasb'] = 'none'\n",
    "    elif row.int_pleas2 == 1:\n",
    "        f2_base.loc[ind, 'int_pleasb'] = 'several_days'\n",
    "    elif row.int_pleas2 == 2:\n",
    "        f2_base.loc[ind, 'int_pleasb'] = 'more_than_half'\n",
    "    elif row.int_pleas2 == 3:\n",
    "        f2_base.loc[ind, 'int_pleasb'] = 'nearly_every_day'\n",
    "    elif row.int_pleas2 == 7:\n",
    "        f2_base.loc[ind, 'int_pleasb'] = 'declined'\n",
    "    elif row.int_pleas2 == 9:\n",
    "        f2_base.loc[ind, 'int_pleas2b'] = 'unknown'"
   ]
  },
  {
   "cell_type": "code",
   "execution_count": null,
   "id": "c729ee88",
   "metadata": {},
   "outputs": [],
   "source": [
    "f2_base = f2_base.drop('int_pleas2', axis = 1)"
   ]
  },
  {
   "cell_type": "code",
   "execution_count": null,
   "id": "d75776fc",
   "metadata": {},
   "outputs": [],
   "source": [
    "f2_int = f2_base[['unique_id', 'post_inj_yr', 'int_pleasb']]\n",
    "f2_int"
   ]
  },
  {
   "cell_type": "code",
   "execution_count": null,
   "id": "d751c00e",
   "metadata": {},
   "outputs": [],
   "source": [
    "yr1 = f2_int.loc[(f2_int.post_inj_yr == 1)]\n",
    "yr1"
   ]
  },
  {
   "cell_type": "code",
   "execution_count": null,
   "id": "1988e6d0",
   "metadata": {},
   "outputs": [],
   "source": [
    "yr1.value_counts(dropna = False)"
   ]
  },
  {
   "cell_type": "code",
   "execution_count": null,
   "id": "d9a7a0e7",
   "metadata": {},
   "outputs": [],
   "source": [
    "yr1 = yr1.int_pleasb.value_counts().to_frame().reset_index()\n",
    "yr1"
   ]
  },
  {
   "cell_type": "code",
   "execution_count": null,
   "id": "827e1e80",
   "metadata": {},
   "outputs": [],
   "source": [
    "yr1 = yr1.rename(columns={'count' : 'total'})\n",
    "yr1"
   ]
  },
  {
   "cell_type": "code",
   "execution_count": null,
   "id": "145ae129",
   "metadata": {},
   "outputs": [],
   "source": [
    "yr1 = yr1.loc[(yr1.int_pleasb != 'declined')]\n",
    "yr1"
   ]
  },
  {
   "cell_type": "code",
   "execution_count": null,
   "id": "caab7a80",
   "metadata": {},
   "outputs": [],
   "source": [
    "yr1['records'] = yr1.total.sum() \n",
    "yr1"
   ]
  },
  {
   "cell_type": "code",
   "execution_count": null,
   "id": "f6b65018",
   "metadata": {},
   "outputs": [],
   "source": [
    "yr1['yr1_per_int'] = (yr1.total / yr1.records) * 100   \n",
    "yr1"
   ]
  },
  {
   "cell_type": "code",
   "execution_count": null,
   "id": "042b59f8",
   "metadata": {},
   "outputs": [],
   "source": [
    "yr5 = f2_int.loc[(f2_int.post_inj_yr == 5)]\n",
    "yr5 = yr5.int_pleasb.value_counts().to_frame().reset_index()\n",
    "yr5 = yr5.rename(columns={'count' : 'total'})\n",
    "yr5 = yr5.loc[(yr5.int_pleasb != 'declined')]\n",
    "yr5['records'] = yr5.total.sum() \n",
    "yr5['yr5_per_int'] = (yr5.total / yr5.records) * 100   \n",
    "yr5"
   ]
  },
  {
   "cell_type": "code",
   "execution_count": null,
   "id": "27ef46ac",
   "metadata": {},
   "outputs": [],
   "source": [
    "yr10 = f2_int.loc[(f2_int.post_inj_yr == 10)]\n",
    "yr10 = yr10.int_pleasb.value_counts().to_frame().reset_index()\n",
    "yr10 = yr10.rename(columns={'count' : 'total'})\n",
    "yr10 = yr10.loc[(yr10.int_pleasb != 'declined')]\n",
    "yr10['records'] = yr10.total.sum() \n",
    "yr10['yr10_per_int'] = (yr10.total / yr10.records) * 100   \n",
    "yr10"
   ]
  },
  {
   "cell_type": "code",
   "execution_count": null,
   "id": "d8d47f28",
   "metadata": {},
   "outputs": [],
   "source": [
    "yr15 = f2_int.loc[(f2_int.post_inj_yr == 15)]\n",
    "yr15 = yr15.int_pleasb.value_counts().to_frame().reset_index()\n",
    "yr15 = yr15.rename(columns={'count' : 'total'})\n",
    "yr15 = yr15.loc[(yr15.int_pleasb != 'declined')]\n",
    "yr15['records'] = yr15.total.sum() \n",
    "yr15['yr15_per_int'] = (yr15.total / yr15.records) * 100   \n",
    "yr15"
   ]
  },
  {
   "cell_type": "code",
   "execution_count": null,
   "id": "69e6406a",
   "metadata": {},
   "outputs": [],
   "source": [
    "yr20 = f2_int.loc[(f2_int.post_inj_yr == 20)]\n",
    "yr20 = yr20.int_pleasb.value_counts().to_frame().reset_index()\n",
    "yr20 = yr20.rename(columns={'count' : 'total'})\n",
    "yr20 = yr20.loc[(yr20.int_pleasb != 'declined')]\n",
    "yr20['records'] = yr20.total.sum() \n",
    "yr20['yr20_per_int'] = (yr20.total / yr20.records) * 100   \n",
    "yr20"
   ]
  },
  {
   "cell_type": "code",
   "execution_count": null,
   "id": "8f655da1",
   "metadata": {},
   "outputs": [],
   "source": [
    "yr25 = f2_int.loc[(f2_int.post_inj_yr == 25)]\n",
    "yr25 = yr25.int_pleasb.value_counts().to_frame().reset_index()\n",
    "yr25 = yr25.rename(columns={'count' : 'total'})\n",
    "yr25 = yr25.loc[(yr25.int_pleasb != 'declined')]\n",
    "yr25['records'] = yr25.total.sum() \n",
    "yr25['yr25_per_int'] = (yr25.total / yr25.records) * 100   \n",
    "yr25"
   ]
  },
  {
   "cell_type": "code",
   "execution_count": null,
   "id": "534f82ac",
   "metadata": {},
   "outputs": [],
   "source": [
    "yr30 = f2_int.loc[(f2_int.post_inj_yr == 30)]\n",
    "yr30 = yr30.int_pleasb.value_counts().to_frame().reset_index()\n",
    "yr30 = yr30.rename(columns={'count' : 'total'})\n",
    "yr30 = yr30.loc[(yr30.int_pleasb != 'declined')]\n",
    "yr30['records'] = yr30.total.sum() \n",
    "yr30['yr30_per_int'] = (yr30.total / yr30.records) * 100   \n",
    "yr30"
   ]
  },
  {
   "cell_type": "code",
   "execution_count": null,
   "id": "a2c8ccaa",
   "metadata": {},
   "outputs": [],
   "source": [
    "yr1_5 = pd.merge(yr1, yr5, left_on=['int_pleasb'], right_on=['int_pleasb'],how='inner')\n",
    "yr1_5"
   ]
  },
  {
   "cell_type": "code",
   "execution_count": null,
   "id": "14ecb1ff",
   "metadata": {},
   "outputs": [],
   "source": [
    "yr1_10 = pd.merge(yr1_5, yr10, left_on=['int_pleasb'], right_on=['int_pleasb'],how='inner')\n",
    "yr1_10"
   ]
  },
  {
   "cell_type": "code",
   "execution_count": null,
   "id": "9a2a33d4",
   "metadata": {},
   "outputs": [],
   "source": [
    "yr1_10 = yr1_10[['int_pleasb','yr1_per_int', 'yr5_per_int', 'yr10_per_int']]\n",
    "yr1_10"
   ]
  },
  {
   "cell_type": "code",
   "execution_count": null,
   "id": "ab5e353a",
   "metadata": {},
   "outputs": [],
   "source": [
    "yr1_15 = pd.merge(yr1_10, yr15, left_on=['int_pleasb'], right_on=['int_pleasb'],how='inner')\n",
    "yr1_15"
   ]
  },
  {
   "cell_type": "code",
   "execution_count": null,
   "id": "aa7c1772",
   "metadata": {},
   "outputs": [],
   "source": [
    "yr1_20 = pd.merge(yr1_15, yr20, left_on=['int_pleasb'], right_on=['int_pleasb'],how='inner')\n",
    "yr1_20"
   ]
  },
  {
   "cell_type": "code",
   "execution_count": null,
   "id": "456809ab",
   "metadata": {},
   "outputs": [],
   "source": [
    "yr1_25 = pd.merge(yr1_20, yr25, left_on=['int_pleasb'], right_on=['int_pleasb'],how='inner')\n",
    "yr1_25"
   ]
  },
  {
   "cell_type": "code",
   "execution_count": null,
   "id": "4e76ecaf",
   "metadata": {},
   "outputs": [],
   "source": [
    "yr1_25 = yr1_25[['int_pleasb','yr1_per_int', 'yr5_per_int', 'yr10_per_int', 'yr15_per_int', 'yr20_per_int', 'yr25_per_int']]\n",
    "yr1_25"
   ]
  },
  {
   "cell_type": "code",
   "execution_count": null,
   "id": "b83e67cc",
   "metadata": {},
   "outputs": [],
   "source": [
    "yr1_30 = pd.merge(yr1_25, yr30, left_on=['int_pleasb'], right_on=['int_pleasb'],how='inner')\n",
    "yr1_30"
   ]
  },
  {
   "cell_type": "code",
   "execution_count": null,
   "id": "4e2af285",
   "metadata": {},
   "outputs": [],
   "source": [
    "yr1_30 = yr1_30[['int_pleasb','yr1_per_int', 'yr5_per_int', 'yr10_per_int', 'yr15_per_int', 'yr20_per_int', 'yr25_per_int', 'yr30_per_int']]\n",
    "yr1_30"
   ]
  },
  {
   "cell_type": "code",
   "execution_count": null,
   "id": "73932dcc",
   "metadata": {},
   "outputs": [],
   "source": [
    "yr1_30 = yr1_30.rename(columns={\n",
    "    'int_pleasb' : 'int_ples',\n",
    "    'yr1_per_int' : 'yr1',\n",
    "    'yr5_per_int' : 'yr5',\n",
    "    'yr10_per_int' : 'yr10',\n",
    "    'yr15_per_int' : 'yr15',\n",
    "    'yr20_per_int' : 'yr20',\n",
    "    'yr25_per_int' : 'yr25',\n",
    "    'yr30_per_int' : 'yr30',\n",
    "})\n",
    "\n",
    "yr1_30"
   ]
  },
  {
   "cell_type": "code",
   "execution_count": null,
   "id": "aca3f374",
   "metadata": {},
   "outputs": [],
   "source": [
    "yr_ai = f1_menphy[['int_pleas1','ai_per']]\n",
    "yr_ai"
   ]
  },
  {
   "cell_type": "code",
   "execution_count": null,
   "id": "56f08ed3",
   "metadata": {},
   "outputs": [],
   "source": [
    "yr_ai = yr_ai.rename(columns={\n",
    "    'int_pleas1' : 'int_ples',\n",
    "    'ai_per' : 'ai',\n",
    "})\n",
    "\n",
    "yr_ai"
   ]
  },
  {
   "cell_type": "code",
   "execution_count": null,
   "id": "aff2250d",
   "metadata": {},
   "outputs": [],
   "source": [
    "yr_all_int = pd.merge(yr_ai, yr1_30, left_on=['int_ples'], right_on=['int_ples'],how='inner')\n",
    "yr_all_int"
   ]
  },
  {
   "cell_type": "code",
   "execution_count": null,
   "id": "41a82cde",
   "metadata": {},
   "outputs": [],
   "source": [
    "f1_menphy.int_pleas1.value_counts().to_frame().reset_index()"
   ]
  },
  {
   "cell_type": "code",
   "execution_count": null,
   "id": "50c89610",
   "metadata": {},
   "outputs": [],
   "source": []
  },
  {
   "cell_type": "code",
   "execution_count": null,
   "id": "c990a1b2",
   "metadata": {},
   "outputs": [],
   "source": []
  },
  {
   "cell_type": "code",
   "execution_count": null,
   "id": "44ed8f0b",
   "metadata": {},
   "outputs": [],
   "source": []
  },
  {
   "cell_type": "code",
   "execution_count": null,
   "id": "29aa2fc3",
   "metadata": {},
   "outputs": [],
   "source": []
  },
  {
   "cell_type": "code",
   "execution_count": null,
   "id": "c6cd9dae",
   "metadata": {},
   "outputs": [],
   "source": []
  },
  {
   "cell_type": "code",
   "execution_count": null,
   "id": "8e55f8ec",
   "metadata": {},
   "outputs": [],
   "source": []
  },
  {
   "cell_type": "code",
   "execution_count": null,
   "id": "f5d0bfbe",
   "metadata": {},
   "outputs": [],
   "source": []
  },
  {
   "cell_type": "code",
   "execution_count": null,
   "id": "82b40872",
   "metadata": {},
   "outputs": [],
   "source": []
  },
  {
   "cell_type": "code",
   "execution_count": null,
   "id": "2b3bb69c",
   "metadata": {},
   "outputs": [],
   "source": []
  },
  {
   "cell_type": "code",
   "execution_count": null,
   "id": "4899a54b",
   "metadata": {},
   "outputs": [],
   "source": []
  },
  {
   "cell_type": "code",
   "execution_count": null,
   "id": "4f58b54f",
   "metadata": {},
   "outputs": [],
   "source": []
  },
  {
   "cell_type": "code",
   "execution_count": null,
   "id": "db809f38",
   "metadata": {},
   "outputs": [],
   "source": []
  },
  {
   "cell_type": "code",
   "execution_count": null,
   "id": "e4b7e1a3",
   "metadata": {},
   "outputs": [],
   "source": []
  },
  {
   "cell_type": "code",
   "execution_count": null,
   "id": "2376af1d",
   "metadata": {},
   "outputs": [],
   "source": []
  },
  {
   "cell_type": "code",
   "execution_count": null,
   "id": "ca71dcbc",
   "metadata": {},
   "outputs": [],
   "source": []
  },
  {
   "cell_type": "code",
   "execution_count": null,
   "id": "0ad58a67",
   "metadata": {},
   "outputs": [],
   "source": []
  },
  {
   "cell_type": "code",
   "execution_count": null,
   "id": "8329062f",
   "metadata": {},
   "outputs": [],
   "source": []
  },
  {
   "cell_type": "code",
   "execution_count": null,
   "id": "511365e8",
   "metadata": {},
   "outputs": [],
   "source": []
  },
  {
   "cell_type": "code",
   "execution_count": null,
   "id": "377b9c76",
   "metadata": {},
   "outputs": [],
   "source": []
  },
  {
   "cell_type": "code",
   "execution_count": null,
   "id": "73ddcfa3",
   "metadata": {},
   "outputs": [],
   "source": []
  },
  {
   "cell_type": "code",
   "execution_count": null,
   "id": "2843f920",
   "metadata": {},
   "outputs": [],
   "source": []
  },
  {
   "cell_type": "code",
   "execution_count": null,
   "id": "dec08ce7",
   "metadata": {
    "scrolled": true
   },
   "outputs": [],
   "source": []
  },
  {
   "cell_type": "code",
   "execution_count": null,
   "id": "1a90759a",
   "metadata": {},
   "outputs": [],
   "source": []
  },
  {
   "cell_type": "code",
   "execution_count": null,
   "id": "faf030b2",
   "metadata": {},
   "outputs": [],
   "source": []
  },
  {
   "cell_type": "markdown",
   "id": "14b77183",
   "metadata": {},
   "source": []
  },
  {
   "cell_type": "code",
   "execution_count": null,
   "id": "7bfa26d9",
   "metadata": {},
   "outputs": [],
   "source": []
  },
  {
   "cell_type": "code",
   "execution_count": null,
   "id": "137b8f1d",
   "metadata": {},
   "outputs": [],
   "source": []
  },
  {
   "cell_type": "code",
   "execution_count": null,
   "id": "07df1f7b",
   "metadata": {},
   "outputs": [],
   "source": []
  },
  {
   "cell_type": "code",
   "execution_count": null,
   "id": "3881efb9",
   "metadata": {},
   "outputs": [],
   "source": []
  },
  {
   "cell_type": "code",
   "execution_count": null,
   "id": "054cf9aa",
   "metadata": {},
   "outputs": [],
   "source": []
  },
  {
   "cell_type": "code",
   "execution_count": null,
   "id": "89491555",
   "metadata": {},
   "outputs": [],
   "source": []
  },
  {
   "cell_type": "code",
   "execution_count": null,
   "id": "83fadf9b",
   "metadata": {},
   "outputs": [],
   "source": []
  },
  {
   "cell_type": "code",
   "execution_count": null,
   "id": "b68793c1",
   "metadata": {},
   "outputs": [],
   "source": []
  },
  {
   "cell_type": "code",
   "execution_count": null,
   "id": "2c639ae8",
   "metadata": {},
   "outputs": [],
   "source": []
  },
  {
   "cell_type": "code",
   "execution_count": null,
   "id": "74abc917",
   "metadata": {},
   "outputs": [],
   "source": []
  },
  {
   "cell_type": "code",
   "execution_count": null,
   "id": "354d1387",
   "metadata": {},
   "outputs": [],
   "source": []
  },
  {
   "cell_type": "code",
   "execution_count": null,
   "id": "00ebbc81",
   "metadata": {},
   "outputs": [],
   "source": []
  },
  {
   "cell_type": "code",
   "execution_count": null,
   "id": "4fa48139",
   "metadata": {},
   "outputs": [],
   "source": []
  },
  {
   "cell_type": "code",
   "execution_count": null,
   "id": "f9029576",
   "metadata": {},
   "outputs": [],
   "source": []
  },
  {
   "cell_type": "code",
   "execution_count": null,
   "id": "1ebc5bf7",
   "metadata": {},
   "outputs": [],
   "source": []
  },
  {
   "cell_type": "code",
   "execution_count": null,
   "id": "b21970e2",
   "metadata": {},
   "outputs": [],
   "source": []
  },
  {
   "cell_type": "code",
   "execution_count": null,
   "id": "efc5bfef",
   "metadata": {},
   "outputs": [],
   "source": []
  },
  {
   "cell_type": "code",
   "execution_count": null,
   "id": "a6357144",
   "metadata": {},
   "outputs": [],
   "source": []
  },
  {
   "cell_type": "code",
   "execution_count": null,
   "id": "4e27a441",
   "metadata": {},
   "outputs": [],
   "source": []
  },
  {
   "cell_type": "code",
   "execution_count": null,
   "id": "f2147175",
   "metadata": {},
   "outputs": [],
   "source": []
  },
  {
   "cell_type": "code",
   "execution_count": null,
   "id": "e65eb880",
   "metadata": {},
   "outputs": [],
   "source": []
  },
  {
   "cell_type": "code",
   "execution_count": null,
   "id": "59c543df",
   "metadata": {},
   "outputs": [],
   "source": []
  },
  {
   "cell_type": "code",
   "execution_count": null,
   "id": "3de439c8",
   "metadata": {},
   "outputs": [],
   "source": []
  },
  {
   "cell_type": "code",
   "execution_count": null,
   "id": "a34d2de7",
   "metadata": {},
   "outputs": [],
   "source": []
  },
  {
   "cell_type": "code",
   "execution_count": null,
   "id": "d6df51ba",
   "metadata": {},
   "outputs": [],
   "source": []
  },
  {
   "cell_type": "code",
   "execution_count": null,
   "id": "5077cb15",
   "metadata": {},
   "outputs": [],
   "source": []
  },
  {
   "cell_type": "code",
   "execution_count": null,
   "id": "72dd80d4",
   "metadata": {},
   "outputs": [],
   "source": []
  },
  {
   "cell_type": "code",
   "execution_count": null,
   "id": "811e5874",
   "metadata": {},
   "outputs": [],
   "source": []
  },
  {
   "cell_type": "code",
   "execution_count": null,
   "id": "45cb801f",
   "metadata": {},
   "outputs": [],
   "source": []
  },
  {
   "cell_type": "code",
   "execution_count": null,
   "id": "94a2d74d",
   "metadata": {},
   "outputs": [],
   "source": []
  },
  {
   "cell_type": "code",
   "execution_count": null,
   "id": "c82c393b",
   "metadata": {},
   "outputs": [],
   "source": []
  },
  {
   "cell_type": "code",
   "execution_count": null,
   "id": "6a0e710f",
   "metadata": {},
   "outputs": [],
   "source": [
    "\n"
   ]
  },
  {
   "cell_type": "code",
   "execution_count": null,
   "id": "48d98496",
   "metadata": {},
   "outputs": [],
   "source": []
  },
  {
   "cell_type": "code",
   "execution_count": null,
   "id": "6426b3c8",
   "metadata": {},
   "outputs": [],
   "source": []
  },
  {
   "cell_type": "code",
   "execution_count": null,
   "id": "5b1997b9",
   "metadata": {},
   "outputs": [],
   "source": []
  },
  {
   "cell_type": "code",
   "execution_count": null,
   "id": "9a35cf4e",
   "metadata": {},
   "outputs": [],
   "source": []
  },
  {
   "cell_type": "code",
   "execution_count": null,
   "id": "e70ed5b4",
   "metadata": {},
   "outputs": [],
   "source": []
  },
  {
   "cell_type": "code",
   "execution_count": null,
   "id": "c92c5ef0",
   "metadata": {},
   "outputs": [],
   "source": []
  },
  {
   "cell_type": "code",
   "execution_count": null,
   "id": "f5950e07",
   "metadata": {},
   "outputs": [],
   "source": []
  },
  {
   "cell_type": "code",
   "execution_count": null,
   "id": "bad5708a",
   "metadata": {},
   "outputs": [],
   "source": []
  },
  {
   "cell_type": "code",
   "execution_count": null,
   "id": "9e3c2d9a",
   "metadata": {},
   "outputs": [],
   "source": []
  },
  {
   "cell_type": "code",
   "execution_count": null,
   "id": "1dfe3a51",
   "metadata": {},
   "outputs": [],
   "source": []
  },
  {
   "cell_type": "code",
   "execution_count": null,
   "id": "ec1b37cd",
   "metadata": {},
   "outputs": [],
   "source": []
  },
  {
   "cell_type": "code",
   "execution_count": null,
   "id": "85b6223c",
   "metadata": {},
   "outputs": [],
   "source": []
  },
  {
   "cell_type": "code",
   "execution_count": null,
   "id": "c549527c",
   "metadata": {},
   "outputs": [],
   "source": []
  },
  {
   "cell_type": "code",
   "execution_count": null,
   "id": "450e71a2",
   "metadata": {},
   "outputs": [],
   "source": []
  },
  {
   "cell_type": "code",
   "execution_count": null,
   "id": "84d89501",
   "metadata": {},
   "outputs": [],
   "source": []
  },
  {
   "cell_type": "code",
   "execution_count": null,
   "id": "4e432181",
   "metadata": {},
   "outputs": [],
   "source": []
  },
  {
   "cell_type": "code",
   "execution_count": null,
   "id": "106d7f2f",
   "metadata": {},
   "outputs": [],
   "source": []
  },
  {
   "cell_type": "code",
   "execution_count": null,
   "id": "ff6c6144",
   "metadata": {},
   "outputs": [],
   "source": []
  },
  {
   "cell_type": "code",
   "execution_count": null,
   "id": "aa4c8c26",
   "metadata": {},
   "outputs": [],
   "source": []
  },
  {
   "cell_type": "code",
   "execution_count": null,
   "id": "aaf81bdf",
   "metadata": {},
   "outputs": [],
   "source": []
  },
  {
   "cell_type": "code",
   "execution_count": null,
   "id": "99fb4893",
   "metadata": {},
   "outputs": [],
   "source": []
  },
  {
   "cell_type": "code",
   "execution_count": null,
   "id": "eb2f574c",
   "metadata": {},
   "outputs": [],
   "source": []
  },
  {
   "cell_type": "code",
   "execution_count": null,
   "id": "5e077882",
   "metadata": {},
   "outputs": [],
   "source": []
  },
  {
   "cell_type": "code",
   "execution_count": null,
   "id": "f1a601a1",
   "metadata": {},
   "outputs": [],
   "source": []
  },
  {
   "cell_type": "code",
   "execution_count": null,
   "id": "d810b681",
   "metadata": {},
   "outputs": [],
   "source": []
  },
  {
   "cell_type": "code",
   "execution_count": null,
   "id": "b6caeeb7",
   "metadata": {},
   "outputs": [],
   "source": []
  },
  {
   "cell_type": "code",
   "execution_count": null,
   "id": "d22eb8b9",
   "metadata": {},
   "outputs": [],
   "source": []
  },
  {
   "cell_type": "code",
   "execution_count": null,
   "id": "7e08e2aa",
   "metadata": {},
   "outputs": [],
   "source": []
  },
  {
   "cell_type": "code",
   "execution_count": null,
   "id": "5f09b064",
   "metadata": {},
   "outputs": [],
   "source": []
  },
  {
   "cell_type": "code",
   "execution_count": null,
   "id": "73d3ea55",
   "metadata": {},
   "outputs": [],
   "source": []
  },
  {
   "cell_type": "code",
   "execution_count": null,
   "id": "80f52211",
   "metadata": {},
   "outputs": [],
   "source": []
  },
  {
   "cell_type": "code",
   "execution_count": null,
   "id": "d7a12dea",
   "metadata": {},
   "outputs": [],
   "source": []
  },
  {
   "cell_type": "code",
   "execution_count": null,
   "id": "d4371449",
   "metadata": {},
   "outputs": [],
   "source": []
  },
  {
   "cell_type": "code",
   "execution_count": null,
   "id": "c7a12cc9",
   "metadata": {},
   "outputs": [],
   "source": []
  },
  {
   "cell_type": "code",
   "execution_count": null,
   "id": "ea43c7ec",
   "metadata": {},
   "outputs": [],
   "source": []
  },
  {
   "cell_type": "code",
   "execution_count": null,
   "id": "573e8064",
   "metadata": {},
   "outputs": [],
   "source": []
  },
  {
   "cell_type": "code",
   "execution_count": null,
   "id": "e31d1c1c",
   "metadata": {},
   "outputs": [],
   "source": []
  },
  {
   "cell_type": "code",
   "execution_count": null,
   "id": "edb2c104",
   "metadata": {},
   "outputs": [],
   "source": []
  },
  {
   "cell_type": "code",
   "execution_count": null,
   "id": "abf1c699",
   "metadata": {},
   "outputs": [],
   "source": []
  },
  {
   "cell_type": "code",
   "execution_count": null,
   "id": "b39e9632",
   "metadata": {},
   "outputs": [],
   "source": []
  },
  {
   "cell_type": "code",
   "execution_count": null,
   "id": "93825b91",
   "metadata": {},
   "outputs": [],
   "source": []
  },
  {
   "cell_type": "code",
   "execution_count": null,
   "id": "2d659410",
   "metadata": {},
   "outputs": [],
   "source": []
  }
 ],
 "metadata": {
  "kernelspec": {
   "display_name": "Python 3 (ipykernel)",
   "language": "python",
   "name": "python3"
  },
  "language_info": {
   "codemirror_mode": {
    "name": "ipython",
    "version": 3
   },
   "file_extension": ".py",
   "mimetype": "text/x-python",
   "name": "python",
   "nbconvert_exporter": "python",
   "pygments_lexer": "ipython3",
   "version": "3.11.5"
  }
 },
 "nbformat": 4,
 "nbformat_minor": 5
}
